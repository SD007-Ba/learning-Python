{
 "cells": [
  {
   "cell_type": "markdown",
   "id": "b2bb6c0f",
   "metadata": {},
   "source": [
    "## **Importing Libraries**"
   ]
  },
  {
   "cell_type": "code",
   "execution_count": 2,
   "id": "14a537e3",
   "metadata": {},
   "outputs": [],
   "source": [
    "import pandas as pd\n",
    "import seaborn as sns\n",
    "import matplotlib.pyplot as plt\n",
    "import numpy as np\n",
    "import plotly.express as px\n",
    "import plotly.graph_objects as go\n",
    "from plotly.subplots import make_subplots"
   ]
  },
  {
   "cell_type": "markdown",
   "id": "aa6fd67d",
   "metadata": {},
   "source": [
    "## **Loading Data**"
   ]
  },
  {
   "cell_type": "code",
   "execution_count": 3,
   "id": "dab23921",
   "metadata": {},
   "outputs": [],
   "source": [
    "df = pd.read_csv('data.csv')"
   ]
  },
  {
   "cell_type": "markdown",
   "id": "f9ec9950",
   "metadata": {},
   "source": [
    "## **Data Shape**"
   ]
  },
  {
   "cell_type": "code",
   "execution_count": 4,
   "id": "746e8de7",
   "metadata": {},
   "outputs": [
    {
     "name": "stdout",
     "output_type": "stream",
     "text": [
      "Number of rows:  3000\n",
      "Number of columns:  10\n"
     ]
    }
   ],
   "source": [
    "print('Number of rows: ', df.shape[0])\n",
    "print('Number of columns: ', df.shape[1])"
   ]
  },
  {
   "cell_type": "code",
   "execution_count": null,
   "id": "63ca9cf0",
   "metadata": {},
   "outputs": [
    {
     "data": {
      "text/html": [
       "<div>\n",
       "<style scoped>\n",
       "    .dataframe tbody tr th:only-of-type {\n",
       "        vertical-align: middle;\n",
       "    }\n",
       "\n",
       "    .dataframe tbody tr th {\n",
       "        vertical-align: top;\n",
       "    }\n",
       "\n",
       "    .dataframe thead th {\n",
       "        text-align: right;\n",
       "    }\n",
       "</style>\n",
       "<table border=\"1\" class=\"dataframe\">\n",
       "  <thead>\n",
       "    <tr style=\"text-align: right;\">\n",
       "      <th></th>\n",
       "      <th>Country</th>\n",
       "      <th>Year</th>\n",
       "      <th>Attack Type</th>\n",
       "      <th>Target Industry</th>\n",
       "      <th>Financial Loss (in Million $)</th>\n",
       "      <th>Number of Affected Users</th>\n",
       "      <th>Attack Source</th>\n",
       "      <th>Security Vulnerability Type</th>\n",
       "      <th>Defense Mechanism Used</th>\n",
       "      <th>Incident Resolution Time (in Hours)</th>\n",
       "    </tr>\n",
       "  </thead>\n",
       "  <tbody>\n",
       "    <tr>\n",
       "      <th>0</th>\n",
       "      <td>China</td>\n",
       "      <td>2019</td>\n",
       "      <td>Phishing</td>\n",
       "      <td>Education</td>\n",
       "      <td>80.53</td>\n",
       "      <td>773169</td>\n",
       "      <td>Hacker Group</td>\n",
       "      <td>Unpatched Software</td>\n",
       "      <td>VPN</td>\n",
       "      <td>63</td>\n",
       "    </tr>\n",
       "    <tr>\n",
       "      <th>1</th>\n",
       "      <td>China</td>\n",
       "      <td>2019</td>\n",
       "      <td>Ransomware</td>\n",
       "      <td>Retail</td>\n",
       "      <td>62.19</td>\n",
       "      <td>295961</td>\n",
       "      <td>Hacker Group</td>\n",
       "      <td>Unpatched Software</td>\n",
       "      <td>Firewall</td>\n",
       "      <td>71</td>\n",
       "    </tr>\n",
       "    <tr>\n",
       "      <th>2</th>\n",
       "      <td>India</td>\n",
       "      <td>2017</td>\n",
       "      <td>Man-in-the-Middle</td>\n",
       "      <td>IT</td>\n",
       "      <td>38.65</td>\n",
       "      <td>605895</td>\n",
       "      <td>Hacker Group</td>\n",
       "      <td>Weak Passwords</td>\n",
       "      <td>VPN</td>\n",
       "      <td>20</td>\n",
       "    </tr>\n",
       "    <tr>\n",
       "      <th>3</th>\n",
       "      <td>UK</td>\n",
       "      <td>2024</td>\n",
       "      <td>Ransomware</td>\n",
       "      <td>Telecommunications</td>\n",
       "      <td>41.44</td>\n",
       "      <td>659320</td>\n",
       "      <td>Nation-state</td>\n",
       "      <td>Social Engineering</td>\n",
       "      <td>AI-based Detection</td>\n",
       "      <td>7</td>\n",
       "    </tr>\n",
       "    <tr>\n",
       "      <th>4</th>\n",
       "      <td>Germany</td>\n",
       "      <td>2018</td>\n",
       "      <td>Man-in-the-Middle</td>\n",
       "      <td>IT</td>\n",
       "      <td>74.41</td>\n",
       "      <td>810682</td>\n",
       "      <td>Insider</td>\n",
       "      <td>Social Engineering</td>\n",
       "      <td>VPN</td>\n",
       "      <td>68</td>\n",
       "    </tr>\n",
       "  </tbody>\n",
       "</table>\n",
       "</div>"
      ],
      "text/plain": [
       "   Country  Year        Attack Type     Target Industry  \\\n",
       "0    China  2019           Phishing           Education   \n",
       "1    China  2019         Ransomware              Retail   \n",
       "2    India  2017  Man-in-the-Middle                  IT   \n",
       "3       UK  2024         Ransomware  Telecommunications   \n",
       "4  Germany  2018  Man-in-the-Middle                  IT   \n",
       "\n",
       "   Financial Loss (in Million $)  Number of Affected Users Attack Source  \\\n",
       "0                          80.53                    773169  Hacker Group   \n",
       "1                          62.19                    295961  Hacker Group   \n",
       "2                          38.65                    605895  Hacker Group   \n",
       "3                          41.44                    659320  Nation-state   \n",
       "4                          74.41                    810682       Insider   \n",
       "\n",
       "  Security Vulnerability Type Defense Mechanism Used  \\\n",
       "0          Unpatched Software                    VPN   \n",
       "1          Unpatched Software               Firewall   \n",
       "2              Weak Passwords                    VPN   \n",
       "3          Social Engineering     AI-based Detection   \n",
       "4          Social Engineering                    VPN   \n",
       "\n",
       "   Incident Resolution Time (in Hours)  \n",
       "0                                   63  \n",
       "1                                   71  \n",
       "2                                   20  \n",
       "3                                    7  \n",
       "4                                   68  "
      ]
     },
     "execution_count": 5,
     "metadata": {},
     "output_type": "execute_result"
    }
   ],
   "source": [
    "df.head()"
   ]
  },
  {
   "cell_type": "markdown",
   "id": "205f6227",
   "metadata": {},
   "source": [
    "## **Summary Statistics**"
   ]
  },
  {
   "cell_type": "code",
   "execution_count": 8,
   "id": "c23fc4af",
   "metadata": {},
   "outputs": [
    {
     "data": {
      "text/html": [
       "<div>\n",
       "<style scoped>\n",
       "    .dataframe tbody tr th:only-of-type {\n",
       "        vertical-align: middle;\n",
       "    }\n",
       "\n",
       "    .dataframe tbody tr th {\n",
       "        vertical-align: top;\n",
       "    }\n",
       "\n",
       "    .dataframe thead th {\n",
       "        text-align: right;\n",
       "    }\n",
       "</style>\n",
       "<table border=\"1\" class=\"dataframe\">\n",
       "  <thead>\n",
       "    <tr style=\"text-align: right;\">\n",
       "      <th></th>\n",
       "      <th>Year</th>\n",
       "      <th>Financial Loss (in Million $)</th>\n",
       "      <th>Number of Affected Users</th>\n",
       "      <th>Incident Resolution Time (in Hours)</th>\n",
       "    </tr>\n",
       "  </thead>\n",
       "  <tbody>\n",
       "    <tr>\n",
       "      <th>count</th>\n",
       "      <td>3000.000000</td>\n",
       "      <td>3000.000000</td>\n",
       "      <td>3000.000000</td>\n",
       "      <td>3000.000000</td>\n",
       "    </tr>\n",
       "    <tr>\n",
       "      <th>mean</th>\n",
       "      <td>2019.570333</td>\n",
       "      <td>50.492970</td>\n",
       "      <td>504684.136333</td>\n",
       "      <td>36.476000</td>\n",
       "    </tr>\n",
       "    <tr>\n",
       "      <th>std</th>\n",
       "      <td>2.857932</td>\n",
       "      <td>28.791415</td>\n",
       "      <td>289944.084972</td>\n",
       "      <td>20.570768</td>\n",
       "    </tr>\n",
       "    <tr>\n",
       "      <th>min</th>\n",
       "      <td>2015.000000</td>\n",
       "      <td>0.500000</td>\n",
       "      <td>424.000000</td>\n",
       "      <td>1.000000</td>\n",
       "    </tr>\n",
       "    <tr>\n",
       "      <th>25%</th>\n",
       "      <td>2017.000000</td>\n",
       "      <td>25.757500</td>\n",
       "      <td>255805.250000</td>\n",
       "      <td>19.000000</td>\n",
       "    </tr>\n",
       "    <tr>\n",
       "      <th>50%</th>\n",
       "      <td>2020.000000</td>\n",
       "      <td>50.795000</td>\n",
       "      <td>504513.000000</td>\n",
       "      <td>37.000000</td>\n",
       "    </tr>\n",
       "    <tr>\n",
       "      <th>75%</th>\n",
       "      <td>2022.000000</td>\n",
       "      <td>75.630000</td>\n",
       "      <td>758088.500000</td>\n",
       "      <td>55.000000</td>\n",
       "    </tr>\n",
       "    <tr>\n",
       "      <th>max</th>\n",
       "      <td>2024.000000</td>\n",
       "      <td>99.990000</td>\n",
       "      <td>999635.000000</td>\n",
       "      <td>72.000000</td>\n",
       "    </tr>\n",
       "  </tbody>\n",
       "</table>\n",
       "</div>"
      ],
      "text/plain": [
       "              Year  Financial Loss (in Million $)  Number of Affected Users  \\\n",
       "count  3000.000000                    3000.000000               3000.000000   \n",
       "mean   2019.570333                      50.492970             504684.136333   \n",
       "std       2.857932                      28.791415             289944.084972   \n",
       "min    2015.000000                       0.500000                424.000000   \n",
       "25%    2017.000000                      25.757500             255805.250000   \n",
       "50%    2020.000000                      50.795000             504513.000000   \n",
       "75%    2022.000000                      75.630000             758088.500000   \n",
       "max    2024.000000                      99.990000             999635.000000   \n",
       "\n",
       "       Incident Resolution Time (in Hours)  \n",
       "count                          3000.000000  \n",
       "mean                             36.476000  \n",
       "std                              20.570768  \n",
       "min                               1.000000  \n",
       "25%                              19.000000  \n",
       "50%                              37.000000  \n",
       "75%                              55.000000  \n",
       "max                              72.000000  "
      ]
     },
     "execution_count": 8,
     "metadata": {},
     "output_type": "execute_result"
    }
   ],
   "source": [
    "df.describe()"
   ]
  },
  {
   "cell_type": "code",
   "execution_count": 9,
   "id": "cfc0a437",
   "metadata": {},
   "outputs": [
    {
     "name": "stdout",
     "output_type": "stream",
     "text": [
      "<class 'pandas.core.frame.DataFrame'>\n",
      "RangeIndex: 3000 entries, 0 to 2999\n",
      "Data columns (total 10 columns):\n",
      " #   Column                               Non-Null Count  Dtype  \n",
      "---  ------                               --------------  -----  \n",
      " 0   Country                              3000 non-null   object \n",
      " 1   Year                                 3000 non-null   int64  \n",
      " 2   Attack Type                          3000 non-null   object \n",
      " 3   Target Industry                      3000 non-null   object \n",
      " 4   Financial Loss (in Million $)        3000 non-null   float64\n",
      " 5   Number of Affected Users             3000 non-null   int64  \n",
      " 6   Attack Source                        3000 non-null   object \n",
      " 7   Security Vulnerability Type          3000 non-null   object \n",
      " 8   Defense Mechanism Used               3000 non-null   object \n",
      " 9   Incident Resolution Time (in Hours)  3000 non-null   int64  \n",
      "dtypes: float64(1), int64(3), object(6)\n",
      "memory usage: 234.5+ KB\n"
     ]
    }
   ],
   "source": [
    "df.info()"
   ]
  },
  {
   "cell_type": "markdown",
   "id": "02ef2e4d",
   "metadata": {},
   "source": [
    "## **Variability**"
   ]
  },
  {
   "cell_type": "markdown",
   "id": "e8be9714",
   "metadata": {},
   "source": [
    "## **Distribution of Attac Types**"
   ]
  },
  {
   "cell_type": "code",
   "execution_count": 17,
   "id": "c53fa5f2",
   "metadata": {},
   "outputs": [],
   "source": [
    "attack_counts = df['Attack Type'].value_counts().reset_index()"
   ]
  },
  {
   "cell_type": "code",
   "execution_count": 22,
   "id": "2c25dcab",
   "metadata": {},
   "outputs": [
    {
     "data": {
      "application/vnd.plotly.v1+json": {
       "config": {
        "plotlyServerURL": "https://plot.ly"
       },
       "data": [
        {
         "hovertemplate": "Attack Type=%{x}<br>Count=%{y}<extra></extra>",
         "legendgroup": "DDoS",
         "marker": {
          "color": "#fee838",
          "pattern": {
           "shape": ""
          }
         },
         "name": "DDoS",
         "orientation": "v",
         "showlegend": true,
         "textposition": "auto",
         "texttemplate": "%{y}",
         "type": "bar",
         "x": [
          "DDoS"
         ],
         "xaxis": "x",
         "y": {
          "bdata": "EwI=",
          "dtype": "i2"
         },
         "yaxis": "y"
        },
        {
         "hovertemplate": "Attack Type=%{x}<br>Count=%{y}<extra></extra>",
         "legendgroup": "Phishing",
         "marker": {
          "color": "#e1cc55",
          "pattern": {
           "shape": ""
          }
         },
         "name": "Phishing",
         "orientation": "v",
         "showlegend": true,
         "textposition": "auto",
         "texttemplate": "%{y}",
         "type": "bar",
         "x": [
          "Phishing"
         ],
         "xaxis": "x",
         "y": {
          "bdata": "EQI=",
          "dtype": "i2"
         },
         "yaxis": "y"
        },
        {
         "hovertemplate": "Attack Type=%{x}<br>Count=%{y}<extra></extra>",
         "legendgroup": "SQL Injection",
         "marker": {
          "color": "#c3b369",
          "pattern": {
           "shape": ""
          }
         },
         "name": "SQL Injection",
         "orientation": "v",
         "showlegend": true,
         "textposition": "auto",
         "texttemplate": "%{y}",
         "type": "bar",
         "x": [
          "SQL Injection"
         ],
         "xaxis": "x",
         "y": {
          "bdata": "9wE=",
          "dtype": "i2"
         },
         "yaxis": "y"
        },
        {
         "hovertemplate": "Attack Type=%{x}<br>Count=%{y}<extra></extra>",
         "legendgroup": "Ransomware",
         "marker": {
          "color": "#a59c74",
          "pattern": {
           "shape": ""
          }
         },
         "name": "Ransomware",
         "orientation": "v",
         "showlegend": true,
         "textposition": "auto",
         "texttemplate": "%{y}",
         "type": "bar",
         "x": [
          "Ransomware"
         ],
         "xaxis": "x",
         "y": {
          "bdata": "7QE=",
          "dtype": "i2"
         },
         "yaxis": "y"
        },
        {
         "hovertemplate": "Attack Type=%{x}<br>Count=%{y}<extra></extra>",
         "legendgroup": "Malware",
         "marker": {
          "color": "#8a8678",
          "pattern": {
           "shape": ""
          }
         },
         "name": "Malware",
         "orientation": "v",
         "showlegend": true,
         "textposition": "auto",
         "texttemplate": "%{y}",
         "type": "bar",
         "x": [
          "Malware"
         ],
         "xaxis": "x",
         "y": {
          "bdata": "5QE=",
          "dtype": "i2"
         },
         "yaxis": "y"
        },
        {
         "hovertemplate": "Attack Type=%{x}<br>Count=%{y}<extra></extra>",
         "legendgroup": "Man-in-the-Middle",
         "marker": {
          "color": "#707173",
          "pattern": {
           "shape": ""
          }
         },
         "name": "Man-in-the-Middle",
         "orientation": "v",
         "showlegend": true,
         "textposition": "auto",
         "texttemplate": "%{y}",
         "type": "bar",
         "x": [
          "Man-in-the-Middle"
         ],
         "xaxis": "x",
         "y": {
          "bdata": "ywE=",
          "dtype": "i2"
         },
         "yaxis": "y"
        }
       ],
       "layout": {
        "barmode": "relative",
        "height": 500,
        "legend": {
         "title": {
          "text": "Attack Type"
         },
         "tracegroupgap": 0
        },
        "template": {
         "data": {
          "bar": [
           {
            "error_x": {
             "color": "#2a3f5f"
            },
            "error_y": {
             "color": "#2a3f5f"
            },
            "marker": {
             "line": {
              "color": "#E5ECF6",
              "width": 0.5
             },
             "pattern": {
              "fillmode": "overlay",
              "size": 10,
              "solidity": 0.2
             }
            },
            "type": "bar"
           }
          ],
          "barpolar": [
           {
            "marker": {
             "line": {
              "color": "#E5ECF6",
              "width": 0.5
             },
             "pattern": {
              "fillmode": "overlay",
              "size": 10,
              "solidity": 0.2
             }
            },
            "type": "barpolar"
           }
          ],
          "carpet": [
           {
            "aaxis": {
             "endlinecolor": "#2a3f5f",
             "gridcolor": "white",
             "linecolor": "white",
             "minorgridcolor": "white",
             "startlinecolor": "#2a3f5f"
            },
            "baxis": {
             "endlinecolor": "#2a3f5f",
             "gridcolor": "white",
             "linecolor": "white",
             "minorgridcolor": "white",
             "startlinecolor": "#2a3f5f"
            },
            "type": "carpet"
           }
          ],
          "choropleth": [
           {
            "colorbar": {
             "outlinewidth": 0,
             "ticks": ""
            },
            "type": "choropleth"
           }
          ],
          "contour": [
           {
            "colorbar": {
             "outlinewidth": 0,
             "ticks": ""
            },
            "colorscale": [
             [
              0,
              "#0d0887"
             ],
             [
              0.1111111111111111,
              "#46039f"
             ],
             [
              0.2222222222222222,
              "#7201a8"
             ],
             [
              0.3333333333333333,
              "#9c179e"
             ],
             [
              0.4444444444444444,
              "#bd3786"
             ],
             [
              0.5555555555555556,
              "#d8576b"
             ],
             [
              0.6666666666666666,
              "#ed7953"
             ],
             [
              0.7777777777777778,
              "#fb9f3a"
             ],
             [
              0.8888888888888888,
              "#fdca26"
             ],
             [
              1,
              "#f0f921"
             ]
            ],
            "type": "contour"
           }
          ],
          "contourcarpet": [
           {
            "colorbar": {
             "outlinewidth": 0,
             "ticks": ""
            },
            "type": "contourcarpet"
           }
          ],
          "heatmap": [
           {
            "colorbar": {
             "outlinewidth": 0,
             "ticks": ""
            },
            "colorscale": [
             [
              0,
              "#0d0887"
             ],
             [
              0.1111111111111111,
              "#46039f"
             ],
             [
              0.2222222222222222,
              "#7201a8"
             ],
             [
              0.3333333333333333,
              "#9c179e"
             ],
             [
              0.4444444444444444,
              "#bd3786"
             ],
             [
              0.5555555555555556,
              "#d8576b"
             ],
             [
              0.6666666666666666,
              "#ed7953"
             ],
             [
              0.7777777777777778,
              "#fb9f3a"
             ],
             [
              0.8888888888888888,
              "#fdca26"
             ],
             [
              1,
              "#f0f921"
             ]
            ],
            "type": "heatmap"
           }
          ],
          "histogram": [
           {
            "marker": {
             "pattern": {
              "fillmode": "overlay",
              "size": 10,
              "solidity": 0.2
             }
            },
            "type": "histogram"
           }
          ],
          "histogram2d": [
           {
            "colorbar": {
             "outlinewidth": 0,
             "ticks": ""
            },
            "colorscale": [
             [
              0,
              "#0d0887"
             ],
             [
              0.1111111111111111,
              "#46039f"
             ],
             [
              0.2222222222222222,
              "#7201a8"
             ],
             [
              0.3333333333333333,
              "#9c179e"
             ],
             [
              0.4444444444444444,
              "#bd3786"
             ],
             [
              0.5555555555555556,
              "#d8576b"
             ],
             [
              0.6666666666666666,
              "#ed7953"
             ],
             [
              0.7777777777777778,
              "#fb9f3a"
             ],
             [
              0.8888888888888888,
              "#fdca26"
             ],
             [
              1,
              "#f0f921"
             ]
            ],
            "type": "histogram2d"
           }
          ],
          "histogram2dcontour": [
           {
            "colorbar": {
             "outlinewidth": 0,
             "ticks": ""
            },
            "colorscale": [
             [
              0,
              "#0d0887"
             ],
             [
              0.1111111111111111,
              "#46039f"
             ],
             [
              0.2222222222222222,
              "#7201a8"
             ],
             [
              0.3333333333333333,
              "#9c179e"
             ],
             [
              0.4444444444444444,
              "#bd3786"
             ],
             [
              0.5555555555555556,
              "#d8576b"
             ],
             [
              0.6666666666666666,
              "#ed7953"
             ],
             [
              0.7777777777777778,
              "#fb9f3a"
             ],
             [
              0.8888888888888888,
              "#fdca26"
             ],
             [
              1,
              "#f0f921"
             ]
            ],
            "type": "histogram2dcontour"
           }
          ],
          "mesh3d": [
           {
            "colorbar": {
             "outlinewidth": 0,
             "ticks": ""
            },
            "type": "mesh3d"
           }
          ],
          "parcoords": [
           {
            "line": {
             "colorbar": {
              "outlinewidth": 0,
              "ticks": ""
             }
            },
            "type": "parcoords"
           }
          ],
          "pie": [
           {
            "automargin": true,
            "type": "pie"
           }
          ],
          "scatter": [
           {
            "fillpattern": {
             "fillmode": "overlay",
             "size": 10,
             "solidity": 0.2
            },
            "type": "scatter"
           }
          ],
          "scatter3d": [
           {
            "line": {
             "colorbar": {
              "outlinewidth": 0,
              "ticks": ""
             }
            },
            "marker": {
             "colorbar": {
              "outlinewidth": 0,
              "ticks": ""
             }
            },
            "type": "scatter3d"
           }
          ],
          "scattercarpet": [
           {
            "marker": {
             "colorbar": {
              "outlinewidth": 0,
              "ticks": ""
             }
            },
            "type": "scattercarpet"
           }
          ],
          "scattergeo": [
           {
            "marker": {
             "colorbar": {
              "outlinewidth": 0,
              "ticks": ""
             }
            },
            "type": "scattergeo"
           }
          ],
          "scattergl": [
           {
            "marker": {
             "colorbar": {
              "outlinewidth": 0,
              "ticks": ""
             }
            },
            "type": "scattergl"
           }
          ],
          "scattermap": [
           {
            "marker": {
             "colorbar": {
              "outlinewidth": 0,
              "ticks": ""
             }
            },
            "type": "scattermap"
           }
          ],
          "scattermapbox": [
           {
            "marker": {
             "colorbar": {
              "outlinewidth": 0,
              "ticks": ""
             }
            },
            "type": "scattermapbox"
           }
          ],
          "scatterpolar": [
           {
            "marker": {
             "colorbar": {
              "outlinewidth": 0,
              "ticks": ""
             }
            },
            "type": "scatterpolar"
           }
          ],
          "scatterpolargl": [
           {
            "marker": {
             "colorbar": {
              "outlinewidth": 0,
              "ticks": ""
             }
            },
            "type": "scatterpolargl"
           }
          ],
          "scatterternary": [
           {
            "marker": {
             "colorbar": {
              "outlinewidth": 0,
              "ticks": ""
             }
            },
            "type": "scatterternary"
           }
          ],
          "surface": [
           {
            "colorbar": {
             "outlinewidth": 0,
             "ticks": ""
            },
            "colorscale": [
             [
              0,
              "#0d0887"
             ],
             [
              0.1111111111111111,
              "#46039f"
             ],
             [
              0.2222222222222222,
              "#7201a8"
             ],
             [
              0.3333333333333333,
              "#9c179e"
             ],
             [
              0.4444444444444444,
              "#bd3786"
             ],
             [
              0.5555555555555556,
              "#d8576b"
             ],
             [
              0.6666666666666666,
              "#ed7953"
             ],
             [
              0.7777777777777778,
              "#fb9f3a"
             ],
             [
              0.8888888888888888,
              "#fdca26"
             ],
             [
              1,
              "#f0f921"
             ]
            ],
            "type": "surface"
           }
          ],
          "table": [
           {
            "cells": {
             "fill": {
              "color": "#EBF0F8"
             },
             "line": {
              "color": "white"
             }
            },
            "header": {
             "fill": {
              "color": "#C8D4E3"
             },
             "line": {
              "color": "white"
             }
            },
            "type": "table"
           }
          ]
         },
         "layout": {
          "annotationdefaults": {
           "arrowcolor": "#2a3f5f",
           "arrowhead": 0,
           "arrowwidth": 1
          },
          "autotypenumbers": "strict",
          "coloraxis": {
           "colorbar": {
            "outlinewidth": 0,
            "ticks": ""
           }
          },
          "colorscale": {
           "diverging": [
            [
             0,
             "#8e0152"
            ],
            [
             0.1,
             "#c51b7d"
            ],
            [
             0.2,
             "#de77ae"
            ],
            [
             0.3,
             "#f1b6da"
            ],
            [
             0.4,
             "#fde0ef"
            ],
            [
             0.5,
             "#f7f7f7"
            ],
            [
             0.6,
             "#e6f5d0"
            ],
            [
             0.7,
             "#b8e186"
            ],
            [
             0.8,
             "#7fbc41"
            ],
            [
             0.9,
             "#4d9221"
            ],
            [
             1,
             "#276419"
            ]
           ],
           "sequential": [
            [
             0,
             "#0d0887"
            ],
            [
             0.1111111111111111,
             "#46039f"
            ],
            [
             0.2222222222222222,
             "#7201a8"
            ],
            [
             0.3333333333333333,
             "#9c179e"
            ],
            [
             0.4444444444444444,
             "#bd3786"
            ],
            [
             0.5555555555555556,
             "#d8576b"
            ],
            [
             0.6666666666666666,
             "#ed7953"
            ],
            [
             0.7777777777777778,
             "#fb9f3a"
            ],
            [
             0.8888888888888888,
             "#fdca26"
            ],
            [
             1,
             "#f0f921"
            ]
           ],
           "sequentialminus": [
            [
             0,
             "#0d0887"
            ],
            [
             0.1111111111111111,
             "#46039f"
            ],
            [
             0.2222222222222222,
             "#7201a8"
            ],
            [
             0.3333333333333333,
             "#9c179e"
            ],
            [
             0.4444444444444444,
             "#bd3786"
            ],
            [
             0.5555555555555556,
             "#d8576b"
            ],
            [
             0.6666666666666666,
             "#ed7953"
            ],
            [
             0.7777777777777778,
             "#fb9f3a"
            ],
            [
             0.8888888888888888,
             "#fdca26"
            ],
            [
             1,
             "#f0f921"
            ]
           ]
          },
          "colorway": [
           "#636efa",
           "#EF553B",
           "#00cc96",
           "#ab63fa",
           "#FFA15A",
           "#19d3f3",
           "#FF6692",
           "#B6E880",
           "#FF97FF",
           "#FECB52"
          ],
          "font": {
           "color": "#2a3f5f"
          },
          "geo": {
           "bgcolor": "white",
           "lakecolor": "white",
           "landcolor": "#E5ECF6",
           "showlakes": true,
           "showland": true,
           "subunitcolor": "white"
          },
          "hoverlabel": {
           "align": "left"
          },
          "hovermode": "closest",
          "mapbox": {
           "style": "light"
          },
          "paper_bgcolor": "white",
          "plot_bgcolor": "#E5ECF6",
          "polar": {
           "angularaxis": {
            "gridcolor": "white",
            "linecolor": "white",
            "ticks": ""
           },
           "bgcolor": "#E5ECF6",
           "radialaxis": {
            "gridcolor": "white",
            "linecolor": "white",
            "ticks": ""
           }
          },
          "scene": {
           "xaxis": {
            "backgroundcolor": "#E5ECF6",
            "gridcolor": "white",
            "gridwidth": 2,
            "linecolor": "white",
            "showbackground": true,
            "ticks": "",
            "zerolinecolor": "white"
           },
           "yaxis": {
            "backgroundcolor": "#E5ECF6",
            "gridcolor": "white",
            "gridwidth": 2,
            "linecolor": "white",
            "showbackground": true,
            "ticks": "",
            "zerolinecolor": "white"
           },
           "zaxis": {
            "backgroundcolor": "#E5ECF6",
            "gridcolor": "white",
            "gridwidth": 2,
            "linecolor": "white",
            "showbackground": true,
            "ticks": "",
            "zerolinecolor": "white"
           }
          },
          "shapedefaults": {
           "line": {
            "color": "#2a3f5f"
           }
          },
          "ternary": {
           "aaxis": {
            "gridcolor": "white",
            "linecolor": "white",
            "ticks": ""
           },
           "baxis": {
            "gridcolor": "white",
            "linecolor": "white",
            "ticks": ""
           },
           "bgcolor": "#E5ECF6",
           "caxis": {
            "gridcolor": "white",
            "linecolor": "white",
            "ticks": ""
           }
          },
          "title": {
           "x": 0.05
          },
          "xaxis": {
           "automargin": true,
           "gridcolor": "white",
           "linecolor": "white",
           "ticks": "",
           "title": {
            "standoff": 15
           },
           "zerolinecolor": "white",
           "zerolinewidth": 2
          },
          "yaxis": {
           "automargin": true,
           "gridcolor": "white",
           "linecolor": "white",
           "ticks": "",
           "title": {
            "standoff": 15
           },
           "zerolinecolor": "white",
           "zerolinewidth": 2
          }
         }
        },
        "title": {
         "text": "Distribution of Attack Types"
        },
        "width": 800,
        "xaxis": {
         "anchor": "y",
         "categoryarray": [
          "DDoS",
          "Phishing",
          "SQL Injection",
          "Ransomware",
          "Malware",
          "Man-in-the-Middle"
         ],
         "categoryorder": "array",
         "domain": [
          0,
          1
         ],
         "title": {
          "text": "Attack Type"
         }
        },
        "yaxis": {
         "anchor": "x",
         "domain": [
          0,
          1
         ],
         "title": {
          "text": "Count"
         }
        }
       }
      }
     },
     "metadata": {},
     "output_type": "display_data"
    }
   ],
   "source": [
    "attack_counts = df['Attack Type'].value_counts().reset_index()\n",
    "attack_counts.columns = ['Attack Type', 'Count']\n",
    "\n",
    "fig = px.bar(\n",
    "    attack_counts, \n",
    "    x='Attack Type', \n",
    "    y='Count',\n",
    "    title='Distribution of Attack Types',\n",
    "    color='Attack Type',\n",
    "    text_auto=True,\n",
    "    width=800,\n",
    "    height=500,\n",
    "    color_discrete_sequence=px.colors.sequential.Cividis_r\n",
    "\n",
    ")\n",
    "\n",
    "fig.show()"
   ]
  },
  {
   "cell_type": "markdown",
   "id": "ab7106a9",
   "metadata": {},
   "source": [
    "## **Financial Loss Distribution**"
   ]
  },
  {
   "cell_type": "code",
   "execution_count": 26,
   "id": "f0da4b2c",
   "metadata": {},
   "outputs": [
    {
     "data": {
      "application/vnd.plotly.v1+json": {
       "config": {
        "plotlyServerURL": "https://plot.ly"
       },
       "data": [
        {
         "bingroup": "x",
         "hovertemplate": "Financial Loss (in Million $)=%{x}<br>count=%{y}<extra></extra>",
         "legendgroup": "",
         "marker": {
          "color": "#636efa",
          "pattern": {
           "shape": ""
          }
         },
         "name": "",
         "nbinsx": 10,
         "orientation": "v",
         "showlegend": false,
         "type": "histogram",
         "x": {
          "bdata": "UrgeheshVEC4HoXrURhPQDMzMzMzU0NAuB6F61G4REAK16NwPZpSQI/C9Shcj1hA4XoUrkehQEA9CtejcJ1NQOF6FK5H4TBAKVyPwvVIUUB7FK5H4SpWQEjhehSuZ0NAj8L1KFyPPkCPwvUoXC9NQOF6FK5HAUhApHA9CtcTUEAUrkfhehQqQClcj8L1SFdAhetRuB4FLECamZmZmTlCQGZmZmZmxkhAuB6F61G4MUA9CtejcC1TQOxRuB6FazRA7FG4HoXrSUBI4XoUrodJQIXrUbgehUpA7FG4HoUrOkAUrkfhetRVQM3MzMzMrFRAj8L1KFyPUEDhehSuR2EyQB+F61G4fkVArkfhehSeWECF61G4HgUtQAAAAAAAwDFAj8L1KFzPM0DhehSuR6FUQKRwPQrXQ0BAH4XrUbg+WEApXI/C9RhYQPYoXI/ChVhAw/UoXI/iQ0BI4XoUrodSQM3MzMzMPFdAFK5H4XpUNEAUrkfhelQ7QMP1KFyPAjVAUrgehetRK0D2KFyPwvVSQLgehetR2E1AuB6F61G4NUCF61G4HmVVQNejcD0Kx1JAmpmZmZmZJUDhehSuR5FVQGZmZmZmxlBA7FG4HoUbU0AzMzMzM7NFQBSuR+F6VFdAzczMzMzMQUA9CtejcF1FQEjhehSuV1JA7FG4HoVLUkBmZmZmZhZSQOxRuB6F61VACtejcD3KUEDsUbgehdtUQClcj8L1qDxAhetRuB6FS0DhehSuR8FFQHsUrkfhujRAXI/C9SiMU0CF61G4HgU9QKRwPQrX41VAZmZmZmamOEDhehSuR+ExQMP1KFyPAjVAAAAAAAAgTkCF61G4HoUaQDMzMzMzMxdAcT0K16OQUUAK16NwPQpPQM3MzMzMjFZA9ihcj8IVRkDXo3A9CpdLQClcj8L1qERA9ihcj8J1QEBSuB6F61EuQAAAAAAAQE9ACtejcD06UUBxPQrXo1BUQEjhehSuJ01AmpmZmZkpVkApXI/C9Sj4Pz0K16NwnUhAUrgeheshVUC4HoXrUahWQHE9CtejEFRAH4XrUbjeNkAK16NwPco3QNejcD0Kt0FA4XoUrkexUkAK16NwPapQQLgehetRiFNASOF6FK7HJkD2KFyPwvVVQFyPwvUoXCRArkfhehSuEUAfhetRuD5TQI/C9ShcT1JAuB6F61E4IEDNzMzMzIw3QMP1KFyPMldA16NwPQrHUUDsUbgehatMQHE9CtejUFRASOF6FK5HHUDD9ShcjyJMQHE9Ctej8FRAKVyPwvVoVUBSuB6F67FOQFK4HoXrEUVAmpmZmZmZV0DsUbgehStVQIXrUbgeVVdAPQrXo3CdUUB7FK5H4VpIQFK4HoXrQVFAuB6F61GYSEAzMzMzMzM7QIXrUbgeBVBAexSuR+E6Q0ApXI/C9ThUQIXrUbgehS9Aj8L1KFyPVECuR+F6FK5UQPYoXI/C9TJAUrgeheuxSkAzMzMzM3NIQMP1KFyPYk5Aj8L1KFzPVkCuR+F6FK5EQOxRuB6Fi1NAKVyPwvUoMEDD9Shcj0IvQIXrUbgeJUJAFK5H4Xq0TkBcj8L1KNxKQGZmZmZmZjFAXI/C9Sj8UkAzMzMzM/NLQOF6FK5HYUxAAAAAAAAQU0AfhetRuM5SQHE9CtejcA9ACtejcD3aWEBSuB6F63FAQClcj8L1qDVA16NwPQp3VUAfhetRuA5UQOxRuB6F6z9ApHA9CteDQ0BSuB6F68FYQJqZmZmZGTlA4XoUrkfRUECkcD0K1+M9QNejcD0K1y9A7FG4HoX7V0C4HoXrUTgpQPYoXI/C9UNAXI/C9ShcM0CuR+F6FJ5RQOxRuB6Fq0pAmpmZmZkJVUCkcD0K16M7QIXrUbgeBSJAKVyPwvUoIkCamZmZmflQQEjhehSux1FAUrgehetRGEBmZmZmZrZWQBSuR+F6VFNAhetRuB4FKEBI4XoUrkfhP4XrUbge1VdAw/UoXI9iT0CkcD0K18NUQClcj8L16FFA9ihcj8LVR0CuR+F6FO5TQK5H4XoUjkdAXI/C9ShsUUCkcD0K11NUQLgehetR+FRAcT0K16NAVUDNzMzMzIw0QArXo3A9Ck5AmpmZmZl5R0CamZmZmZlHQPYoXI/CdUdArkfhehSu/z+PwvUoXI8sQB+F61G4jlBACtejcD3qV0C4HoXrUYhWQJqZmZmZOVVAXI/C9SjMUUDD9Shcj9JYQNejcD0K1zZAXI/C9SiMVEBxPQrXo3AnQBSuR+F6FDtAPQrXo3C9PkDXo3A9CudTQK5H4XoUzlhAexSuR+F6PUB7FK5H4XofQOF6FK5HsVVAZmZmZmYmNEBxPQrXo/A/QBSuR+F6tFNASOF6FK5nUEBSuB6F6+FSQEjhehSuB0JAFK5H4XoEUUAK16NwPUo6QB+F61G4HjpAXI/C9SicV0BI4XoUrodSQNejcD0K1ylA7FG4HoVbUkBcj8L1KMxYQPYoXI/CtTZASOF6FK7nUEApXI/C9ehKQArXo3A96ktAH4XrUbgeMUApXI/C9fhQQClcj8L1KBZApHA9CtejS0DD9Shcj8JMQJqZmZmZqVJAUrgeheuRSECF61G4HgVCQK5H4XoULixA16NwPQqXUECPwvUoXA8hQBSuR+F69E5AXI/C9Sg8S0C4HoXrUfhVQK5H4XoUTlZAexSuR+E6UEBcj8L1KFwaQAAAAAAAAEhAUrgehevxVUD2KFyPwnUvQMP1KFyPQj5A7FG4HoVLS0DsUbgehYtPQK5H4XoUrk1A4XoUrkfhU0CF61G4HvVVQLgehetRKFhArkfhehRuSkAK16NwPQoQQOF6FK5HAVFAexSuR+HKUECamZmZmblCQKRwPQrXY0JAFK5H4XpUREDsUbgehTtTQBSuR+F6dE1AZmZmZmZmV0BSuB6F67FHQK5H4XoUrglAAAAAAACwWEAzMzMzM3M7QHsUrkfh+jdA7FG4HoX7U0BI4XoUrkcNQFK4HoXrMVJAuB6F61F4UkBmZmZmZmZKQGZmZmZmpldA7FG4HoXr+T89CtejcD3qPwrXo3A9ulZA7FG4HoVrQEAK16NwPapPQFK4HoXr0TtA7FG4HoXrHkA9CtejcH1HQNejcD0KB1RAH4XrUbieJ0CuR+F6FC4uQHE9CtejsDRArkfhehRuQkA9CtejcL0lQOxRuB6FKzJASOF6FK7HK0DD9Shcj0IvQFyPwvUoXEBAUrgehetBWEC4HoXrUehSQD0K16NwDVBAKVyPwvXIWEBxPQrXo+BSQFyPwvUoXCdA7FG4HoXrQEBSuB6F63FDQOF6FK5HcVZAhetRuB4FLkC4HoXrUZhYQD0K16NwfTdAXI/C9SjcIkBI4XoUrldYQHE9CtejUFJA9ihcj8K1U0AUrkfhehQMQFK4HoXrUTlApHA9CtdjTUBxPQrXo3BSQI/C9ShcDztAFK5H4Xp0U0AfhetRuP5LQD0K16Nw3UtAw/UoXI/CHUApXI/C9YhCQHsUrkfh6lJAuB6F61EYTEBSuB6F66FRQMP1KFyP4k9APQrXo3BdQEAfhetRuN41QIXrUbgeBVJAKVyPwvXoSkBmZmZmZmYKQHsUrkfh+itAj8L1KFxfV0BSuB6F61FYQHE9CtejMDFAexSuR+EaS0BSuB6F6xFQQKRwPQrX01FASOF6FK4nSkC4HoXrUXhEQHsUrkfhGkBAcT0K16NwNEAUrkfhetRNQArXo3A9KkxA7FG4HoXrAUAzMzMzM4NUQNejcD0K1ydACtejcD1qS0D2KFyPwhVCQKRwPQrXA1RAZmZmZma2UkBxPQrXo4BSQJqZmZmZGUdArkfhehQuI0Bcj8L1KExUQGZmZmZmZkVAMzMzMzNTQEA9CtejcP0xQK5H4XoUrj5ASOF6FK6HVEC4HoXrUahXQKRwPQrXA0tAFK5H4XoUJUAUrkfhejRBQOF6FK5HEVVACtejcD2KQUCuR+F6FI5GQBSuR+F6JFdAexSuR+H6KkDXo3A9CtcgQAAAAAAAIFdAZmZmZmbmT0CuR+F6FG5EQI/C9Shcz1NAMzMzMzOTQkBI4XoUrgdPQEjhehSuBz9Aw/UoXI+iVEAzMzMzMzNBQM3MzMzMDFJAPQrXo3AdSkCkcD0K16McQB+F61G4jlNAmpmZmZkZOUDD9ShcjyJWQOF6FK5HwUhAUrgehetREECkcD0K11NWQDMzMzMzI1ZACtejcD0KFUBSuB6F65ExQIXrUbgeBSBArkfhehTuQ0C4HoXrUTgnQB+F61G4flJA16NwPQp3UEDhehSuR6FEQLgehetRGFBAcT0K16PAUkCuR+F6FK77P5qZmZmZmfU/uB6F61G4UUAK16NwPQpAQI/C9ShcP1FACtejcD2KI0CPwvUoXA8tQEjhehSuh0BA16NwPQrnUEAzMzMzM1NVQOxRuB6F61NAj8L1KFzvTkCuR+F6FK4TQK5H4XoU/lhAexSuR+HaV0A9CtejcH1FQHsUrkfhGlFAUrgehesRQkBxPQrXo3BRQClcj8L1KAhAw/UoXI+SVUA9CtejcD0ZQPYoXI/CdTtAUrgehetRUUA9CtejcD1RQM3MzMzMzAZA4XoUrkfhSkAUrkfhetQ5QOF6FK5H4UVAZmZmZmbmIkApXI/C9chPQJqZmZmZmSZA16NwPQqHVEDXo3A9CtcUQAAAAAAAsFhA7FG4HoWrS0C4HoXrUbgoQOxRuB6F6xlApHA9CtdDTEAzMzMzM5NEQArXo3A96kNA7FG4HoXLR0CkcD0K14NYQMP1KFyPokxAj8L1KFyfVEA9CtejcN1CQM3MzMzMXFNA4XoUrkfhUkCPwvUoXI8mQLgehetRWEJAhetRuB7VU0CkcD0K1+NNQDMzMzMzU0NAw/UoXI9SVUAfhetRuL5CQClcj8L1SEhAAAAAAAAACEBI4XoUrodAQJqZmZmZuVFAj8L1KFwPQ0C4HoXrUZhBQJqZmZmZOVZA16NwPQrXH0C4HoXrUZhQQM3MzMzM3FZAMzMzMzPTT0Bcj8L1KAxVQJqZmZmZWTxAH4XrUbgOVUCkcD0K1+M9QM3MzMzMzBdAZmZmZmY2VUBSuB6F69E8QHsUrkfhejZASOF6FK5XWEApXI/C9ahKQK5H4XoUjk9AXI/C9SiMUUDD9ShcjxJXQBSuR+F6hFhA7FG4HoXrK0AzMzMzM3NMQLgehetRWEBA9ihcj8KFUUAfhetRuJ42QBSuR+F69EdAFK5H4XqUNEAK16NwPUo6QOF6FK5HwUBAUrgehesRUUBxPQrXo3AtQIXrUbgeJUZAhetRuB7FREB7FK5H4apWQLgehetReEFAH4XrUbjuVEBI4XoUridQQLgehetRmFVAMzMzMzOzOUCamZmZmRlMQMP1KFyPwiZAUrgeheshV0BmZmZmZiZWQGZmZmZmZj5AzczMzMysVkBxPQrXo7BGQIXrUbge1VFA16NwPQrXIkAUrkfhehQVQOxRuB6Fy0RAUrgeheuxWEAfhetRuJ5OQPYoXI/CVVFAXI/C9ShcH0D2KFyPwpVMQB+F61G4/kBAMzMzMzNzNkBI4XoUrsc7QI/C9Shcj0dAw/UoXI9iSEBmZmZmZhZXQB+F61G4PlZAuB6F61HYTkAUrkfheiRVQEjhehSu91BAmpmZmZnZTUA9CtejcI1WQHsUrkfhOjBAKVyPwvXoMEBxPQrXo/BEQArXo3A9Cj9Aj8L1KFyPQkCamZmZmRlHQDMzMzMzk1hAXI/C9SicMECkcD0K18NRQNejcD0KVyxAmpmZmZmpVEDhehSuR5FTQOF6FK5H4SRAMzMzMzPzNUAUrkfhetQ+QClcj8L1yEFACtejcD1KPEA9CtejcD0QQKRwPQrXI01APQrXo3A9HUC4HoXrUdhCQD0K16Nw/TtAMzMzMzPjUUDhehSuRyE7QI/C9ShcjyRAmpmZmZlZP0BmZmZmZgZUQLgehetRGEVAPQrXo3B9REBmZmZmZmZNQKRwPQrXowpAPQrXo3B9TUBmZmZmZmYSQArXo3A9OlhACtejcD16VUAfhetRuL5JQOxRuB6F6w9AhetRuB6FC0CamZmZmVlKQClcj8L1KCdAXI/C9SjsVkApXI/C9fhTQB+F61G4vkpAKVyPwvXoMkCuR+F6FK4uQHE9CtejcClA7FG4HoVLR0AzMzMzM3NPQIXrUbgeVVVAmpmZmZlJVUCkcD0K18NKQEjhehSuRxFArkfhehSuP0DhehSuRzFVQEjhehSut1RASOF6FK5HFUB7FK5H4Xo/QAAAAAAAgFVAXI/C9Si8QUAAAAAAALBXQOxRuB6Fy0NA4XoUrkehUUBmZmZmZmYaQJqZmZmZ2TlA7FG4HoU7VEBI4XoUrudPQArXo3A9Cg1A9ihcj8IFVEDD9Shcj4I4QD0K16NwHUxAPQrXo3DdRUC4HoXrUUhVQM3MzMzMDDhAXI/C9ShcQEAAAAAAAHBUQHsUrkfhOkVAFK5H4XoULUD2KFyPwnVDQM3MzMzMzBBACtejcD36UkCamZmZmXlGQIXrUbge5UFAuB6F61E4T0CuR+F6FO4zQKRwPQrX01JAmpmZmZkZU0BxPQrXo7A8QK5H4XoU7jdAcT0K16NwPkCPwvUoXI8UQClcj8L1KPA/SOF6FK6HMkBSuB6F61H4Pylcj8L1OFVAH4XrUbiuUEDXo3A9CidSQBSuR+F6FEZAMzMzMzMDVEDhehSuR2ErQIXrUbgeBT1ACtejcD16UUAUrkfhehQOQNejcD0Kt0xAmpmZmZm5T0DsUbgehatEQHsUrkfhujZAhetRuB6FF0AfhetRuJ4jQClcj8L1iFdAH4XrUbieQEBI4XoUrtdSQPYoXI/ClUhASOF6FK63V0D2KFyPwrU8QAAAAAAAQEVAKVyPwvWISkBSuB6F6/FYQEjhehSut1RAPQrXo3BdVEAUrkfhetRAQFK4HoXr0VhAuB6F61G4LUAAAAAAAOBAQFK4HoXrgVRAj8L1KFwPI0Bcj8L1KFwYQM3MzMzMDD1AH4XrUbheVkDNzMzMzMxSQBSuR+F6VD1APQrXo3B9UEDNzMzMzMxXQIXrUbgeBTBA4XoUrkdhJkDsUbgehWs7QOF6FK5HYTFAUrgehevhWEBmZmZmZoZLQGZmZmZm5lNA7FG4HoVLUEB7FK5H4bo5QHsUrkfh2kBAj8L1KFyvV0C4HoXrUfhSQAAAAAAA0FJASOF6FK6XVkBmZmZmZuYsQFyPwvUoPEtAFK5H4XrUQEBxPQrXoyBVQEjhehSux05AUrgehetRN0B7FK5H4dpFQLgehetRuAZAmpmZmZnZUUBI4XoUrrdWQFyPwvUovFNACtejcD0qQUBSuB6F61FEQNejcD0Kt01AAAAAAABgSUDsUbgehQtSQJqZmZmZWTdAFK5H4XqUU0C4HoXrUTg0QDMzMzMzk0BApHA9CtejIUApXI/C9ahFQJqZmZmZmVZA7FG4HoWrS0CkcD0K1+M7QMP1KFyPglBAexSuR+F6JEApXI/C9ehFQFyPwvUoXAlAH4XrUbguUkDXo3A9ChcwQClcj8L1iFhAFK5H4Xr0SUAzMzMzM/NLQK5H4XoUrj5AzczMzMxMUEB7FK5H4XpUQEjhehSud1hAuB6F61E4OEApXI/C9SgKQLgehetR2EBAPQrXo3A9HUBSuB6F61EvQOxRuB6FK09ApHA9CtcDU0CuR+F6FC5JQPYoXI/CdUFAH4XrUbieJ0CuR+F6FC5YQOxRuB6FK0ZArkfhehTuUEDsUbgehQtBQMP1KFyPgj9ApHA9CtdjNEAzMzMzM1NDQDMzMzMzU1NA7FG4HoV7VkApXI/C9SgRQFK4HoXrAVNAZmZmZmYmRUAUrkfheiRSQM3MzMzMbFdAuB6F61EoUUCamZmZmVlKQKRwPQrXo1BAUrgehevBVkB7FK5H4XotQIXrUbgeJURACtejcD1qTECamZmZmblPQBSuR+F6JFJAcT0K16PwNkCuR+F6FA5UQB+F61G4PkFA4XoUrkehSUDD9Shcj0JSQKRwPQrXIzNAXI/C9ShcQ0DD9Shcj8ItQGZmZmZmBktAhetRuB4lRUD2KFyPwiVYQGZmZmZm1lFAAAAAAABAS0AfhetRuJ5XQLgehetRaFJAMzMzMzMTQkCuR+F6FC4zQOxRuB6Fy1RAH4XrUbi+UUD2KFyPwvUfQI/C9Shcr1JAj8L1KFyPQEDNzMzMzAxLQLgehetRyFJA7FG4HoUrTEApXI/C9ag3QI/C9ShczzFAexSuR+H6RUAUrkfhekRTQKRwPQrXoyVApHA9CtdDSEDXo3A9CrdXQNejcD0K1y9Aj8L1KFyPJkDhehSuR+EOQM3MzMzMLEFAexSuR+E6VUAUrkfheqRSQKRwPQrXc1ZAFK5H4XpURECF61G4HnVRQIXrUbge5VNAFK5H4XrEU0CkcD0K12NUQEjhehSuZ09A9ihcj8K1PEDXo3A9CldCQAAAAAAA8FFA9ihcj8I1MUBcj8L1KDxIQHE9CtejcCdAmpmZmZmZ9T/hehSuRyE0QHsUrkfh+i1AzczMzMzMPECPwvUoXN9YQDMzMzMzMxlAAAAAAADwV0CPwvUoXO9IQI/C9Shc31RA9ihcj8L1VEBxPQrXo1BUQKRwPQrXs1BASOF6FK43VkCF61G4HsVSQClcj8L1SExA4XoUrkcRWEDNzMzMzMxGQEjhehSuV1FACtejcD06UUBxPQrXo/AtQLgehetR+EFAH4XrUbgOUEDD9ShcjxJQQDMzMzMzg1hAFK5H4XoUJkBmZmZmZgZKQI/C9ShczzxA9ihcj8K1TkDD9Shcj+JKQOxRuB6FayBAmpmZmZnZOUDhehSuR+FQQClcj8L16DdAH4XrUbi+VUD2KFyPwtVPQKRwPQrXg05AuB6F61H4Q0AzMzMzM4NSQBSuR+F6FB5AuB6F61F4PUCPwvUoXP9SQClcj8L1yEpAhetRuB4FU0Bcj8L1KExRQArXo3A96kZACtejcD2KLUBI4XoUrudKQFyPwvUo/FFA16NwPQo3UUCkcD0K12NYQLgehetRCFVAmpmZmZl5REApXI/C9Sg0QIXrUbgeBSdA9ihcj8LVR0BSuB6F63FDQFyPwvUo7FZAcT0K16PwMUAAAAAAAIA+QIXrUbgeVVNAUrgeheuBUUCPwvUoXJ9QQFK4HoXrURVA7FG4HoXrJEBmZmZmZqZDQBSuR+F61DdAcT0K16OQTUA9CtejcD0+QBSuR+F6tFVAKVyPwvWYUECuR+F6FI5OQJqZmZmZmR5ApHA9CtejI0BSuB6F69FQQEjhehSuRypAPQrXo3AdVUBcj8L1KNwiQFyPwvUorFZAXI/C9Si8QkDNzMzMzMwcQJqZmZmZiVdAMzMzMzMTRUDsUbgehWsvQD0K16NwnVhAexSuR+HaSUDhehSuRyFFQM3MzMzM3FhAH4XrUbjeT0AzMzMzMzMUQLgehetRWFZAKVyPwvVITUCF61G4HnVQQMP1KFyP8lNAAAAAAACgVkDNzMzMzMwAQFyPwvUo3E9AMzMzMzPzVUDNzMzMzJxUQFyPwvUojFBAj8L1KFzPQ0B7FK5H4bpBQD0K16NwPSVAcT0K16MwVEBmZmZmZuYkQGZmZmZmZu4/pHA9CtcjO0CF61G4HmVLQArXo3A9ikRA4XoUrkfhIUDXo3A9CodYQM3MzMzMzCJAUrgehesxR0Bcj8L1KJw+QD0K16Nw/UVAcT0K16MwS0A9CtejcL03QLgehetRiFRAMzMzMzOzOEAzMzMzM3NOQLgehetROC1ASOF6FK4nQUBSuB6F6zFAQDMzMzMz01NAXI/C9SjcPkApXI/C9UhXQI/C9Shcb0pAXI/C9SicPUAAAAAAAMA5QHsUrkfhilRAKVyPwvUITkAAAAAAAGBJQMP1KFyPwi1AH4XrUbh+UkAK16NwPSpFQB+F61G4flNAmpmZmZkZIUBSuB6F65E+QD0K16NwfUJAj8L1KFwPOEAUrkfhelRJQOF6FK5H0VNA16NwPQr3UUDD9ShcjwI1QLgehetR2FdAFK5H4XqULUBcj8L1KPxGQClcj8L1GFNAMzMzMzMjUUC4HoXrUbgjQGZmZmZmdlZAj8L1KFw/U0ApXI/C9SgoQFyPwvUo3ENAPQrXo3DdQkBSuB6F64FTQBSuR+F6FBtAexSuR+H6UUDD9Shcj/JXQMP1KFyPglZAKVyPwvXoWEAAAAAAAAD0P+xRuB6F6ytA7FG4HoXr+T+4HoXrUXgyQOF6FK5H4TxAAAAAAACAM0DhehSuR6E9QB+F61G4nkxAmpmZmZmZCUBcj8L1KMxTQAAAAAAAIFRAzczMzMzMUUAUrkfhehQoQM3MzMzMDD1ArkfhehQuPEDhehSuR6FDQHsUrkfhmkxAuB6F61H4VEBmZmZmZgZVQB+F61G4vkNA4XoUrkdhR0DsUbgehStUQKRwPQrXo1VAAAAAAACQUEBxPQrXo7BTQOxRuB6Fa1hA4XoUrkfhLUCF61G4HqVNQGZmZmZmxkNAFK5H4XoULECF61G4HuVPQKRwPQrXg0JAPQrXo3A9IkCF61G4HgVKQHE9CtejkE1AexSuR+EqUECkcD0K12NKQMP1KFyPwh1AuB6F61GYR0Bcj8L1KMxYQOF6FK5H4SVArkfhehRuSEAfhetRuB5UQD0K16NwfVFA9ihcj8L1MkCF61G4HpVQQDMzMzMzM05A7FG4HoXrOEBI4XoUrgdAQOF6FK5H8VFA9ihcj8KlUUD2KFyPwtVSQHsUrkfh+iNAXI/C9Sj8VkD2KFyPwoVQQB+F61G4rlBArkfhehQOREB7FK5H4VpOQHsUrkfhejJAzczMzMzMI0CkcD0K1wNKQI/C9ShcDzlAXI/C9ShcK0AK16NwPQoFQK5H4XoUHlZAhetRuB4FSUCF61G4HoUzQBSuR+F6FBJAUrgehetRWED2KFyPwlVPQOxRuB6FK0dAMzMzMzNzOkA9CtejcD0sQI/C9ShcP1RAw/UoXI+CPkDNzMzMzFxRQEjhehSuh1NAuB6F61EoV0DD9Shcj6JBQLgehetRODFAw/UoXI/CRkDD9Shcj8JYQLgehetROExAj8L1KFxPUkDhehSuR2EtQDMzMzMzA1JA16NwPQqXNEBcj8L1KBxRQB+F61G4niFACtejcD3KSUDD9Shcj/JUQJqZmZmZGS1AhetRuB6FNEDD9Shcj9JUQOF6FK5H8VNAzczMzMxMWEBxPQrXo9BEQClcj8L1KPA/AAAAAADgVUAAAAAAAADoPxSuR+F6lEJAuB6F61GYWEC4HoXrUfhLQOF6FK5HoTdAuB6F61G4Q0Bcj8L1KOxUQOF6FK5H4TxAMzMzMzMzJEDhehSuR4FHQClcj8L1qDJArkfhehTuU0CamZmZmdk9QHE9CtejcO0/H4XrUbgeV0DXo3A9Chc0QD0K16NwPTBA7FG4HoVrMkDD9Shcj4JIQFyPwvUo3ChAUrgehetR9D8UrkfhepQ1QEjhehSuRy1AFK5H4XoUV0BmZmZmZmY/QAAAAAAAgCJAzczMzMyMQkAAAAAAAAAhQB+F61G4TlVArkfhehQuLEDhehSuRwFTQMP1KFyPIkdArkfhehTuTUAAAAAAAMAyQGZmZmZmJkxAMzMzMzMzUECuR+F6FM5AQI/C9Shcv1ZAhetRuB7lREC4HoXrUVhDQJqZmZmZGVVAPQrXo3BdUUB7FK5H4TpBQK5H4XoU/ldAcT0K16OwWECuR+F6FC4pQFK4HoXrsVNAXI/C9SgcNUC4HoXrURhJQIXrUbgeNVNAPQrXo3B9MUBSuB6F67FQQOxRuB6FKzhA7FG4HoVrQ0D2KFyPwvUtQEjhehSuRy5AzczMzMzMJED2KFyPwtVNQBSuR+F6VEJAPQrXo3B9TUC4HoXrUXgzQEjhehSuJ1BAAAAAAACQWEBxPQrXo/BEQHE9CtejcCpAMzMzMzNTS0BxPQrXowBSQClcj8L1eFdApHA9CtejMkAzMzMzMwNQQIXrUbge5URAPQrXo3C9KkDsUbgehev5Pylcj8L1KFdA16NwPQoXQEBxPQrXoxBQQBSuR+F6ZFRAFK5H4XrUVUBcj8L1KJxRQAAAAAAAAPw/pHA9CtczWEBxPQrXo6BSQClcj8L1KARAuB6F61FoVECkcD0K18NFQFK4HoXrEVVAmpmZmZmZMUCamZmZmVk/QK5H4XoUblBASOF6FK7nRUAK16NwPRpVQKRwPQrX40tArkfhehTeUEApXI/C9SggQJqZmZmZGUdApHA9CtcDUkAfhetRuJ5WQMP1KFyPQjVA7FG4HoW7VEBmZmZmZiY3QFyPwvUojFBApHA9CtfzV0AK16NwPSpIQArXo3A9ij1ACtejcD0KRkA9CtejcO1WQFyPwvUofFJAMzMzMzOzJEBmZmZmZmZWQHsUrkfh+idA4XoUrkdBU0AUrkfherRTQClcj8L1KFBAUrgehevRJ0DhehSuR6FUQGZmZmZmdlFA16NwPQoHVECuR+F6FK4DQIXrUbge5U1AH4XrUbgeJkBcj8L1KGxSQClcj8L1yEpAMzMzMzMzPkAfhetRuM5QQKRwPQrXs1VAKVyPwvUYU0DXo3A9CidYQDMzMzMzE1BAhetRuB7VU0AUrkfhevRGQPYoXI/C1URAhetRuB5VVEAzMzMzM/NWQIXrUbgehQ1AAAAAAABAOEAAAAAAAGBWQB+F61G4Hk5AmpmZmZmZHkDXo3A9CndGQHsUrkfh+jpAhetRuB4FVUDNzMzMzMxYQHE9CtejUERASOF6FK7HJ0A9CtejcG1SQHE9CtejcDBAZmZmZmaGSUBxPQrXo5BIQI/C9ShcDzFAmpmZmZlJV0CamZmZmZlQQPYoXI/CNTRArkfhehSu9z+F61G4HsU2QDMzMzMzE0xACtejcD0KJUDsUbgehWtBQDMzMzMzMxRA7FG4HoVLS0CuR+F6FC5KQGZmZmZmZiRAPQrXo3B9U0Bcj8L1KPxOQDMzMzMzk05Aw/UoXI/CVEDXo3A9CpdCQNejcD0KFztACtejcD0K5z97FK5H4XoiQOF6FK5HYSFAKVyPwvUIQEBcj8L1KPxRQPYoXI/CBVVASOF6FK4HTEDhehSuR+FHQPYoXI/C1VNAFK5H4XqUMUDD9Shcj3JYQGZmZmZmxlJACtejcD3KQ0CF61G4HoVTQFK4HoXr8U9AFK5H4XpUOEAK16NwPbpRQFK4HoXrUTdArkfhehSuI0CF61G4HiVBQEjhehSuR/k/UrgehevRTUCuR+F6FD5UQHsUrkfhejZAj8L1KFx/UUAfhetRuJ5JQClcj8L1iFFAZmZmZmYWUUAzMzMzM5NVQOxRuB6FS1hAmpmZmZkZV0CuR+F6FA5JQOxRuB6Fy0FAUrgehetxTEDD9Shcj7JVQI/C9ShcH1VAAAAAAABgSkBxPQrXo9BPQLgehetRWEVASOF6FK5HLkCPwvUoXM85QArXo3A9SkdAuB6F61F4V0ApXI/C9YhKQHsUrkfhOjhACtejcD2KSEAAAAAAACBVQKRwPQrX01hAMzMzMzOzS0Bcj8L1KFwfQK5H4XoU7lhAPQrXo3C9Q0AUrkfhehTyP5qZmZmZuUVArkfhehSuQkApXI/C9YhXQI/C9ShcT1BAw/UoXI8yVECkcD0K13NUQIXrUbgexUFAexSuR+EaVkDsUbgehUtMQKRwPQrXo0NApHA9CtczVkAzMzMzM3NNQArXo3A9CiNA9ihcj8L1Q0AK16NwPYo8QNejcD0Kh1JAcT0K16NQVUBcj8L1KNxFQHE9CtejQFNAUrgehesBVkCamZmZmalVQIXrUbge5UBAw/UoXI8CU0DsUbgehctMQFyPwvUonEJAUrgehevxTED2KFyPwvUKQM3MzMzMDFZAhetRuB4FWEDXo3A9ChdVQIXrUbgeJVdA7FG4HoXrO0CkcD0K1yNHQM3MzMzMjDlASOF6FK5HLkBSuB6F61FJQHsUrkfhuj9A7FG4HoV7UkCPwvUoXE9EQAAAAAAAAC1AmpmZmZnZNEDhehSuR8FIQKRwPQrXIzpAhetRuB6FK0A9CtejcA1SQArXo3A9+lZApHA9CtfDU0CuR+F6FK4cQFK4HoXr0VNAAAAAAAAgSEBxPQrXo/BGQDMzMzMzc1ZAuB6F61F4MUBmZmZmZrZRQLgehetRSFdAPQrXo3DdQ0B7FK5H4Xr0P4/C9Shc/1RAw/UoXI+CMEDXo3A9CjdPQM3MzMzMDExA4XoUrkfhVUC4HoXrUXhQQMP1KFyPklVAKVyPwvVoT0AzMzMzM3MyQHsUrkfh2lJArkfhehSuMUAzMzMzM/M7QOF6FK5HAU5A9ihcj8IVV0DXo3A9CtccQHsUrkfhGlNAmpmZmZmZCUDsUbgehUtPQMP1KFyPQlZAzczMzMw8U0AUrkfhetRJQArXo3A9qkNA4XoUrkdxVkDNzMzMzPxSQB+F61G4nipAAAAAAAAARECamZmZmflYQB+F61G4/k5AMzMzMzPzUkCPwvUoXO9DQHsUrkfhekhAexSuR+GqUUAzMzMzM7M6QK5H4XoU7lhA9ihcj8K1NkCF61G4HrVXQEjhehSu50JA16NwPQp3RUCF61G4HlVWQArXo3A9SkNAcT0K16PgUkBmZmZmZiZMQK5H4XoUrhpAw/UoXI8SVEBmZmZmZqZXQArXo3A9ijtAH4XrUbheWEAfhetRuA5RQOxRuB6Fa0xAw/UoXI8yVUDhehSuR+EQQD0K16NwXU1A16NwPQo3TkDNzMzMzMwGQGZmZmZmxkVAKVyPwvWoJ0A9CtejcD1QQB+F61G4XjNAUrgehetRR0AK16NwPYo/QOF6FK5H4RlAH4XrUbgOWECPwvUoXG9WQIXrUbgeJUtAPQrXo3A9E0AUrkfhehRFQKRwPQrXg1JAmpmZmZkZO0AK16NwPQo2QKRwPQrXw0hAhetRuB6F+z8pXI/C9VhYQB+F61G4LlFAzczMzMzsTEBSuB6F61EaQAAAAAAAoEdAw/UoXI9CNEDhehSuR0FVQMP1KFyPIlBAcT0K16OAUkAzMzMzMzNRQDMzMzMzM1NAKVyPwvUYV0D2KFyPwnUnQI/C9ShcTz1AexSuR+HqVkAUrkfhetRHQI/C9Shc71dAAAAAAADQU0C4HoXrUdhFQIXrUbgeRTdA16NwPQrXG0AzMzMzM9NEQArXo3A9yjJA16NwPQp3TUDD9Shcj9JUQD0K16NwfVBAhetRuB7lUUAUrkfhehRBQOF6FK5HgU5A7FG4HoXLSkAUrkfhepQnQHsUrkfh+jBAPQrXo3A9PUCamZmZmVk0QClcj8L1KEFAcT0K16PwQUDsUbgehetAQPYoXI/CNTFAhetRuB7FV0CamZmZmdk7QIXrUbgehTJApHA9CtdTVEApXI/C9WhBQGZmZmZmpktAPQrXo3AtVkAzMzMzMzPjP8P1KFyPAklA7FG4HoXrKUAK16NwPcpFQFyPwvUonEBAexSuR+F6Q0CkcD0K1yM+QLgehetRuDVAzczMzMxMV0B7FK5H4QpWQHsUrkfhOkVAFK5H4Xq0TkDhehSuR8FJQM3MzMzMbFNAzczMzMxMLUCamZmZmRlRQOF6FK5HQUFAj8L1KFzvUUCF61G4HsVCQGZmZmZmFlNAzczMzMzMUUBxPQrXo3BIQB+F61G4HkhAAAAAAAAAQEDsUbgehStJQLgehetRuBRAUrgehevRV0CamZmZmZlRQJqZmZmZmUdAmpmZmZlZPUBI4XoUrkc0QJqZmZmZ+VFAKVyPwvXoO0DsUbgehatMQJqZmZmZmVRAKVyPwvUoLkCPwvUoXI9LQOxRuB6Fa0NAhetRuB5lRUCF61G4HnVYQBSuR+F6FCRArkfhehQ+WEBmZmZmZoZEQD0K16NwvSRAPQrXo3DdQEC4HoXrUbgQQI/C9ShcD1JAAAAAAACQWEBcj8L1KGxVQI/C9Shcj0NACtejcD2qVECPwvUoXI9IQNejcD0KV1ZA9ihcj8J1U0DsUbgehetIQKRwPQrXE1hAcT0K16NwMkApXI/C9SgyQFK4HoXrEVFArkfhehTuV0BmZmZmZiZYQJqZmZmZSVhAMzMzMzPTU0BmZmZmZhZTQOF6FK5HwUBAhetRuB4FWEC4HoXrUdhAQD0K16Nw/TFA9ihcj8K1VUBI4XoUrmdYQJqZmZmZ2TlAH4XrUbheO0CF61G4HgU9QFK4HoXrsVZACtejcD0qRUApXI/C9XhUQEjhehSu50VAPQrXo3BtV0CF61G4HiVLQFyPwvUo3EtASOF6FK5HFkDNzMzMzAxIQArXo3A9yjlArkfhehSuLUBxPQrXo3BVQMP1KFyPwjJAuB6F61EYQ0DNzMzMzAxDQFyPwvUoXCRAw/UoXI8iQkAUrkfhegRXQJqZmZmZOVJAw/UoXI/CTEApXI/C9SgXQFyPwvUoXC1APQrXo3A9JEApXI/C9bhVQK5H4XoUriNAuB6F61H4SEC4HoXrUchSQHsUrkfhmkBAFK5H4Xo0S0BI4XoUrsdNQHsUrkfh2kZAw/UoXI/CE0CuR+F6FF5WQBSuR+F69EZAZmZmZma2VEBmZmZmZnZWQB+F61G4niVAKVyPwvUoQUDD9ShcjyJXQDMzMzMzc09A4XoUrkdhSECuR+F6FI5EQJqZmZmZmUxAw/UoXI9CKkD2KFyPwvU0QAAAAAAAYEVAKVyPwvW4VED2KFyPwjU1QAAAAAAAgChAj8L1KFzvTkBI4XoUrsdRQBSuR+F6lDpA9ihcj8L1FECkcD0K12M+QDMzMzMzo1BA4XoUrkfBVEAfhetRuA5WQLgehetRuBRACtejcD2KK0BmZmZmZuY1QPYoXI/CNUFAMzMzMzPzTEBcj8L1KPxOQK5H4XoUDkxAUrgehetRSUCPwvUoXD9QQMP1KFyPQlFApHA9CtejK0B7FK5H4Xo2QB+F61G4niZApHA9CtdDTkDNzMzMzJxYQKRwPQrXQ1hAzczMzMwsUEDNzMzMzMzwP65H4XoUflZACtejcD1KSEDsUbgehWswQNejcD0K1y5AMzMzMzOTR0BmZmZmZmZKQLgehetROFBAZmZmZmaGV0CuR+F6FC43QHE9CtejcDFAuB6F61G4NkCPwvUoXH9RQLgehetR+FVACtejcD16UUAzMzMzM3M7QNejcD0KVypAH4XrUbh+SUB7FK5H4bpQQFyPwvUovENAZmZmZmZmEUCPwvUoXA84QM3MzMzMzDVAj8L1KFxvVkD2KFyPwhVSQD0K16NwvUJAmpmZmZkZQ0BmZmZmZnZVQAAAAAAAABZA4XoUrkfBSkBxPQrXo7BCQDMzMzMzI1VAj8L1KFxvQUDD9Shcj0IxQI/C9Shcv1RA9ihcj8JVVUD2KFyPwnU/QAAAAAAAoFJAFK5H4XqUKUCF61G4HgUkQD0K16Nw/TdAKVyPwvVIQUCPwvUoXI8vQArXo3A9+lFA7FG4HoU7UEBmZmZmZmYZQGZmZmZmdlVAAAAAAABAR0ApXI/C9RhQQHE9Ctej8CpAXI/C9ShcREDhehSuRwFCQFK4HoXr8UxAzczMzMzMH0BI4XoUrscrQFK4HoXrEVhAuB6F61GoV0CF61G4HoUqQOxRuB6F6zVApHA9CtdzVECF61G4HmVNQHE9CtejcC1AmpmZmZnZTUDD9Shcj0IwQFyPwvUonD1AuB6F61GYVECPwvUoXB9YQClcj8L1GFNAH4XrUbj+U0CamZmZmelWQLgehetRuA5AmpmZmZlJWEDD9Shcj0JTQOF6FK5H4VZAMzMzMzOzQkBI4XoUrscnQIXrUbgepUVAuB6F61E4V0CkcD0K1/NYQB+F61G4Xk9AKVyPwvU4WECuR+F6FO5FQOF6FK5HkVBAMzMzMzOzVkDD9Shcj8JXQNejcD0KVylA9ihcj8JlVkBSuB6F60FYQHsUrkfhukpAhetRuB4FNUBI4XoUrscuQBSuR+F6VFhAFK5H4XrUTkAUrkfhepQuQIXrUbgehRdArkfhehTuOEBI4XoUrldYQHsUrkfh+iZAMzMzMzMzEECamZmZmTlTQFyPwvUoHFhAhetRuB4lQUBxPQrXo1BMQPYoXI/C1U9AZmZmZmY2VEAAAAAAAAAjQFyPwvUonEdAexSuR+H6PEC4HoXrUShYQFyPwvUo/EVAmpmZmZnZVkB7FK5H4dpKQLgehetRuC5A7FG4HoUrVEDNzMzMzEwxQBSuR+F6FEpAPQrXo3BdVkAUrkfhevRBQKRwPQrXoyJA7FG4HoVrLkB7FK5H4foxQOxRuB6Fa0BA16NwPQqXTUAUrkfhelQ8QMP1KFyPokBArkfhehTuOEAUrkfheoRYQLgehetRyFBAexSuR+E6QUD2KFyPwtVGQIXrUbgeJUNA7FG4HoVrLkDXo3A9CpdLQAAAAAAA4FRAj8L1KFyPCEDsUbgehUtBQAAAAAAAwDxAPQrXo3CdS0BmZmZmZuYsQKRwPQrXg1BAmpmZmZmZM0A9CtejcH1NQHsUrkfhqlVAhetRuB7FSUC4HoXrUTgrQFK4HoXrkUxAw/UoXI/yVkBmZmZmZnZWQJqZmZmZWUZAAAAAAAAAS0DsUbgehftTQHE9CtejcANAmpmZmZmpUEApXI/C9agrQDMzMzMzMwVAcT0K16NgUEApXI/C9ShRQKRwPQrX81JAH4XrUbh+T0DNzMzMzHxWQKRwPQrXk1hAj8L1KFxvQ0AfhetRuN4yQHE9CtejUEtArkfhehSuH0DsUbgehctMQHE9Ctej8CNA4XoUrkcBVUBcj8L1KHxTQClcj8L1qEhA16NwPQqnUEA9CtejcG1WQKRwPQrXo0VAZmZmZmamNUCuR+F6FM5AQHsUrkfheiBAAAAAAABAQUAAAAAAANBQQIXrUbgeJUNA7FG4HoVLQECamZmZmZlRQArXo3A9ij9Aw/UoXI8yVUApXI/C9ZhYQD0K16Nw3UVAuB6F61G4VUA9CtejcD06QArXo3A9SjpApHA9CtczU0CamZmZmRlCQEjhehSux0hAexSuR+F6TUAzMzMzM4NYQHsUrkfh6lRAKVyPwvWoPkCPwvUoXK9VQI/C9Shcb1NAmpmZmZkpV0DXo3A9CtcXQArXo3A9ulBA4XoUrkdhN0DD9Shcj4JUQFyPwvUoXBhAPQrXo3A9LECF61G4HoU/QHsUrkfheitAj8L1KFz/WECPwvUoXI8zQNejcD0KZ1RAzczMzMwsVEBSuB6F69EkQNejcD0KV1VAexSuR+F6LkAK16NwPQpEQGZmZmZmZiRAUrgeheshUkDXo3A9ChdYQLgehetRKFZAMzMzMzOTQkD2KFyPwvVHQOxRuB6F6yxAXI/C9Sg8QECuR+F6FH5UQIXrUbgeBVdAH4XrUbieV0CPwvUoXC9VQDMzMzMzc1RAw/UoXI+iQEA9CtejcL1QQJqZmZmZ2VFArkfhehTeUEBSuB6F61ExQD0K16NwPTFAzczMzMwMMUC4HoXrURhKQHE9CtejcDtA4XoUrkdxUkDhehSuR+ElQB+F61G4HkVAKVyPwvWYVECPwvUoXM9CQEjhehSuhzVA4XoUrkfBRUApXI/C9ShGQJqZmZmZuUVA9ihcj8L1R0CPwvUoXG9SQAAAAAAAUFdA16NwPQrXK0DNzMzMzIxEQArXo3A9CkZAXI/C9ShMUEAK16NwPYo1QNejcD0K51RAexSuR+H6K0DsUbgehYtIQBSuR+F6FEBAAAAAAADARkAK16NwPUpSQM3MzMzMjFFAPQrXo3A9JUBmZmZmZqY6QOF6FK5HAUpAexSuR+FaQEB7FK5H4bpHQEjhehSuxyZArkfhehSuP0BSuB6F63FQQHE9CtejwFFAFK5H4XpkUUD2KFyPwrVQQAAAAAAAABVAKVyPwvVITkDXo3A9CtdOQB+F61G43kZApHA9CtdzVkDhehSuR1FSQArXo3A9qklA16NwPQrXM0AAAAAAAFBYQK5H4XoUrgdAUrgeheuRVEDsUbgehctIQClcj8L1SFBAAAAAAACAUUAUrkfhepQ2QPYoXI/CtUtAFK5H4XoUO0DhehSuR0FSQB+F61G4LlZAmpmZmZlZMEDXo3A9CmdVQNejcD0KJ1NAw/UoXI9iRUAzMzMzM9NXQEjhehSuh1NAFK5H4XpUNUDsUbgehbtQQMP1KFyPYlRASOF6FK5HKUCamZmZmZlFQBSuR+F6lDRAH4XrUbieOkAfhetRuB4vQHE9Ctej8ClAw/UoXI+CWEDNzMzMzKxPQFK4HoXrkTpAFK5H4XqUPUDD9ShcjyJSQBSuR+F6lEFAuB6F61F4TEA9CtejcO1YQOxRuB6FS1NA9ihcj8J1QkBmZmZmZmZFQArXo3A9WlZA7FG4HoWrQEDhehSuR+ErQJqZmZmZGSpAuB6F61F4SkCF61G4HgU6QPYoXI/CdSJAzczMzMyMU0BI4XoUrodXQFK4HoXrkUtAexSuR+H6MEDXo3A9Cpc+QIXrUbgeRTRAFK5H4XpUWEAfhetRuB4qQClcj8L12FVA16NwPQoXVkDhehSuRzFVQEjhehSu50xAUrgeheuBUkAzMzMzM+NVQD0K16NwPVNAFK5H4XpEVkB7FK5H4fpAQIXrUbgexTxAPQrXo3B9MkCkcD0K12M1QBSuR+F69ExAAAAAAAAAEkD2KFyPwlVDQOF6FK5HAUZAKVyPwvX4VUCF61G4HgU6QOF6FK5HYSdAuB6F61HYSUAAAAAAAOBAQJqZmZmZuU9APQrXo3DdRkBmZmZmZqZAQHsUrkfh+kVA4XoUrkfhGkCkcD0K14NKQFK4HoXrcUNAAAAAAADgU0DD9ShcjwJDQFyPwvUovEdA7FG4HoXLUUBSuB6F61EQQOxRuB6F6y9AcT0K16MQTEBI4XoUroc+QFyPwvUoXD9AMzMzMzPDUUCuR+F6FO44QHE9Ctej8CtAzczMzMwMV0BmZmZmZuZHQGZmZmZmxk5ArkfhehSeUECkcD0K16MkQNejcD0KF1NAPQrXo3B9OUA9CtejcG1SQArXo3A92lhAFK5H4XpkUEDNzMzMzGxOQIXrUbgeRUFAH4XrUbi+RUDhehSuR2E+QFyPwvUoXBJAhetRuB5FS0DXo3A9CvdXQBSuR+F6hFhAj8L1KFzfUkBmZmZmZmZPQOxRuB6Fi1RAMzMzMzPTWEDD9Shcj4JQQOxRuB6FC1ZAKVyPwvVoTkBI4XoUridEQIXrUbgehfc/ZmZmZmamMEBcj8L1KBxYQArXo3A9iitA7FG4HoULS0Bcj8L1KFwBQArXo3A96k5AuB6F61H4WEBcj8L1KFwPQB+F61G4fklAZmZmZmZmQUCPwvUoXK9IQD0K16NwnU5Aw/UoXI/iV0CF61G4HsUwQFyPwvUoXDRAH4XrUbgeJUApXI/C9WhFQOxRuB6FK1FAKVyPwvUoG0A9CtejcH1EQClcj8L1qDlAmpmZmZlZPUD2KFyPwvUaQPYoXI/CxVRAFK5H4XqUV0BI4XoUrsdQQIXrUbgeNVNASOF6FK6XUUD2KFyPwnU2QKRwPQrXozFAZmZmZmamQkBcj8L1KFwBQI/C9Shc/1hA7FG4HoXrQkAzMzMzM7NVQIXrUbgehQ1AZmZmZmZ2UkAAAAAAAADgP1yPwvUo/FZAj8L1KFyvQUDXo3A9CmdRQFK4HoXrYVRAexSuR+H6T0B7FK5H4QpRQBSuR+F6FC9AMzMzMzPDUEBxPQrXozA5QPYoXI/CVVdA4XoUrkfRVUAzMzMzM5NAQAAAAAAAQENA7FG4HoXrNEDNzMzMzLxYQOF6FK5HIUtACtejcD2KJUB7FK5H4dpVQKRwPQrXY01ArkfhehSeVECuR+F6FI5FQB+F61G4flhAAAAAAACAMEAfhetRuI5VQOF6FK5H4UhACtejcD1qT0CkcD0K1yM0QGZmZmZm5jlA7FG4HoUbVkBI4XoUrkdAQPYoXI/CVU1A9ihcj8L1GUDXo3A9CndBQDMzMzMz41FAw/UoXI8CN0AK16NwPXpXQOxRuB6Fi0RA4XoUrkexVUCamZmZmflKQBSuR+F6FCxArkfhehS+UUCuR+F6FO5SQHsUrkfhWkhArkfhehROSUCF61G4HkVLQHsUrkfh2lVA4XoUrkcxVEDXo3A9CtcNQKRwPQrXI0pAKVyPwvW4UUDD9Shcj6JBQD0K16NwfURASOF6FK5nV0BSuB6F65E0QM3MzMzMzDVAcT0K16MwPECF61G4HvVYQM3MzMzM7EZAUrgeheuRR0CPwvUoXA84QI/C9Shc709AexSuR+H6QUCuR+F6FA5TQOxRuB6Faz1AH4XrUbhuUEBSuB6F6zFGQI/C9ShcH1RAcT0K16MQTkBSuB6F6xFMQKRwPQrXIydAmpmZmZl5VkApXI/C9ehPQHE9Ctej8DZA4XoUrkeBV0CF61G4HoUjQArXo3A9qkNA9ihcj8L1DkBI4XoUrhdUQHE9CtejcC1AuB6F61F4VUAK16NwPWpIQIXrUbgeBU5AH4XrUbi+VUA9CtejcD0pQB+F61G43k9AcT0K16NwNEDD9Shcj8IqQB+F61G43lNAw/UoXI+yVUDNzMzMzIwxQPYoXI/CtTBAAAAAAADgREDD9Shcj7JXQFK4HoXrIVFAXI/C9SjcN0AfhetRuD5UQBSuR+F6tElAH4XrUbj+WEBI4XoUrkcpQArXo3A9KldAcT0K16OwMkAAAAAAACBRQFK4HoXrIVNArkfhehTOUUAUrkfhehQSQFyPwvUo/EZAj8L1KFyPDECkcD0K1wNXQJqZmZmZyVFAexSuR+F6I0DsUbgehWs+QLgehetRuE1AFK5H4XqUO0BxPQrXo1BSQLgehetROFdAAAAAAAAgR0BSuB6F69FJQAAAAAAA4FNAPQrXo3B9V0DNzMzMzGxKQLgehetRGFVA4XoUrkchS0AfhetRuB4pQHsUrkfhyldASOF6FK7nWEAAAAAAAGBYQClcj8L1CFRAAAAAAACAP0DXo3A9CndAQHsUrkfh2lRApHA9CtdjNECF61G4HiVXQFK4HoXrwVZAXI/C9Si8VkAUrkfhejRLQK5H4XoU7j5ArkfhehRuOEBI4XoUroc5QBSuR+F61ElArkfhehQuMkDXo3A9CtcFQOF6FK5H0VRA9ihcj8IVS0CF61G4HjVTQJqZmZmZuVNAAAAAAABAQECamZmZmWlTQNejcD0KV05AZmZmZmb2UEAAAAAAACBGQHE9CtejcEVApHA9CtdzUECPwvUoXK9EQMP1KFyPMlZAKVyPwvWoTUCamZmZmVlLQAAAAAAA4ExAZmZmZmZGTkAK16NwPQoaQEjhehSux0dAXI/C9Sg8SkDhehSuR2FLQFK4HoXrUUVApHA9CtfDQ0DhehSuR1FSQMP1KFyPMlZAexSuR+H6K0C4HoXrUfhTQArXo3A9WlNAXI/C9SjcVUApXI/C9ahHQDMzMzMzM0BAKVyPwvWISkDNzMzMzDxRQEjhehSuZ0VAFK5H4Xr0SkD2KFyPwtVGQK5H4XoUTk9AhetRuB6FO0AUrkfhelQwQHsUrkfh2lBAPQrXo3DtVUCuR+F6FG5XQMP1KFyP8lBAMzMzMzMzS0DhehSuR6FVQPYoXI/CxVhAuB6F61GIUECF61G4HkVKQAAAAAAAAEhArkfhehSuJUBmZmZmZmYZQIXrUbge9VhAmpmZmZm5REDsUbgehes9QKRwPQrXoyJA16NwPQo3QUDsUbgehWtUQM3MzMzMbEJA7FG4HoXrOkBI4XoUrqdBQHsUrkfheidA7FG4HoV7V0DXo3A9CldBQOxRuB6FG1VAmpmZmZmZOECamZmZmVlKQIXrUbgexUBAhetRuB7FRUD2KFyPwpVCQI/C9ShcL0JApHA9CtdDTEDD9Shcj8I9QGZmZmZmplFAMzMzMzMDVECPwvUoXA8vQEjhehSuRxlAw/UoXI9CMkBmZmZmZrZWQLgehetRuARAcT0K16OQUkCPwvUoXL9TQMP1KFyPclVAuB6F61EYVkBmZmZmZiY+QFyPwvUonFFA4XoUrkehNECPwvUoXC9MQHE9Ctej0FFAw/UoXI/CC0DsUbgehctKQM3MzMzM/FJAPQrXo3B9RkBxPQrXo0BUQK5H4XoUjklACtejcD1qQ0DsUbgehXtWQK5H4XoUvlNAUrgehevROkA9CtejcF1MQJqZmZmZyVFAmpmZmZl5WEAzMzMzMzMXQDMzMzMzY1FA16NwPQrXJkBI4XoUrudVQIXrUbgepVhAH4XrUbjeVUA9CtejcD1UQOxRuB6FW1VAUrgehetRDECkcD0K1wNBQMP1KFyPElBAXI/C9Sh8S0DNzMzMzFxYQHE9CtejMD5AcT0K16NwGkBSuB6F6wFRQLgehetR6FJAw/UoXI8SUkD2KFyPwhVGQLgehetReE5A16NwPQpXN0CPwvUoXD9TQBSuR+F6VE5AXI/C9ShcM0CuR+F6FE5JQKRwPQrXc1RA16NwPQpXQ0DNzMzMzCxKQK5H4XoUXlRAMzMzMzOTS0B7FK5H4XogQOF6FK5HIUVAmpmZmZmZPEA9CtejcD0RQK5H4XoUbjFAUrgehetRVUA9CtejcJ1RQEjhehSut1VAUrgehesxR0C4HoXrUbg+QB+F61G4rlVAMzMzMzNzMkAAAAAAAIAiQClcj8L1KDdAAAAAAADgSEDD9Shcj8I5QAAAAAAAEFJAmpmZmZnZNEC4HoXrUUhXQBSuR+F6FBVAKVyPwvUoPEDXo3A9CpcxQOxRuB6Fy0lA9ihcj8JVVEDhehSuR4FRQLgehetRuBRA4XoUrkcBTkA9CtejcF1PQJqZmZmZGUxA9ihcj8IlUkAK16NwPcozQMP1KFyPgkFAKVyPwvWIQkBmZmZmZnZQQFK4HoXrAVhA4XoUrkeRUkA9CtejcP1GQFyPwvUofElAMzMzMzMDUUDNzMzMzPxXQIXrUbgeBS5Aj8L1KFyfUUBmZmZmZkZSQM3MzMzMnFNAw/UoXI+CO0DD9ShcjwIyQB+F61G4njRAAAAAAADAR0AfhetRuJ4xQPYoXI/CRVNAAAAAAAAASECamZmZmRknQClcj8L1KAJAXI/C9Shc+z8K16NwPepXQAAAAAAAYEVA4XoUrkdhQ0DsUbgehWsuQAAAAAAAkFBAj8L1KFxvV0BSuB6F61ErQGZmZmZmpkhAuB6F61F4RECF61G4HgUrQIXrUbgeNVVAPQrXo3B9QkAzMzMzM3M1QKRwPQrXYzJAuB6F61E4NUAfhetRuB4qQHE9CtejcAlAKVyPwvXoWEBSuB6F6zFPQB+F61G4DlVAAAAAAABgVEBI4XoUrkfhPzMzMzMzc1BAKVyPwvUoTUBcj8L1KJw7QPYoXI/C9TZA4XoUrkcRVECPwvUoXI/qPwrXo3A9elRAj8L1KFxvRECF61G4HmVBQArXo3A9qkBAw/UoXI9CMkCPwvUoXI8uQMP1KFyPYkhA16NwPQp3SEA9CtejcJ1CQI/C9ShcT1FAZmZmZmbGS0CamZmZmflJQK5H4XoULkRAhetRuB6FR0Bcj8L1KJw2QMP1KFyPQjNAFK5H4XqkWEDD9ShcjzJYQClcj8L1KDtApHA9CtejMEDsUbgehatEQM3MzMzMbEZAMzMzMzNzSUDD9ShcjwI6QNejcD0KZ1FAcT0K16NwSkCkcD0K1yMnQFK4HoXr0VRAexSuR+G6SUB7FK5H4VpJQNejcD0KV0pAw/UoXI+SWEApXI/C9chGQOF6FK5H4fo/7FG4HoXrBUBI4XoUrtdQQPYoXI/CRVFAcT0K16NQQkCkcD0K1/NYQArXo3A9qkdAH4XrUbgeUkCuR+F6FF5QQLgehetROCtACtejcD0KGEAfhetRuB71P1yPwvUo/EdAKVyPwvVoR0DhehSuR4FNQOxRuB6Fy0pAFK5H4Xo0SUCamZmZmRlOQK5H4XoUDlhAUrgehetRHUA9CtejcH09QGZmZmZmVlJAUrgeheuBUUCuR+F6FD5TQArXo3A92lVAAAAAAACgTEAUrkfheuRYQHE9CtejcBRAH4XrUbheTEAK16NwPUpHQKRwPQrXY0tAw/UoXI8iR0DD9Shcj8IsQGZmZmZmpkJASOF6FK7nT0CPwvUoXM9BQD0K16NwXVdA16NwPQqXVECkcD0K16MmQDMzMzMzk0xASOF6FK7XU0BSuB6F61EQQB+F61G4LlRAexSuR+F6SECamZmZmRklQLgehetRGElAexSuR+G6UEDD9Shcj8JHQLgehetRyFVAZmZmZmYGVEDD9Shcj8IBQFK4HoXrEUNAw/UoXI+CTkDhehSuR4FOQHsUrkfh+i5AmpmZmZlZV0DD9Shcj8IrQAAAAAAAgCZAUrgeheuhUEAK16NwPVpWQEjhehSup0tAuB6F61GYVkDsUbgehSs5QClcj8L1KBlAKVyPwvXIQkDNzMzMzMwIQFyPwvUo7FZAuB6F61H4M0BI4XoUrsc8QHsUrkfhmkpAmpmZmZmZMEApXI/C9ShGQK5H4XoUriRASOF6FK7nREDD9ShcjyJVQHE9CtejMERAMzMzMzOTQ0DD9Shcj4I2QNejcD0KF01AH4XrUbgeV0BxPQrXo7BJQNejcD0KZ1dA4XoUrkdhO0DXo3A9CqdSQPYoXI/CtVNAzczMzMxsUEDD9Shcj0JUQDMzMzMzMztAuB6F61GYVUDsUbgehftUQK5H4XoULkRAMzMzMzOzTEC4HoXrUbj2PwAAAAAAoFBA16NwPQqXR0AfhetRuH5NQBSuR+F6dEpAMzMzMzPzNEBSuB6F61EGQMP1KFyPwjtAw/UoXI9iTUCamZmZmflJQBSuR+F6pFZAMzMzMzOTQ0AzMzMzM9NXQB+F61G4HldAmpmZmZkZQECuR+F6FO5WQArXo3A9CitA7FG4HoX7VUDXo3A9ChdKQPYoXI/CNUlAMzMzMzNzQECkcD0K16P4P+F6FK5HIUBASOF6FK5HN0CkcD0K10NUQHsUrkfh2lFApHA9CtczUEApXI/C9XhVQOxRuB6F60dAmpmZmZn5R0DhehSuR6FUQD0K16NwPUJACtejcD3qV0DsUbgehStFQNejcD0KR1BAmpmZmZn5SkDXo3A9CtdWQDMzMzMzc1VAw/UoXI8SV0DNzMzMzEw5QM3MzMzMzAxAj8L1KFxPTEAAAAAAAJBQQLgehetRmFNAzczMzMwsVUAAAAAAAOBFQNejcD0K11BAw/UoXI8iUUD2KFyPwrVGQAAAAAAAwFdAPQrXo3B9RkAzMzMzMzNJQEjhehSul1JAUrgehevRO0DNzMzMzDxTQKRwPQrXYz1AuB6F61G4/j9I4XoUrpdWQOF6FK5HMVVAZmZmZmZmOEDXo3A9Clc8QGZmZmZm5iNAhetRuB4VUkD2KFyPwrVOQIXrUbgeNVFAuB6F61E4JkDXo3A9Ctf/P2ZmZmZmZhdAAAAAAADgRkA9CtejcG1XQM3MzMzMzBZAKVyPwvVITkDD9Shcj3JWQK5H4XoUrj5Aj8L1KFyPP0AfhetRuK5YQLgehetRCFdAKVyPwvXIUUBmZmZmZnZSQI/C9Shcz1ZAmpmZmZmZFUCF61G4HmVTQM3MzMzMPFRAKVyPwvUIR0CamZmZmRlKQEjhehSux0hApHA9CtfjTkAUrkfheoRQQK5H4XoUblVAXI/C9Shc7z89CtejcL01QClcj8L1KB5AUrgehetRHEDNzMzMzMxRQIXrUbgeRVZAj8L1KFxPOkBcj8L1KBw1QOF6FK5H4UlACtejcD26VkApXI/C9VhWQEjhehSud1BACtejcD2KU0D2KFyPwjU4QArXo3A9SlRA7FG4HoULVEAAAAAAAIBRQPYoXI/CdSNA9ihcj8L1EUAAAAAAAGBHQDMzMzMzk09AuB6F61F4OUDD9Shcj8IPQOxRuB6FKzNAzczMzMwsTUCF61G4HkVQQOxRuB6F6w1ArkfhehSOQECamZmZmdlMQOxRuB6Fq1JAFK5H4Xq0VUAK16NwPQoSQAAAAAAAADtAuB6F61G4VECkcD0K1wNFQM3MzMzM7EBAZmZmZmamV0CamZmZmflRQB+F61G4jldAmpmZmZkZU0DD9Shcj5JQQFK4HoXr8UhACtejcD16VEAUrkfhehQtQLgehetRuEBAPQrXo3C9P0DXo3A9CodTQAAAAAAAgCBAhetRuB6FMUApXI/C9XhUQIXrUbgepUJAj8L1KFxvQ0BI4XoUrkcaQD0K16Nw/TFAhetRuB7FTUApXI/C9QhSQClcj8L1KFVAmpmZmZkZQECPwvUoXI/yP3sUrkfhWkhAj8L1KFyPLEBxPQrXo7BCQMP1KFyPAjdACtejcD2KI0BSuB6F61FNQBSuR+F6lCZAmpmZmZmpVkApXI/C9ag+QIXrUbgeBTtAKVyPwvUITEDD9Shcj8IlQLgehetRCFhA16NwPQonVkAAAAAAAGBSQLgehetRuPI/w/UoXI8CRUAzMzMzM5NNQOF6FK5HoTpAPQrXo3B9PkCF61G4HgUsQHE9Ctej8EhAXI/C9ShcE0BxPQrXo+BSQBSuR+F6FFFAexSuR+F6GUBSuB6F62FYQHE9CtejcChAXI/C9SjcS0DhehSuR/FQQNejcD0Kt1hAAAAAAACwUkDXo3A9CkdWQMP1KFyPclZAAAAAAADgSEDNzMzMzMzwPylcj8L1qDpAuB6F61G45j/2KFyPwvVEQGZmZmZmBkRAuB6F61FIUkC4HoXrUfhAQM3MzMzMzBNAPQrXo3AdSUD2KFyPwvVIQI/C9Shcj1FAmpmZmZlpVUAAAAAAABBQQNejcD0Kd01AexSuR+F6IkDsUbgehWtJQEjhehSuR1VAw/UoXI9CKED2KFyPwvUYQHsUrkfh+jFAzczMzMzMUkC4HoXrUfhRQD0K16NwPSlApHA9CtfjU0CPwvUoXK9BQK5H4XoUrlhACtejcD0KT0AK16NwPco8QM3MzMzM3FRAw/UoXI8CVkDhehSuR+FBQLgehetRmEVA7FG4HoUbV0DXo3A9ChdEQBSuR+F6dEhA7FG4HoVrRkDXo3A9CrdJQNejcD0K1yhACtejcD26WEDsUbgehStQQOxRuB6Fq0RA7FG4HoULSkDD9ShcjwI6QFyPwvUo/E9ApHA9CtcjRUDXo3A9CtcFQDMzMzMzc01Aj8L1KFyPQUAfhetRuJ4gQNejcD0KN1VASOF6FK7HT0AfhetRuJ5AQK5H4XoUjkFAPQrXo3DdSEBI4XoUrudVQPYoXI/CBVVA7FG4HoUrQkCkcD0K16NEQKRwPQrXY0FAPQrXo3AtVkDD9ShcjzJWQOF6FK5HIUxAXI/C9ShcEUCamZmZmWlVQBSuR+F6FBJAcT0K16MwO0AUrkfhepRGQGZmZmZmZgJAw/UoXI/iUUBcj8L1KNw7QOxRuB6FaypASOF6FK7HJ0CF61G4HiVTQB+F61G4DldAzczMzMysUUAfhetRuB4DQEjhehSud1ZASOF6FK5HOEBmZmZmZiZNQFyPwvUoDFVA4XoUrkcBUkCF61G4HoXjP4/C9ShcX1ZASOF6FK4HQUAUrkfhetRCQM3MzMzMTFFAzczMzMyMR0AzMzMzM7M5QBSuR+F6lDBACtejcD2qTkAzMzMzMzMsQHE9Ctej8EBAzczMzMzcVUCuR+F6FG47QKRwPQrXA0FAcT0K16NwGkA9CtejcP0xQOF6FK5H8VhA16NwPQr3TkAK16NwPWpIQB+F61G4/kdAuB6F61G4R0C4HoXrUXg4QFK4HoXrwVFAmpmZmZn5TUCkcD0K1wNGQLgehetRWEZA7FG4HoWLUUBxPQrXo/BIQHE9Ctej8EVA9ihcj8KVTEDD9Shcj8IwQKRwPQrXQ1BAFK5H4XpUQUB7FK5H4dpIQOxRuB6FKztAH4XrUbhuVUAUrkfhetRLQM3MzMzMzAxAUrgeheuRU0D2KFyPwoVRQKRwPQrXI1BAmpmZmZmpUEBxPQrXoxBOQEjhehSu50xAPQrXo3CtU0DNzMzMzKxPQOF6FK5HgUdA9ihcj8LlUEA9CtejcH0xQPYoXI/C9VJA4XoUrkfhVkBmZmZmZgZGQNejcD0KF0RASOF6FK5HRkBSuB6F6/FKQHE9CtejAFZAuB6F61H4S0AfhetRuJ5WQOxRuB6FS0RAw/UoXI9SU0DhehSuR8FWQBSuR+F6NEdAFK5H4XpEUUBmZmZmZmYCQJqZmZmZuUBACtejcD2KLkD2KFyPwqVYQDMzMzMzcz5APQrXo3A9NkAAAAAAAIAjQDMzMzMz41BAuB6F61H4OkDNzMzMzFxSQOF6FK5HAURA9ihcj8JVSkB7FK5H4bpOQFyPwvUoXE9AMzMzMzMzBUBmZmZmZuZAQFyPwvUovE5AUrgehevRMEBmZmZmZnZSQJqZmZmZWVhAH4XrUbi+QEB7FK5H4RpPQNejcD0K91JAKVyPwvWYWEBxPQrXo7AxQFK4HoXrkUtAj8L1KFyfVEAUrkfhegRQQAAAAAAAAEBAMzMzMzOTQ0DhehSuR+EoQEjhehSuRxRAuB6F61G4GECamZmZmdlLQHE9CtejkEdA9ihcj8I1U0A9CtejcJ1TQHE9CtejcExAcT0K16MwTUDXo3A9CtdRQLgehetRGEhAUrgehevRK0DhehSuR0FGQJqZmZmZuUtA7FG4HoXrMUCPwvUoXK9EQEjhehSuxzhAMzMzMzOzIUDhehSuRyE8QOxRuB6FS0pA16NwPQr3U0AK16NwPepHQOF6FK5HIUtAFK5H4XqkU0C4HoXrUWhTQClcj8L1KAJAAAAAAACATUBSuB6F6xE5QDMzMzMz00VAXI/C9Sj8REBxPQrXoxBMQFyPwvUoLFdAw/UoXI/CLEDhehSuR6FMQK5H4XoUzkFA16NwPQpXREApXI/C9eg/QNejcD0Kp1hAj8L1KFwPUkDD9Shcj8I0QClcj8L1WFdA9ihcj8IVSkCuR+F6FG5NQKRwPQrXIzdAuB6F61GYVkCF61G4HsVRQPYoXI/CtUpAzczMzMzMNkA9CtejcG1WQM3MzMzMzFhAXI/C9SjcSECF61G4HoUqQLgehetR+DpAuB6F61FYTkC4HoXrUVhDQPYoXI/CpVJAXI/C9SiMV0DsUbgehUtVQDMzMzMzM0VACtejcD1KQUDsUbgehWtIQNejcD0K909AAAAAAADAS0DNzMzMzExAQIXrUbgeZUpAMzMzMzNzQkAK16NwPQoWQJqZmZmZGUpASOF6FK4HUUDsUbgehQtCQGZmZmZmBlFA7FG4HoXrJED2KFyPwjU3QD0K16NwPf4/16NwPQpXSEAUrkfhehQjQHE9CtejEFNASOF6FK6HS0DNzMzMzEwxQClcj8L1WFFAXI/C9SjcIUBSuB6F64FSQHE9CtejcCdA7FG4HoXrNUApXI/C9YhCQPYoXI/CBVVArkfhehRuTUDsUbgehUtLQPYoXI/C9VFAzczMzMxMLEAK16NwPco8QHsUrkfhekdAUrgeheuBWEBSuB6F6yFXQClcj8L1uFNAAAAAAAAAVEBSuB6F65FPQM3MzMzMzABA9ihcj8L1LUBSuB6F69EjQOxRuB6F6ylA16NwPQqXM0DhehSuR+FCQDMzMzMz81dAexSuR+F6E0ApXI/C9RhQQNejcD0Kl1FAZmZmZmaGQUAUrkfhenRNQFK4HoXrEThAKVyPwvVIWEAfhetRuD5CQB+F61G4/kVAPQrXo3DtU0CF61G4HgVWQFK4HoXr8UJAuB6F61H4QkBcj8L1KBwyQArXo3A9SlBApHA9CtcjPEBSuB6F6xFOQD0K16NwfUtAzczMzMxMTUD2KFyPwrVJQEjhehSuRz5AXI/C9Sh8QED2KFyPwhVAQJqZmZmZGUhA",
          "dtype": "f8"
         },
         "xaxis": "x",
         "yaxis": "y"
        }
       ],
       "layout": {
        "barmode": "relative",
        "height": 500,
        "legend": {
         "tracegroupgap": 0
        },
        "template": {
         "data": {
          "bar": [
           {
            "error_x": {
             "color": "#2a3f5f"
            },
            "error_y": {
             "color": "#2a3f5f"
            },
            "marker": {
             "line": {
              "color": "#E5ECF6",
              "width": 0.5
             },
             "pattern": {
              "fillmode": "overlay",
              "size": 10,
              "solidity": 0.2
             }
            },
            "type": "bar"
           }
          ],
          "barpolar": [
           {
            "marker": {
             "line": {
              "color": "#E5ECF6",
              "width": 0.5
             },
             "pattern": {
              "fillmode": "overlay",
              "size": 10,
              "solidity": 0.2
             }
            },
            "type": "barpolar"
           }
          ],
          "carpet": [
           {
            "aaxis": {
             "endlinecolor": "#2a3f5f",
             "gridcolor": "white",
             "linecolor": "white",
             "minorgridcolor": "white",
             "startlinecolor": "#2a3f5f"
            },
            "baxis": {
             "endlinecolor": "#2a3f5f",
             "gridcolor": "white",
             "linecolor": "white",
             "minorgridcolor": "white",
             "startlinecolor": "#2a3f5f"
            },
            "type": "carpet"
           }
          ],
          "choropleth": [
           {
            "colorbar": {
             "outlinewidth": 0,
             "ticks": ""
            },
            "type": "choropleth"
           }
          ],
          "contour": [
           {
            "colorbar": {
             "outlinewidth": 0,
             "ticks": ""
            },
            "colorscale": [
             [
              0,
              "#0d0887"
             ],
             [
              0.1111111111111111,
              "#46039f"
             ],
             [
              0.2222222222222222,
              "#7201a8"
             ],
             [
              0.3333333333333333,
              "#9c179e"
             ],
             [
              0.4444444444444444,
              "#bd3786"
             ],
             [
              0.5555555555555556,
              "#d8576b"
             ],
             [
              0.6666666666666666,
              "#ed7953"
             ],
             [
              0.7777777777777778,
              "#fb9f3a"
             ],
             [
              0.8888888888888888,
              "#fdca26"
             ],
             [
              1,
              "#f0f921"
             ]
            ],
            "type": "contour"
           }
          ],
          "contourcarpet": [
           {
            "colorbar": {
             "outlinewidth": 0,
             "ticks": ""
            },
            "type": "contourcarpet"
           }
          ],
          "heatmap": [
           {
            "colorbar": {
             "outlinewidth": 0,
             "ticks": ""
            },
            "colorscale": [
             [
              0,
              "#0d0887"
             ],
             [
              0.1111111111111111,
              "#46039f"
             ],
             [
              0.2222222222222222,
              "#7201a8"
             ],
             [
              0.3333333333333333,
              "#9c179e"
             ],
             [
              0.4444444444444444,
              "#bd3786"
             ],
             [
              0.5555555555555556,
              "#d8576b"
             ],
             [
              0.6666666666666666,
              "#ed7953"
             ],
             [
              0.7777777777777778,
              "#fb9f3a"
             ],
             [
              0.8888888888888888,
              "#fdca26"
             ],
             [
              1,
              "#f0f921"
             ]
            ],
            "type": "heatmap"
           }
          ],
          "histogram": [
           {
            "marker": {
             "pattern": {
              "fillmode": "overlay",
              "size": 10,
              "solidity": 0.2
             }
            },
            "type": "histogram"
           }
          ],
          "histogram2d": [
           {
            "colorbar": {
             "outlinewidth": 0,
             "ticks": ""
            },
            "colorscale": [
             [
              0,
              "#0d0887"
             ],
             [
              0.1111111111111111,
              "#46039f"
             ],
             [
              0.2222222222222222,
              "#7201a8"
             ],
             [
              0.3333333333333333,
              "#9c179e"
             ],
             [
              0.4444444444444444,
              "#bd3786"
             ],
             [
              0.5555555555555556,
              "#d8576b"
             ],
             [
              0.6666666666666666,
              "#ed7953"
             ],
             [
              0.7777777777777778,
              "#fb9f3a"
             ],
             [
              0.8888888888888888,
              "#fdca26"
             ],
             [
              1,
              "#f0f921"
             ]
            ],
            "type": "histogram2d"
           }
          ],
          "histogram2dcontour": [
           {
            "colorbar": {
             "outlinewidth": 0,
             "ticks": ""
            },
            "colorscale": [
             [
              0,
              "#0d0887"
             ],
             [
              0.1111111111111111,
              "#46039f"
             ],
             [
              0.2222222222222222,
              "#7201a8"
             ],
             [
              0.3333333333333333,
              "#9c179e"
             ],
             [
              0.4444444444444444,
              "#bd3786"
             ],
             [
              0.5555555555555556,
              "#d8576b"
             ],
             [
              0.6666666666666666,
              "#ed7953"
             ],
             [
              0.7777777777777778,
              "#fb9f3a"
             ],
             [
              0.8888888888888888,
              "#fdca26"
             ],
             [
              1,
              "#f0f921"
             ]
            ],
            "type": "histogram2dcontour"
           }
          ],
          "mesh3d": [
           {
            "colorbar": {
             "outlinewidth": 0,
             "ticks": ""
            },
            "type": "mesh3d"
           }
          ],
          "parcoords": [
           {
            "line": {
             "colorbar": {
              "outlinewidth": 0,
              "ticks": ""
             }
            },
            "type": "parcoords"
           }
          ],
          "pie": [
           {
            "automargin": true,
            "type": "pie"
           }
          ],
          "scatter": [
           {
            "fillpattern": {
             "fillmode": "overlay",
             "size": 10,
             "solidity": 0.2
            },
            "type": "scatter"
           }
          ],
          "scatter3d": [
           {
            "line": {
             "colorbar": {
              "outlinewidth": 0,
              "ticks": ""
             }
            },
            "marker": {
             "colorbar": {
              "outlinewidth": 0,
              "ticks": ""
             }
            },
            "type": "scatter3d"
           }
          ],
          "scattercarpet": [
           {
            "marker": {
             "colorbar": {
              "outlinewidth": 0,
              "ticks": ""
             }
            },
            "type": "scattercarpet"
           }
          ],
          "scattergeo": [
           {
            "marker": {
             "colorbar": {
              "outlinewidth": 0,
              "ticks": ""
             }
            },
            "type": "scattergeo"
           }
          ],
          "scattergl": [
           {
            "marker": {
             "colorbar": {
              "outlinewidth": 0,
              "ticks": ""
             }
            },
            "type": "scattergl"
           }
          ],
          "scattermap": [
           {
            "marker": {
             "colorbar": {
              "outlinewidth": 0,
              "ticks": ""
             }
            },
            "type": "scattermap"
           }
          ],
          "scattermapbox": [
           {
            "marker": {
             "colorbar": {
              "outlinewidth": 0,
              "ticks": ""
             }
            },
            "type": "scattermapbox"
           }
          ],
          "scatterpolar": [
           {
            "marker": {
             "colorbar": {
              "outlinewidth": 0,
              "ticks": ""
             }
            },
            "type": "scatterpolar"
           }
          ],
          "scatterpolargl": [
           {
            "marker": {
             "colorbar": {
              "outlinewidth": 0,
              "ticks": ""
             }
            },
            "type": "scatterpolargl"
           }
          ],
          "scatterternary": [
           {
            "marker": {
             "colorbar": {
              "outlinewidth": 0,
              "ticks": ""
             }
            },
            "type": "scatterternary"
           }
          ],
          "surface": [
           {
            "colorbar": {
             "outlinewidth": 0,
             "ticks": ""
            },
            "colorscale": [
             [
              0,
              "#0d0887"
             ],
             [
              0.1111111111111111,
              "#46039f"
             ],
             [
              0.2222222222222222,
              "#7201a8"
             ],
             [
              0.3333333333333333,
              "#9c179e"
             ],
             [
              0.4444444444444444,
              "#bd3786"
             ],
             [
              0.5555555555555556,
              "#d8576b"
             ],
             [
              0.6666666666666666,
              "#ed7953"
             ],
             [
              0.7777777777777778,
              "#fb9f3a"
             ],
             [
              0.8888888888888888,
              "#fdca26"
             ],
             [
              1,
              "#f0f921"
             ]
            ],
            "type": "surface"
           }
          ],
          "table": [
           {
            "cells": {
             "fill": {
              "color": "#EBF0F8"
             },
             "line": {
              "color": "white"
             }
            },
            "header": {
             "fill": {
              "color": "#C8D4E3"
             },
             "line": {
              "color": "white"
             }
            },
            "type": "table"
           }
          ]
         },
         "layout": {
          "annotationdefaults": {
           "arrowcolor": "#2a3f5f",
           "arrowhead": 0,
           "arrowwidth": 1
          },
          "autotypenumbers": "strict",
          "coloraxis": {
           "colorbar": {
            "outlinewidth": 0,
            "ticks": ""
           }
          },
          "colorscale": {
           "diverging": [
            [
             0,
             "#8e0152"
            ],
            [
             0.1,
             "#c51b7d"
            ],
            [
             0.2,
             "#de77ae"
            ],
            [
             0.3,
             "#f1b6da"
            ],
            [
             0.4,
             "#fde0ef"
            ],
            [
             0.5,
             "#f7f7f7"
            ],
            [
             0.6,
             "#e6f5d0"
            ],
            [
             0.7,
             "#b8e186"
            ],
            [
             0.8,
             "#7fbc41"
            ],
            [
             0.9,
             "#4d9221"
            ],
            [
             1,
             "#276419"
            ]
           ],
           "sequential": [
            [
             0,
             "#0d0887"
            ],
            [
             0.1111111111111111,
             "#46039f"
            ],
            [
             0.2222222222222222,
             "#7201a8"
            ],
            [
             0.3333333333333333,
             "#9c179e"
            ],
            [
             0.4444444444444444,
             "#bd3786"
            ],
            [
             0.5555555555555556,
             "#d8576b"
            ],
            [
             0.6666666666666666,
             "#ed7953"
            ],
            [
             0.7777777777777778,
             "#fb9f3a"
            ],
            [
             0.8888888888888888,
             "#fdca26"
            ],
            [
             1,
             "#f0f921"
            ]
           ],
           "sequentialminus": [
            [
             0,
             "#0d0887"
            ],
            [
             0.1111111111111111,
             "#46039f"
            ],
            [
             0.2222222222222222,
             "#7201a8"
            ],
            [
             0.3333333333333333,
             "#9c179e"
            ],
            [
             0.4444444444444444,
             "#bd3786"
            ],
            [
             0.5555555555555556,
             "#d8576b"
            ],
            [
             0.6666666666666666,
             "#ed7953"
            ],
            [
             0.7777777777777778,
             "#fb9f3a"
            ],
            [
             0.8888888888888888,
             "#fdca26"
            ],
            [
             1,
             "#f0f921"
            ]
           ]
          },
          "colorway": [
           "#636efa",
           "#EF553B",
           "#00cc96",
           "#ab63fa",
           "#FFA15A",
           "#19d3f3",
           "#FF6692",
           "#B6E880",
           "#FF97FF",
           "#FECB52"
          ],
          "font": {
           "color": "#2a3f5f"
          },
          "geo": {
           "bgcolor": "white",
           "lakecolor": "white",
           "landcolor": "#E5ECF6",
           "showlakes": true,
           "showland": true,
           "subunitcolor": "white"
          },
          "hoverlabel": {
           "align": "left"
          },
          "hovermode": "closest",
          "mapbox": {
           "style": "light"
          },
          "paper_bgcolor": "white",
          "plot_bgcolor": "#E5ECF6",
          "polar": {
           "angularaxis": {
            "gridcolor": "white",
            "linecolor": "white",
            "ticks": ""
           },
           "bgcolor": "#E5ECF6",
           "radialaxis": {
            "gridcolor": "white",
            "linecolor": "white",
            "ticks": ""
           }
          },
          "scene": {
           "xaxis": {
            "backgroundcolor": "#E5ECF6",
            "gridcolor": "white",
            "gridwidth": 2,
            "linecolor": "white",
            "showbackground": true,
            "ticks": "",
            "zerolinecolor": "white"
           },
           "yaxis": {
            "backgroundcolor": "#E5ECF6",
            "gridcolor": "white",
            "gridwidth": 2,
            "linecolor": "white",
            "showbackground": true,
            "ticks": "",
            "zerolinecolor": "white"
           },
           "zaxis": {
            "backgroundcolor": "#E5ECF6",
            "gridcolor": "white",
            "gridwidth": 2,
            "linecolor": "white",
            "showbackground": true,
            "ticks": "",
            "zerolinecolor": "white"
           }
          },
          "shapedefaults": {
           "line": {
            "color": "#2a3f5f"
           }
          },
          "ternary": {
           "aaxis": {
            "gridcolor": "white",
            "linecolor": "white",
            "ticks": ""
           },
           "baxis": {
            "gridcolor": "white",
            "linecolor": "white",
            "ticks": ""
           },
           "bgcolor": "#E5ECF6",
           "caxis": {
            "gridcolor": "white",
            "linecolor": "white",
            "ticks": ""
           }
          },
          "title": {
           "x": 0.05
          },
          "xaxis": {
           "automargin": true,
           "gridcolor": "white",
           "linecolor": "white",
           "ticks": "",
           "title": {
            "standoff": 15
           },
           "zerolinecolor": "white",
           "zerolinewidth": 2
          },
          "yaxis": {
           "automargin": true,
           "gridcolor": "white",
           "linecolor": "white",
           "ticks": "",
           "title": {
            "standoff": 15
           },
           "zerolinecolor": "white",
           "zerolinewidth": 2
          }
         }
        },
        "title": {
         "text": "Financial Loss Distribution"
        },
        "width": 800,
        "xaxis": {
         "anchor": "y",
         "domain": [
          0,
          1
         ],
         "title": {
          "text": "Financial Loss (in Million $)"
         }
        },
        "yaxis": {
         "anchor": "x",
         "domain": [
          0,
          1
         ],
         "title": {
          "text": "count"
         }
        }
       }
      }
     },
     "metadata": {},
     "output_type": "display_data"
    }
   ],
   "source": [
    "fig = px.histogram(\n",
    "    df,\n",
    "    x = 'Financial Loss (in Million $)',\n",
    "    nbins=10,\n",
    "    title='Financial Loss Distribution',\n",
    "     width=800,\n",
    "    height=500\n",
    "\n",
    ")\n",
    "fig.show()"
   ]
  },
  {
   "cell_type": "markdown",
   "id": "9db1e857",
   "metadata": {},
   "source": [
    "## **Count of Attacks by Country**"
   ]
  },
  {
   "cell_type": "code",
   "execution_count": 36,
   "id": "6cf65aab",
   "metadata": {},
   "outputs": [
    {
     "data": {
      "application/vnd.plotly.v1+json": {
       "config": {
        "plotlyServerURL": "https://plot.ly"
       },
       "data": [
        {
         "hovertemplate": "Country=%{x}<br>Count=%{y}<extra></extra>",
         "legendgroup": "UK",
         "marker": {
          "color": "#636efa",
          "pattern": {
           "shape": ""
          }
         },
         "name": "UK",
         "orientation": "v",
         "showlegend": true,
         "textposition": "auto",
         "texttemplate": "%{y}",
         "type": "bar",
         "x": [
          "UK"
         ],
         "xaxis": "x",
         "y": {
          "bdata": "QQE=",
          "dtype": "i2"
         },
         "yaxis": "y"
        },
        {
         "hovertemplate": "Country=%{x}<br>Count=%{y}<extra></extra>",
         "legendgroup": "Brazil",
         "marker": {
          "color": "#EF553B",
          "pattern": {
           "shape": ""
          }
         },
         "name": "Brazil",
         "orientation": "v",
         "showlegend": true,
         "textposition": "auto",
         "texttemplate": "%{y}",
         "type": "bar",
         "x": [
          "Brazil"
         ],
         "xaxis": "x",
         "y": {
          "bdata": "NgE=",
          "dtype": "i2"
         },
         "yaxis": "y"
        },
        {
         "hovertemplate": "Country=%{x}<br>Count=%{y}<extra></extra>",
         "legendgroup": "India",
         "marker": {
          "color": "#00cc96",
          "pattern": {
           "shape": ""
          }
         },
         "name": "India",
         "orientation": "v",
         "showlegend": true,
         "textposition": "auto",
         "texttemplate": "%{y}",
         "type": "bar",
         "x": [
          "India"
         ],
         "xaxis": "x",
         "y": {
          "bdata": "NAE=",
          "dtype": "i2"
         },
         "yaxis": "y"
        },
        {
         "hovertemplate": "Country=%{x}<br>Count=%{y}<extra></extra>",
         "legendgroup": "Japan",
         "marker": {
          "color": "#ab63fa",
          "pattern": {
           "shape": ""
          }
         },
         "name": "Japan",
         "orientation": "v",
         "showlegend": true,
         "textposition": "auto",
         "texttemplate": "%{y}",
         "type": "bar",
         "x": [
          "Japan"
         ],
         "xaxis": "x",
         "y": {
          "bdata": "MQE=",
          "dtype": "i2"
         },
         "yaxis": "y"
        },
        {
         "hovertemplate": "Country=%{x}<br>Count=%{y}<extra></extra>",
         "legendgroup": "France",
         "marker": {
          "color": "#FFA15A",
          "pattern": {
           "shape": ""
          }
         },
         "name": "France",
         "orientation": "v",
         "showlegend": true,
         "textposition": "auto",
         "texttemplate": "%{y}",
         "type": "bar",
         "x": [
          "France"
         ],
         "xaxis": "x",
         "y": {
          "bdata": "MQE=",
          "dtype": "i2"
         },
         "yaxis": "y"
        },
        {
         "hovertemplate": "Country=%{x}<br>Count=%{y}<extra></extra>",
         "legendgroup": "Australia",
         "marker": {
          "color": "#19d3f3",
          "pattern": {
           "shape": ""
          }
         },
         "name": "Australia",
         "orientation": "v",
         "showlegend": true,
         "textposition": "auto",
         "texttemplate": "%{y}",
         "type": "bar",
         "x": [
          "Australia"
         ],
         "xaxis": "x",
         "y": {
          "bdata": "KQE=",
          "dtype": "i2"
         },
         "yaxis": "y"
        },
        {
         "hovertemplate": "Country=%{x}<br>Count=%{y}<extra></extra>",
         "legendgroup": "Russia",
         "marker": {
          "color": "#FF6692",
          "pattern": {
           "shape": ""
          }
         },
         "name": "Russia",
         "orientation": "v",
         "showlegend": true,
         "textposition": "auto",
         "texttemplate": "%{y}",
         "type": "bar",
         "x": [
          "Russia"
         ],
         "xaxis": "x",
         "y": {
          "bdata": "JwE=",
          "dtype": "i2"
         },
         "yaxis": "y"
        },
        {
         "hovertemplate": "Country=%{x}<br>Count=%{y}<extra></extra>",
         "legendgroup": "Germany",
         "marker": {
          "color": "#B6E880",
          "pattern": {
           "shape": ""
          }
         },
         "name": "Germany",
         "orientation": "v",
         "showlegend": true,
         "textposition": "auto",
         "texttemplate": "%{y}",
         "type": "bar",
         "x": [
          "Germany"
         ],
         "xaxis": "x",
         "y": {
          "bdata": "IwE=",
          "dtype": "i2"
         },
         "yaxis": "y"
        },
        {
         "hovertemplate": "Country=%{x}<br>Count=%{y}<extra></extra>",
         "legendgroup": "USA",
         "marker": {
          "color": "#FF97FF",
          "pattern": {
           "shape": ""
          }
         },
         "name": "USA",
         "orientation": "v",
         "showlegend": true,
         "textposition": "auto",
         "texttemplate": "%{y}",
         "type": "bar",
         "x": [
          "USA"
         ],
         "xaxis": "x",
         "y": {
          "bdata": "HwE=",
          "dtype": "i2"
         },
         "yaxis": "y"
        },
        {
         "hovertemplate": "Country=%{x}<br>Count=%{y}<extra></extra>",
         "legendgroup": "China",
         "marker": {
          "color": "#FECB52",
          "pattern": {
           "shape": ""
          }
         },
         "name": "China",
         "orientation": "v",
         "showlegend": true,
         "textposition": "auto",
         "texttemplate": "%{y}",
         "type": "bar",
         "x": [
          "China"
         ],
         "xaxis": "x",
         "y": {
          "bdata": "GQE=",
          "dtype": "i2"
         },
         "yaxis": "y"
        }
       ],
       "layout": {
        "barmode": "relative",
        "height": 500,
        "legend": {
         "title": {
          "text": "Country"
         },
         "tracegroupgap": 0
        },
        "template": {
         "data": {
          "bar": [
           {
            "error_x": {
             "color": "#2a3f5f"
            },
            "error_y": {
             "color": "#2a3f5f"
            },
            "marker": {
             "line": {
              "color": "#E5ECF6",
              "width": 0.5
             },
             "pattern": {
              "fillmode": "overlay",
              "size": 10,
              "solidity": 0.2
             }
            },
            "type": "bar"
           }
          ],
          "barpolar": [
           {
            "marker": {
             "line": {
              "color": "#E5ECF6",
              "width": 0.5
             },
             "pattern": {
              "fillmode": "overlay",
              "size": 10,
              "solidity": 0.2
             }
            },
            "type": "barpolar"
           }
          ],
          "carpet": [
           {
            "aaxis": {
             "endlinecolor": "#2a3f5f",
             "gridcolor": "white",
             "linecolor": "white",
             "minorgridcolor": "white",
             "startlinecolor": "#2a3f5f"
            },
            "baxis": {
             "endlinecolor": "#2a3f5f",
             "gridcolor": "white",
             "linecolor": "white",
             "minorgridcolor": "white",
             "startlinecolor": "#2a3f5f"
            },
            "type": "carpet"
           }
          ],
          "choropleth": [
           {
            "colorbar": {
             "outlinewidth": 0,
             "ticks": ""
            },
            "type": "choropleth"
           }
          ],
          "contour": [
           {
            "colorbar": {
             "outlinewidth": 0,
             "ticks": ""
            },
            "colorscale": [
             [
              0,
              "#0d0887"
             ],
             [
              0.1111111111111111,
              "#46039f"
             ],
             [
              0.2222222222222222,
              "#7201a8"
             ],
             [
              0.3333333333333333,
              "#9c179e"
             ],
             [
              0.4444444444444444,
              "#bd3786"
             ],
             [
              0.5555555555555556,
              "#d8576b"
             ],
             [
              0.6666666666666666,
              "#ed7953"
             ],
             [
              0.7777777777777778,
              "#fb9f3a"
             ],
             [
              0.8888888888888888,
              "#fdca26"
             ],
             [
              1,
              "#f0f921"
             ]
            ],
            "type": "contour"
           }
          ],
          "contourcarpet": [
           {
            "colorbar": {
             "outlinewidth": 0,
             "ticks": ""
            },
            "type": "contourcarpet"
           }
          ],
          "heatmap": [
           {
            "colorbar": {
             "outlinewidth": 0,
             "ticks": ""
            },
            "colorscale": [
             [
              0,
              "#0d0887"
             ],
             [
              0.1111111111111111,
              "#46039f"
             ],
             [
              0.2222222222222222,
              "#7201a8"
             ],
             [
              0.3333333333333333,
              "#9c179e"
             ],
             [
              0.4444444444444444,
              "#bd3786"
             ],
             [
              0.5555555555555556,
              "#d8576b"
             ],
             [
              0.6666666666666666,
              "#ed7953"
             ],
             [
              0.7777777777777778,
              "#fb9f3a"
             ],
             [
              0.8888888888888888,
              "#fdca26"
             ],
             [
              1,
              "#f0f921"
             ]
            ],
            "type": "heatmap"
           }
          ],
          "histogram": [
           {
            "marker": {
             "pattern": {
              "fillmode": "overlay",
              "size": 10,
              "solidity": 0.2
             }
            },
            "type": "histogram"
           }
          ],
          "histogram2d": [
           {
            "colorbar": {
             "outlinewidth": 0,
             "ticks": ""
            },
            "colorscale": [
             [
              0,
              "#0d0887"
             ],
             [
              0.1111111111111111,
              "#46039f"
             ],
             [
              0.2222222222222222,
              "#7201a8"
             ],
             [
              0.3333333333333333,
              "#9c179e"
             ],
             [
              0.4444444444444444,
              "#bd3786"
             ],
             [
              0.5555555555555556,
              "#d8576b"
             ],
             [
              0.6666666666666666,
              "#ed7953"
             ],
             [
              0.7777777777777778,
              "#fb9f3a"
             ],
             [
              0.8888888888888888,
              "#fdca26"
             ],
             [
              1,
              "#f0f921"
             ]
            ],
            "type": "histogram2d"
           }
          ],
          "histogram2dcontour": [
           {
            "colorbar": {
             "outlinewidth": 0,
             "ticks": ""
            },
            "colorscale": [
             [
              0,
              "#0d0887"
             ],
             [
              0.1111111111111111,
              "#46039f"
             ],
             [
              0.2222222222222222,
              "#7201a8"
             ],
             [
              0.3333333333333333,
              "#9c179e"
             ],
             [
              0.4444444444444444,
              "#bd3786"
             ],
             [
              0.5555555555555556,
              "#d8576b"
             ],
             [
              0.6666666666666666,
              "#ed7953"
             ],
             [
              0.7777777777777778,
              "#fb9f3a"
             ],
             [
              0.8888888888888888,
              "#fdca26"
             ],
             [
              1,
              "#f0f921"
             ]
            ],
            "type": "histogram2dcontour"
           }
          ],
          "mesh3d": [
           {
            "colorbar": {
             "outlinewidth": 0,
             "ticks": ""
            },
            "type": "mesh3d"
           }
          ],
          "parcoords": [
           {
            "line": {
             "colorbar": {
              "outlinewidth": 0,
              "ticks": ""
             }
            },
            "type": "parcoords"
           }
          ],
          "pie": [
           {
            "automargin": true,
            "type": "pie"
           }
          ],
          "scatter": [
           {
            "fillpattern": {
             "fillmode": "overlay",
             "size": 10,
             "solidity": 0.2
            },
            "type": "scatter"
           }
          ],
          "scatter3d": [
           {
            "line": {
             "colorbar": {
              "outlinewidth": 0,
              "ticks": ""
             }
            },
            "marker": {
             "colorbar": {
              "outlinewidth": 0,
              "ticks": ""
             }
            },
            "type": "scatter3d"
           }
          ],
          "scattercarpet": [
           {
            "marker": {
             "colorbar": {
              "outlinewidth": 0,
              "ticks": ""
             }
            },
            "type": "scattercarpet"
           }
          ],
          "scattergeo": [
           {
            "marker": {
             "colorbar": {
              "outlinewidth": 0,
              "ticks": ""
             }
            },
            "type": "scattergeo"
           }
          ],
          "scattergl": [
           {
            "marker": {
             "colorbar": {
              "outlinewidth": 0,
              "ticks": ""
             }
            },
            "type": "scattergl"
           }
          ],
          "scattermap": [
           {
            "marker": {
             "colorbar": {
              "outlinewidth": 0,
              "ticks": ""
             }
            },
            "type": "scattermap"
           }
          ],
          "scattermapbox": [
           {
            "marker": {
             "colorbar": {
              "outlinewidth": 0,
              "ticks": ""
             }
            },
            "type": "scattermapbox"
           }
          ],
          "scatterpolar": [
           {
            "marker": {
             "colorbar": {
              "outlinewidth": 0,
              "ticks": ""
             }
            },
            "type": "scatterpolar"
           }
          ],
          "scatterpolargl": [
           {
            "marker": {
             "colorbar": {
              "outlinewidth": 0,
              "ticks": ""
             }
            },
            "type": "scatterpolargl"
           }
          ],
          "scatterternary": [
           {
            "marker": {
             "colorbar": {
              "outlinewidth": 0,
              "ticks": ""
             }
            },
            "type": "scatterternary"
           }
          ],
          "surface": [
           {
            "colorbar": {
             "outlinewidth": 0,
             "ticks": ""
            },
            "colorscale": [
             [
              0,
              "#0d0887"
             ],
             [
              0.1111111111111111,
              "#46039f"
             ],
             [
              0.2222222222222222,
              "#7201a8"
             ],
             [
              0.3333333333333333,
              "#9c179e"
             ],
             [
              0.4444444444444444,
              "#bd3786"
             ],
             [
              0.5555555555555556,
              "#d8576b"
             ],
             [
              0.6666666666666666,
              "#ed7953"
             ],
             [
              0.7777777777777778,
              "#fb9f3a"
             ],
             [
              0.8888888888888888,
              "#fdca26"
             ],
             [
              1,
              "#f0f921"
             ]
            ],
            "type": "surface"
           }
          ],
          "table": [
           {
            "cells": {
             "fill": {
              "color": "#EBF0F8"
             },
             "line": {
              "color": "white"
             }
            },
            "header": {
             "fill": {
              "color": "#C8D4E3"
             },
             "line": {
              "color": "white"
             }
            },
            "type": "table"
           }
          ]
         },
         "layout": {
          "annotationdefaults": {
           "arrowcolor": "#2a3f5f",
           "arrowhead": 0,
           "arrowwidth": 1
          },
          "autotypenumbers": "strict",
          "coloraxis": {
           "colorbar": {
            "outlinewidth": 0,
            "ticks": ""
           }
          },
          "colorscale": {
           "diverging": [
            [
             0,
             "#8e0152"
            ],
            [
             0.1,
             "#c51b7d"
            ],
            [
             0.2,
             "#de77ae"
            ],
            [
             0.3,
             "#f1b6da"
            ],
            [
             0.4,
             "#fde0ef"
            ],
            [
             0.5,
             "#f7f7f7"
            ],
            [
             0.6,
             "#e6f5d0"
            ],
            [
             0.7,
             "#b8e186"
            ],
            [
             0.8,
             "#7fbc41"
            ],
            [
             0.9,
             "#4d9221"
            ],
            [
             1,
             "#276419"
            ]
           ],
           "sequential": [
            [
             0,
             "#0d0887"
            ],
            [
             0.1111111111111111,
             "#46039f"
            ],
            [
             0.2222222222222222,
             "#7201a8"
            ],
            [
             0.3333333333333333,
             "#9c179e"
            ],
            [
             0.4444444444444444,
             "#bd3786"
            ],
            [
             0.5555555555555556,
             "#d8576b"
            ],
            [
             0.6666666666666666,
             "#ed7953"
            ],
            [
             0.7777777777777778,
             "#fb9f3a"
            ],
            [
             0.8888888888888888,
             "#fdca26"
            ],
            [
             1,
             "#f0f921"
            ]
           ],
           "sequentialminus": [
            [
             0,
             "#0d0887"
            ],
            [
             0.1111111111111111,
             "#46039f"
            ],
            [
             0.2222222222222222,
             "#7201a8"
            ],
            [
             0.3333333333333333,
             "#9c179e"
            ],
            [
             0.4444444444444444,
             "#bd3786"
            ],
            [
             0.5555555555555556,
             "#d8576b"
            ],
            [
             0.6666666666666666,
             "#ed7953"
            ],
            [
             0.7777777777777778,
             "#fb9f3a"
            ],
            [
             0.8888888888888888,
             "#fdca26"
            ],
            [
             1,
             "#f0f921"
            ]
           ]
          },
          "colorway": [
           "#636efa",
           "#EF553B",
           "#00cc96",
           "#ab63fa",
           "#FFA15A",
           "#19d3f3",
           "#FF6692",
           "#B6E880",
           "#FF97FF",
           "#FECB52"
          ],
          "font": {
           "color": "#2a3f5f"
          },
          "geo": {
           "bgcolor": "white",
           "lakecolor": "white",
           "landcolor": "#E5ECF6",
           "showlakes": true,
           "showland": true,
           "subunitcolor": "white"
          },
          "hoverlabel": {
           "align": "left"
          },
          "hovermode": "closest",
          "mapbox": {
           "style": "light"
          },
          "paper_bgcolor": "white",
          "plot_bgcolor": "#E5ECF6",
          "polar": {
           "angularaxis": {
            "gridcolor": "white",
            "linecolor": "white",
            "ticks": ""
           },
           "bgcolor": "#E5ECF6",
           "radialaxis": {
            "gridcolor": "white",
            "linecolor": "white",
            "ticks": ""
           }
          },
          "scene": {
           "xaxis": {
            "backgroundcolor": "#E5ECF6",
            "gridcolor": "white",
            "gridwidth": 2,
            "linecolor": "white",
            "showbackground": true,
            "ticks": "",
            "zerolinecolor": "white"
           },
           "yaxis": {
            "backgroundcolor": "#E5ECF6",
            "gridcolor": "white",
            "gridwidth": 2,
            "linecolor": "white",
            "showbackground": true,
            "ticks": "",
            "zerolinecolor": "white"
           },
           "zaxis": {
            "backgroundcolor": "#E5ECF6",
            "gridcolor": "white",
            "gridwidth": 2,
            "linecolor": "white",
            "showbackground": true,
            "ticks": "",
            "zerolinecolor": "white"
           }
          },
          "shapedefaults": {
           "line": {
            "color": "#2a3f5f"
           }
          },
          "ternary": {
           "aaxis": {
            "gridcolor": "white",
            "linecolor": "white",
            "ticks": ""
           },
           "baxis": {
            "gridcolor": "white",
            "linecolor": "white",
            "ticks": ""
           },
           "bgcolor": "#E5ECF6",
           "caxis": {
            "gridcolor": "white",
            "linecolor": "white",
            "ticks": ""
           }
          },
          "title": {
           "x": 0.05
          },
          "xaxis": {
           "automargin": true,
           "gridcolor": "white",
           "linecolor": "white",
           "ticks": "",
           "title": {
            "standoff": 15
           },
           "zerolinecolor": "white",
           "zerolinewidth": 2
          },
          "yaxis": {
           "automargin": true,
           "gridcolor": "white",
           "linecolor": "white",
           "ticks": "",
           "title": {
            "standoff": 15
           },
           "zerolinecolor": "white",
           "zerolinewidth": 2
          }
         }
        },
        "title": {
         "text": "Number of Attacks by Country"
        },
        "width": 800,
        "xaxis": {
         "anchor": "y",
         "categoryarray": [
          "UK",
          "Brazil",
          "India",
          "Japan",
          "France",
          "Australia",
          "Russia",
          "Germany",
          "USA",
          "China"
         ],
         "categoryorder": "array",
         "domain": [
          0,
          1
         ],
         "title": {
          "text": "Country"
         }
        },
        "yaxis": {
         "anchor": "x",
         "domain": [
          0,
          1
         ],
         "title": {
          "text": "Count"
         }
        }
       }
      }
     },
     "metadata": {},
     "output_type": "display_data"
    }
   ],
   "source": [
    "country_counts = df['Country'].value_counts().reset_index()\n",
    "country_counts.columns = ['Country', 'Count']\n",
    "\n",
    "fig = px.bar(\n",
    "    country_counts, \n",
    "    x='Country',\n",
    "    y='Count',\n",
    "    title='Number of Attacks by Country', \n",
    "    color='Country',\n",
    "    width=800, \n",
    "    height=500,\n",
    "    text_auto=True\n",
    ")\n",
    "\n",
    "fig.show()"
   ]
  },
  {
   "cell_type": "markdown",
   "id": "bf98ac07",
   "metadata": {},
   "source": [
    "## **Number of Attacks by Year**"
   ]
  },
  {
   "cell_type": "code",
   "execution_count": 39,
   "id": "7b167b38",
   "metadata": {},
   "outputs": [
    {
     "data": {
      "application/vnd.plotly.v1+json": {
       "config": {
        "plotlyServerURL": "https://plot.ly"
       },
       "data": [
        {
         "hovertemplate": "Year=%{marker.color}<br>Count=%{y}<extra></extra>",
         "legendgroup": "",
         "marker": {
          "color": {
           "bdata": "3wfgB+EH4gfjB+QH5QfmB+cH6Ac=",
           "dtype": "i2"
          },
          "coloraxis": "coloraxis",
          "pattern": {
           "shape": ""
          }
         },
         "name": "",
         "orientation": "v",
         "showlegend": false,
         "textposition": "auto",
         "texttemplate": "%{y}",
         "type": "bar",
         "x": {
          "bdata": "3wfgB+EH4gfjB+QH5QfmB+cH6Ac=",
          "dtype": "i2"
         },
         "xaxis": "x",
         "y": {
          "bdata": "FQEdAT8BNgEHATsBKwE+ATsBKwE=",
          "dtype": "i2"
         },
         "yaxis": "y"
        }
       ],
       "layout": {
        "barmode": "relative",
        "coloraxis": {
         "colorbar": {
          "title": {
           "text": "Year"
          }
         },
         "colorscale": [
          [
           0,
           "#0d0887"
          ],
          [
           0.1111111111111111,
           "#46039f"
          ],
          [
           0.2222222222222222,
           "#7201a8"
          ],
          [
           0.3333333333333333,
           "#9c179e"
          ],
          [
           0.4444444444444444,
           "#bd3786"
          ],
          [
           0.5555555555555556,
           "#d8576b"
          ],
          [
           0.6666666666666666,
           "#ed7953"
          ],
          [
           0.7777777777777778,
           "#fb9f3a"
          ],
          [
           0.8888888888888888,
           "#fdca26"
          ],
          [
           1,
           "#f0f921"
          ]
         ]
        },
        "height": 500,
        "legend": {
         "tracegroupgap": 0
        },
        "template": {
         "data": {
          "bar": [
           {
            "error_x": {
             "color": "#2a3f5f"
            },
            "error_y": {
             "color": "#2a3f5f"
            },
            "marker": {
             "line": {
              "color": "#E5ECF6",
              "width": 0.5
             },
             "pattern": {
              "fillmode": "overlay",
              "size": 10,
              "solidity": 0.2
             }
            },
            "type": "bar"
           }
          ],
          "barpolar": [
           {
            "marker": {
             "line": {
              "color": "#E5ECF6",
              "width": 0.5
             },
             "pattern": {
              "fillmode": "overlay",
              "size": 10,
              "solidity": 0.2
             }
            },
            "type": "barpolar"
           }
          ],
          "carpet": [
           {
            "aaxis": {
             "endlinecolor": "#2a3f5f",
             "gridcolor": "white",
             "linecolor": "white",
             "minorgridcolor": "white",
             "startlinecolor": "#2a3f5f"
            },
            "baxis": {
             "endlinecolor": "#2a3f5f",
             "gridcolor": "white",
             "linecolor": "white",
             "minorgridcolor": "white",
             "startlinecolor": "#2a3f5f"
            },
            "type": "carpet"
           }
          ],
          "choropleth": [
           {
            "colorbar": {
             "outlinewidth": 0,
             "ticks": ""
            },
            "type": "choropleth"
           }
          ],
          "contour": [
           {
            "colorbar": {
             "outlinewidth": 0,
             "ticks": ""
            },
            "colorscale": [
             [
              0,
              "#0d0887"
             ],
             [
              0.1111111111111111,
              "#46039f"
             ],
             [
              0.2222222222222222,
              "#7201a8"
             ],
             [
              0.3333333333333333,
              "#9c179e"
             ],
             [
              0.4444444444444444,
              "#bd3786"
             ],
             [
              0.5555555555555556,
              "#d8576b"
             ],
             [
              0.6666666666666666,
              "#ed7953"
             ],
             [
              0.7777777777777778,
              "#fb9f3a"
             ],
             [
              0.8888888888888888,
              "#fdca26"
             ],
             [
              1,
              "#f0f921"
             ]
            ],
            "type": "contour"
           }
          ],
          "contourcarpet": [
           {
            "colorbar": {
             "outlinewidth": 0,
             "ticks": ""
            },
            "type": "contourcarpet"
           }
          ],
          "heatmap": [
           {
            "colorbar": {
             "outlinewidth": 0,
             "ticks": ""
            },
            "colorscale": [
             [
              0,
              "#0d0887"
             ],
             [
              0.1111111111111111,
              "#46039f"
             ],
             [
              0.2222222222222222,
              "#7201a8"
             ],
             [
              0.3333333333333333,
              "#9c179e"
             ],
             [
              0.4444444444444444,
              "#bd3786"
             ],
             [
              0.5555555555555556,
              "#d8576b"
             ],
             [
              0.6666666666666666,
              "#ed7953"
             ],
             [
              0.7777777777777778,
              "#fb9f3a"
             ],
             [
              0.8888888888888888,
              "#fdca26"
             ],
             [
              1,
              "#f0f921"
             ]
            ],
            "type": "heatmap"
           }
          ],
          "histogram": [
           {
            "marker": {
             "pattern": {
              "fillmode": "overlay",
              "size": 10,
              "solidity": 0.2
             }
            },
            "type": "histogram"
           }
          ],
          "histogram2d": [
           {
            "colorbar": {
             "outlinewidth": 0,
             "ticks": ""
            },
            "colorscale": [
             [
              0,
              "#0d0887"
             ],
             [
              0.1111111111111111,
              "#46039f"
             ],
             [
              0.2222222222222222,
              "#7201a8"
             ],
             [
              0.3333333333333333,
              "#9c179e"
             ],
             [
              0.4444444444444444,
              "#bd3786"
             ],
             [
              0.5555555555555556,
              "#d8576b"
             ],
             [
              0.6666666666666666,
              "#ed7953"
             ],
             [
              0.7777777777777778,
              "#fb9f3a"
             ],
             [
              0.8888888888888888,
              "#fdca26"
             ],
             [
              1,
              "#f0f921"
             ]
            ],
            "type": "histogram2d"
           }
          ],
          "histogram2dcontour": [
           {
            "colorbar": {
             "outlinewidth": 0,
             "ticks": ""
            },
            "colorscale": [
             [
              0,
              "#0d0887"
             ],
             [
              0.1111111111111111,
              "#46039f"
             ],
             [
              0.2222222222222222,
              "#7201a8"
             ],
             [
              0.3333333333333333,
              "#9c179e"
             ],
             [
              0.4444444444444444,
              "#bd3786"
             ],
             [
              0.5555555555555556,
              "#d8576b"
             ],
             [
              0.6666666666666666,
              "#ed7953"
             ],
             [
              0.7777777777777778,
              "#fb9f3a"
             ],
             [
              0.8888888888888888,
              "#fdca26"
             ],
             [
              1,
              "#f0f921"
             ]
            ],
            "type": "histogram2dcontour"
           }
          ],
          "mesh3d": [
           {
            "colorbar": {
             "outlinewidth": 0,
             "ticks": ""
            },
            "type": "mesh3d"
           }
          ],
          "parcoords": [
           {
            "line": {
             "colorbar": {
              "outlinewidth": 0,
              "ticks": ""
             }
            },
            "type": "parcoords"
           }
          ],
          "pie": [
           {
            "automargin": true,
            "type": "pie"
           }
          ],
          "scatter": [
           {
            "fillpattern": {
             "fillmode": "overlay",
             "size": 10,
             "solidity": 0.2
            },
            "type": "scatter"
           }
          ],
          "scatter3d": [
           {
            "line": {
             "colorbar": {
              "outlinewidth": 0,
              "ticks": ""
             }
            },
            "marker": {
             "colorbar": {
              "outlinewidth": 0,
              "ticks": ""
             }
            },
            "type": "scatter3d"
           }
          ],
          "scattercarpet": [
           {
            "marker": {
             "colorbar": {
              "outlinewidth": 0,
              "ticks": ""
             }
            },
            "type": "scattercarpet"
           }
          ],
          "scattergeo": [
           {
            "marker": {
             "colorbar": {
              "outlinewidth": 0,
              "ticks": ""
             }
            },
            "type": "scattergeo"
           }
          ],
          "scattergl": [
           {
            "marker": {
             "colorbar": {
              "outlinewidth": 0,
              "ticks": ""
             }
            },
            "type": "scattergl"
           }
          ],
          "scattermap": [
           {
            "marker": {
             "colorbar": {
              "outlinewidth": 0,
              "ticks": ""
             }
            },
            "type": "scattermap"
           }
          ],
          "scattermapbox": [
           {
            "marker": {
             "colorbar": {
              "outlinewidth": 0,
              "ticks": ""
             }
            },
            "type": "scattermapbox"
           }
          ],
          "scatterpolar": [
           {
            "marker": {
             "colorbar": {
              "outlinewidth": 0,
              "ticks": ""
             }
            },
            "type": "scatterpolar"
           }
          ],
          "scatterpolargl": [
           {
            "marker": {
             "colorbar": {
              "outlinewidth": 0,
              "ticks": ""
             }
            },
            "type": "scatterpolargl"
           }
          ],
          "scatterternary": [
           {
            "marker": {
             "colorbar": {
              "outlinewidth": 0,
              "ticks": ""
             }
            },
            "type": "scatterternary"
           }
          ],
          "surface": [
           {
            "colorbar": {
             "outlinewidth": 0,
             "ticks": ""
            },
            "colorscale": [
             [
              0,
              "#0d0887"
             ],
             [
              0.1111111111111111,
              "#46039f"
             ],
             [
              0.2222222222222222,
              "#7201a8"
             ],
             [
              0.3333333333333333,
              "#9c179e"
             ],
             [
              0.4444444444444444,
              "#bd3786"
             ],
             [
              0.5555555555555556,
              "#d8576b"
             ],
             [
              0.6666666666666666,
              "#ed7953"
             ],
             [
              0.7777777777777778,
              "#fb9f3a"
             ],
             [
              0.8888888888888888,
              "#fdca26"
             ],
             [
              1,
              "#f0f921"
             ]
            ],
            "type": "surface"
           }
          ],
          "table": [
           {
            "cells": {
             "fill": {
              "color": "#EBF0F8"
             },
             "line": {
              "color": "white"
             }
            },
            "header": {
             "fill": {
              "color": "#C8D4E3"
             },
             "line": {
              "color": "white"
             }
            },
            "type": "table"
           }
          ]
         },
         "layout": {
          "annotationdefaults": {
           "arrowcolor": "#2a3f5f",
           "arrowhead": 0,
           "arrowwidth": 1
          },
          "autotypenumbers": "strict",
          "coloraxis": {
           "colorbar": {
            "outlinewidth": 0,
            "ticks": ""
           }
          },
          "colorscale": {
           "diverging": [
            [
             0,
             "#8e0152"
            ],
            [
             0.1,
             "#c51b7d"
            ],
            [
             0.2,
             "#de77ae"
            ],
            [
             0.3,
             "#f1b6da"
            ],
            [
             0.4,
             "#fde0ef"
            ],
            [
             0.5,
             "#f7f7f7"
            ],
            [
             0.6,
             "#e6f5d0"
            ],
            [
             0.7,
             "#b8e186"
            ],
            [
             0.8,
             "#7fbc41"
            ],
            [
             0.9,
             "#4d9221"
            ],
            [
             1,
             "#276419"
            ]
           ],
           "sequential": [
            [
             0,
             "#0d0887"
            ],
            [
             0.1111111111111111,
             "#46039f"
            ],
            [
             0.2222222222222222,
             "#7201a8"
            ],
            [
             0.3333333333333333,
             "#9c179e"
            ],
            [
             0.4444444444444444,
             "#bd3786"
            ],
            [
             0.5555555555555556,
             "#d8576b"
            ],
            [
             0.6666666666666666,
             "#ed7953"
            ],
            [
             0.7777777777777778,
             "#fb9f3a"
            ],
            [
             0.8888888888888888,
             "#fdca26"
            ],
            [
             1,
             "#f0f921"
            ]
           ],
           "sequentialminus": [
            [
             0,
             "#0d0887"
            ],
            [
             0.1111111111111111,
             "#46039f"
            ],
            [
             0.2222222222222222,
             "#7201a8"
            ],
            [
             0.3333333333333333,
             "#9c179e"
            ],
            [
             0.4444444444444444,
             "#bd3786"
            ],
            [
             0.5555555555555556,
             "#d8576b"
            ],
            [
             0.6666666666666666,
             "#ed7953"
            ],
            [
             0.7777777777777778,
             "#fb9f3a"
            ],
            [
             0.8888888888888888,
             "#fdca26"
            ],
            [
             1,
             "#f0f921"
            ]
           ]
          },
          "colorway": [
           "#636efa",
           "#EF553B",
           "#00cc96",
           "#ab63fa",
           "#FFA15A",
           "#19d3f3",
           "#FF6692",
           "#B6E880",
           "#FF97FF",
           "#FECB52"
          ],
          "font": {
           "color": "#2a3f5f"
          },
          "geo": {
           "bgcolor": "white",
           "lakecolor": "white",
           "landcolor": "#E5ECF6",
           "showlakes": true,
           "showland": true,
           "subunitcolor": "white"
          },
          "hoverlabel": {
           "align": "left"
          },
          "hovermode": "closest",
          "mapbox": {
           "style": "light"
          },
          "paper_bgcolor": "white",
          "plot_bgcolor": "#E5ECF6",
          "polar": {
           "angularaxis": {
            "gridcolor": "white",
            "linecolor": "white",
            "ticks": ""
           },
           "bgcolor": "#E5ECF6",
           "radialaxis": {
            "gridcolor": "white",
            "linecolor": "white",
            "ticks": ""
           }
          },
          "scene": {
           "xaxis": {
            "backgroundcolor": "#E5ECF6",
            "gridcolor": "white",
            "gridwidth": 2,
            "linecolor": "white",
            "showbackground": true,
            "ticks": "",
            "zerolinecolor": "white"
           },
           "yaxis": {
            "backgroundcolor": "#E5ECF6",
            "gridcolor": "white",
            "gridwidth": 2,
            "linecolor": "white",
            "showbackground": true,
            "ticks": "",
            "zerolinecolor": "white"
           },
           "zaxis": {
            "backgroundcolor": "#E5ECF6",
            "gridcolor": "white",
            "gridwidth": 2,
            "linecolor": "white",
            "showbackground": true,
            "ticks": "",
            "zerolinecolor": "white"
           }
          },
          "shapedefaults": {
           "line": {
            "color": "#2a3f5f"
           }
          },
          "ternary": {
           "aaxis": {
            "gridcolor": "white",
            "linecolor": "white",
            "ticks": ""
           },
           "baxis": {
            "gridcolor": "white",
            "linecolor": "white",
            "ticks": ""
           },
           "bgcolor": "#E5ECF6",
           "caxis": {
            "gridcolor": "white",
            "linecolor": "white",
            "ticks": ""
           }
          },
          "title": {
           "x": 0.05
          },
          "xaxis": {
           "automargin": true,
           "gridcolor": "white",
           "linecolor": "white",
           "ticks": "",
           "title": {
            "standoff": 15
           },
           "zerolinecolor": "white",
           "zerolinewidth": 2
          },
          "yaxis": {
           "automargin": true,
           "gridcolor": "white",
           "linecolor": "white",
           "ticks": "",
           "title": {
            "standoff": 15
           },
           "zerolinecolor": "white",
           "zerolinewidth": 2
          }
         }
        },
        "title": {
         "text": "Number of Attacks by Year"
        },
        "width": 800,
        "xaxis": {
         "anchor": "y",
         "domain": [
          0,
          1
         ],
         "title": {
          "text": "Year"
         }
        },
        "yaxis": {
         "anchor": "x",
         "domain": [
          0,
          1
         ],
         "title": {
          "text": "Count"
         }
        }
       }
      }
     },
     "metadata": {},
     "output_type": "display_data"
    }
   ],
   "source": [
    "year_count = df['Year'].value_counts().reset_index()\n",
    "year_count.columns = ['Year', 'Count']\n",
    "year_count = year_count.sort_values('Year')\n",
    "\n",
    "fig = px.bar(\n",
    "    year_count,\n",
    "    x = 'Year',\n",
    "    y = 'Count',\n",
    "    title='Number of Attacks by Year', \n",
    "    color='Year',\n",
    "    text_auto=True,\n",
    "    width=800,\n",
    "    height=500\n",
    ")\n",
    "fig.show()"
   ]
  },
  {
   "cell_type": "markdown",
   "id": "17d13ffe",
   "metadata": {},
   "source": [
    "## **Bivariate Analysis**\n",
    "\n",
    "### **Financial Loss of Attack Type**"
   ]
  },
  {
   "cell_type": "code",
   "execution_count": 43,
   "id": "aec9feae",
   "metadata": {},
   "outputs": [
    {
     "data": {
      "application/vnd.plotly.v1+json": {
       "config": {
        "plotlyServerURL": "https://plot.ly"
       },
       "data": [
        {
         "hovertemplate": "Attack Type=%{x}<br>Financial Loss (in Million $)=%{y}<extra></extra>",
         "legendgroup": "DDoS",
         "marker": {
          "color": "#636efa",
          "pattern": {
           "shape": ""
          }
         },
         "name": "DDoS",
         "orientation": "v",
         "showlegend": true,
         "textposition": "auto",
         "texttemplate": "%{y}",
         "type": "bar",
         "x": [
          "DDoS"
         ],
         "xaxis": "x",
         "y": {
          "bdata": "BSqHjY8ESkA=",
          "dtype": "f8"
         },
         "yaxis": "y"
        },
        {
         "hovertemplate": "Attack Type=%{x}<br>Financial Loss (in Million $)=%{y}<extra></extra>",
         "legendgroup": "Malware",
         "marker": {
          "color": "#EF553B",
          "pattern": {
           "shape": ""
          }
         },
         "name": "Malware",
         "orientation": "v",
         "showlegend": true,
         "textposition": "auto",
         "texttemplate": "%{y}",
         "type": "bar",
         "x": [
          "Malware"
         ],
         "xaxis": "x",
         "y": {
          "bdata": "byhJ44+1SEA=",
          "dtype": "f8"
         },
         "yaxis": "y"
        },
        {
         "hovertemplate": "Attack Type=%{x}<br>Financial Loss (in Million $)=%{y}<extra></extra>",
         "legendgroup": "Man-in-the-Middle",
         "marker": {
          "color": "#00cc96",
          "pattern": {
           "shape": ""
          }
         },
         "name": "Man-in-the-Middle",
         "orientation": "v",
         "showlegend": true,
         "textposition": "auto",
         "texttemplate": "%{y}",
         "type": "bar",
         "x": [
          "Man-in-the-Middle"
         ],
         "xaxis": "x",
         "y": {
          "bdata": "simhGJCnSUA=",
          "dtype": "f8"
         },
         "yaxis": "y"
        },
        {
         "hovertemplate": "Attack Type=%{x}<br>Financial Loss (in Million $)=%{y}<extra></extra>",
         "legendgroup": "Phishing",
         "marker": {
          "color": "#ab63fa",
          "pattern": {
           "shape": ""
          }
         },
         "name": "Phishing",
         "orientation": "v",
         "showlegend": true,
         "textposition": "auto",
         "texttemplate": "%{y}",
         "type": "bar",
         "x": [
          "Phishing"
         ],
         "xaxis": "x",
         "y": {
          "bdata": "VE/OLt46SUA=",
          "dtype": "f8"
         },
         "yaxis": "y"
        },
        {
         "hovertemplate": "Attack Type=%{x}<br>Financial Loss (in Million $)=%{y}<extra></extra>",
         "legendgroup": "Ransomware",
         "marker": {
          "color": "#FFA15A",
          "pattern": {
           "shape": ""
          }
         },
         "name": "Ransomware",
         "orientation": "v",
         "showlegend": true,
         "textposition": "auto",
         "texttemplate": "%{y}",
         "type": "bar",
         "x": [
          "Ransomware"
         ],
         "xaxis": "x",
         "y": {
          "bdata": "kdQOfq/TSEA=",
          "dtype": "f8"
         },
         "yaxis": "y"
        },
        {
         "hovertemplate": "Attack Type=%{x}<br>Financial Loss (in Million $)=%{y}<extra></extra>",
         "legendgroup": "SQL Injection",
         "marker": {
          "color": "#19d3f3",
          "pattern": {
           "shape": ""
          }
         },
         "name": "SQL Injection",
         "orientation": "v",
         "showlegend": true,
         "textposition": "auto",
         "texttemplate": "%{y}",
         "type": "bar",
         "x": [
          "SQL Injection"
         ],
         "xaxis": "x",
         "y": {
          "bdata": "icwfWqsBSUA=",
          "dtype": "f8"
         },
         "yaxis": "y"
        }
       ],
       "layout": {
        "barmode": "relative",
        "height": 500,
        "legend": {
         "title": {
          "text": "Attack Type"
         },
         "tracegroupgap": 0
        },
        "template": {
         "data": {
          "bar": [
           {
            "error_x": {
             "color": "#2a3f5f"
            },
            "error_y": {
             "color": "#2a3f5f"
            },
            "marker": {
             "line": {
              "color": "#E5ECF6",
              "width": 0.5
             },
             "pattern": {
              "fillmode": "overlay",
              "size": 10,
              "solidity": 0.2
             }
            },
            "type": "bar"
           }
          ],
          "barpolar": [
           {
            "marker": {
             "line": {
              "color": "#E5ECF6",
              "width": 0.5
             },
             "pattern": {
              "fillmode": "overlay",
              "size": 10,
              "solidity": 0.2
             }
            },
            "type": "barpolar"
           }
          ],
          "carpet": [
           {
            "aaxis": {
             "endlinecolor": "#2a3f5f",
             "gridcolor": "white",
             "linecolor": "white",
             "minorgridcolor": "white",
             "startlinecolor": "#2a3f5f"
            },
            "baxis": {
             "endlinecolor": "#2a3f5f",
             "gridcolor": "white",
             "linecolor": "white",
             "minorgridcolor": "white",
             "startlinecolor": "#2a3f5f"
            },
            "type": "carpet"
           }
          ],
          "choropleth": [
           {
            "colorbar": {
             "outlinewidth": 0,
             "ticks": ""
            },
            "type": "choropleth"
           }
          ],
          "contour": [
           {
            "colorbar": {
             "outlinewidth": 0,
             "ticks": ""
            },
            "colorscale": [
             [
              0,
              "#0d0887"
             ],
             [
              0.1111111111111111,
              "#46039f"
             ],
             [
              0.2222222222222222,
              "#7201a8"
             ],
             [
              0.3333333333333333,
              "#9c179e"
             ],
             [
              0.4444444444444444,
              "#bd3786"
             ],
             [
              0.5555555555555556,
              "#d8576b"
             ],
             [
              0.6666666666666666,
              "#ed7953"
             ],
             [
              0.7777777777777778,
              "#fb9f3a"
             ],
             [
              0.8888888888888888,
              "#fdca26"
             ],
             [
              1,
              "#f0f921"
             ]
            ],
            "type": "contour"
           }
          ],
          "contourcarpet": [
           {
            "colorbar": {
             "outlinewidth": 0,
             "ticks": ""
            },
            "type": "contourcarpet"
           }
          ],
          "heatmap": [
           {
            "colorbar": {
             "outlinewidth": 0,
             "ticks": ""
            },
            "colorscale": [
             [
              0,
              "#0d0887"
             ],
             [
              0.1111111111111111,
              "#46039f"
             ],
             [
              0.2222222222222222,
              "#7201a8"
             ],
             [
              0.3333333333333333,
              "#9c179e"
             ],
             [
              0.4444444444444444,
              "#bd3786"
             ],
             [
              0.5555555555555556,
              "#d8576b"
             ],
             [
              0.6666666666666666,
              "#ed7953"
             ],
             [
              0.7777777777777778,
              "#fb9f3a"
             ],
             [
              0.8888888888888888,
              "#fdca26"
             ],
             [
              1,
              "#f0f921"
             ]
            ],
            "type": "heatmap"
           }
          ],
          "histogram": [
           {
            "marker": {
             "pattern": {
              "fillmode": "overlay",
              "size": 10,
              "solidity": 0.2
             }
            },
            "type": "histogram"
           }
          ],
          "histogram2d": [
           {
            "colorbar": {
             "outlinewidth": 0,
             "ticks": ""
            },
            "colorscale": [
             [
              0,
              "#0d0887"
             ],
             [
              0.1111111111111111,
              "#46039f"
             ],
             [
              0.2222222222222222,
              "#7201a8"
             ],
             [
              0.3333333333333333,
              "#9c179e"
             ],
             [
              0.4444444444444444,
              "#bd3786"
             ],
             [
              0.5555555555555556,
              "#d8576b"
             ],
             [
              0.6666666666666666,
              "#ed7953"
             ],
             [
              0.7777777777777778,
              "#fb9f3a"
             ],
             [
              0.8888888888888888,
              "#fdca26"
             ],
             [
              1,
              "#f0f921"
             ]
            ],
            "type": "histogram2d"
           }
          ],
          "histogram2dcontour": [
           {
            "colorbar": {
             "outlinewidth": 0,
             "ticks": ""
            },
            "colorscale": [
             [
              0,
              "#0d0887"
             ],
             [
              0.1111111111111111,
              "#46039f"
             ],
             [
              0.2222222222222222,
              "#7201a8"
             ],
             [
              0.3333333333333333,
              "#9c179e"
             ],
             [
              0.4444444444444444,
              "#bd3786"
             ],
             [
              0.5555555555555556,
              "#d8576b"
             ],
             [
              0.6666666666666666,
              "#ed7953"
             ],
             [
              0.7777777777777778,
              "#fb9f3a"
             ],
             [
              0.8888888888888888,
              "#fdca26"
             ],
             [
              1,
              "#f0f921"
             ]
            ],
            "type": "histogram2dcontour"
           }
          ],
          "mesh3d": [
           {
            "colorbar": {
             "outlinewidth": 0,
             "ticks": ""
            },
            "type": "mesh3d"
           }
          ],
          "parcoords": [
           {
            "line": {
             "colorbar": {
              "outlinewidth": 0,
              "ticks": ""
             }
            },
            "type": "parcoords"
           }
          ],
          "pie": [
           {
            "automargin": true,
            "type": "pie"
           }
          ],
          "scatter": [
           {
            "fillpattern": {
             "fillmode": "overlay",
             "size": 10,
             "solidity": 0.2
            },
            "type": "scatter"
           }
          ],
          "scatter3d": [
           {
            "line": {
             "colorbar": {
              "outlinewidth": 0,
              "ticks": ""
             }
            },
            "marker": {
             "colorbar": {
              "outlinewidth": 0,
              "ticks": ""
             }
            },
            "type": "scatter3d"
           }
          ],
          "scattercarpet": [
           {
            "marker": {
             "colorbar": {
              "outlinewidth": 0,
              "ticks": ""
             }
            },
            "type": "scattercarpet"
           }
          ],
          "scattergeo": [
           {
            "marker": {
             "colorbar": {
              "outlinewidth": 0,
              "ticks": ""
             }
            },
            "type": "scattergeo"
           }
          ],
          "scattergl": [
           {
            "marker": {
             "colorbar": {
              "outlinewidth": 0,
              "ticks": ""
             }
            },
            "type": "scattergl"
           }
          ],
          "scattermap": [
           {
            "marker": {
             "colorbar": {
              "outlinewidth": 0,
              "ticks": ""
             }
            },
            "type": "scattermap"
           }
          ],
          "scattermapbox": [
           {
            "marker": {
             "colorbar": {
              "outlinewidth": 0,
              "ticks": ""
             }
            },
            "type": "scattermapbox"
           }
          ],
          "scatterpolar": [
           {
            "marker": {
             "colorbar": {
              "outlinewidth": 0,
              "ticks": ""
             }
            },
            "type": "scatterpolar"
           }
          ],
          "scatterpolargl": [
           {
            "marker": {
             "colorbar": {
              "outlinewidth": 0,
              "ticks": ""
             }
            },
            "type": "scatterpolargl"
           }
          ],
          "scatterternary": [
           {
            "marker": {
             "colorbar": {
              "outlinewidth": 0,
              "ticks": ""
             }
            },
            "type": "scatterternary"
           }
          ],
          "surface": [
           {
            "colorbar": {
             "outlinewidth": 0,
             "ticks": ""
            },
            "colorscale": [
             [
              0,
              "#0d0887"
             ],
             [
              0.1111111111111111,
              "#46039f"
             ],
             [
              0.2222222222222222,
              "#7201a8"
             ],
             [
              0.3333333333333333,
              "#9c179e"
             ],
             [
              0.4444444444444444,
              "#bd3786"
             ],
             [
              0.5555555555555556,
              "#d8576b"
             ],
             [
              0.6666666666666666,
              "#ed7953"
             ],
             [
              0.7777777777777778,
              "#fb9f3a"
             ],
             [
              0.8888888888888888,
              "#fdca26"
             ],
             [
              1,
              "#f0f921"
             ]
            ],
            "type": "surface"
           }
          ],
          "table": [
           {
            "cells": {
             "fill": {
              "color": "#EBF0F8"
             },
             "line": {
              "color": "white"
             }
            },
            "header": {
             "fill": {
              "color": "#C8D4E3"
             },
             "line": {
              "color": "white"
             }
            },
            "type": "table"
           }
          ]
         },
         "layout": {
          "annotationdefaults": {
           "arrowcolor": "#2a3f5f",
           "arrowhead": 0,
           "arrowwidth": 1
          },
          "autotypenumbers": "strict",
          "coloraxis": {
           "colorbar": {
            "outlinewidth": 0,
            "ticks": ""
           }
          },
          "colorscale": {
           "diverging": [
            [
             0,
             "#8e0152"
            ],
            [
             0.1,
             "#c51b7d"
            ],
            [
             0.2,
             "#de77ae"
            ],
            [
             0.3,
             "#f1b6da"
            ],
            [
             0.4,
             "#fde0ef"
            ],
            [
             0.5,
             "#f7f7f7"
            ],
            [
             0.6,
             "#e6f5d0"
            ],
            [
             0.7,
             "#b8e186"
            ],
            [
             0.8,
             "#7fbc41"
            ],
            [
             0.9,
             "#4d9221"
            ],
            [
             1,
             "#276419"
            ]
           ],
           "sequential": [
            [
             0,
             "#0d0887"
            ],
            [
             0.1111111111111111,
             "#46039f"
            ],
            [
             0.2222222222222222,
             "#7201a8"
            ],
            [
             0.3333333333333333,
             "#9c179e"
            ],
            [
             0.4444444444444444,
             "#bd3786"
            ],
            [
             0.5555555555555556,
             "#d8576b"
            ],
            [
             0.6666666666666666,
             "#ed7953"
            ],
            [
             0.7777777777777778,
             "#fb9f3a"
            ],
            [
             0.8888888888888888,
             "#fdca26"
            ],
            [
             1,
             "#f0f921"
            ]
           ],
           "sequentialminus": [
            [
             0,
             "#0d0887"
            ],
            [
             0.1111111111111111,
             "#46039f"
            ],
            [
             0.2222222222222222,
             "#7201a8"
            ],
            [
             0.3333333333333333,
             "#9c179e"
            ],
            [
             0.4444444444444444,
             "#bd3786"
            ],
            [
             0.5555555555555556,
             "#d8576b"
            ],
            [
             0.6666666666666666,
             "#ed7953"
            ],
            [
             0.7777777777777778,
             "#fb9f3a"
            ],
            [
             0.8888888888888888,
             "#fdca26"
            ],
            [
             1,
             "#f0f921"
            ]
           ]
          },
          "colorway": [
           "#636efa",
           "#EF553B",
           "#00cc96",
           "#ab63fa",
           "#FFA15A",
           "#19d3f3",
           "#FF6692",
           "#B6E880",
           "#FF97FF",
           "#FECB52"
          ],
          "font": {
           "color": "#2a3f5f"
          },
          "geo": {
           "bgcolor": "white",
           "lakecolor": "white",
           "landcolor": "#E5ECF6",
           "showlakes": true,
           "showland": true,
           "subunitcolor": "white"
          },
          "hoverlabel": {
           "align": "left"
          },
          "hovermode": "closest",
          "mapbox": {
           "style": "light"
          },
          "paper_bgcolor": "white",
          "plot_bgcolor": "#E5ECF6",
          "polar": {
           "angularaxis": {
            "gridcolor": "white",
            "linecolor": "white",
            "ticks": ""
           },
           "bgcolor": "#E5ECF6",
           "radialaxis": {
            "gridcolor": "white",
            "linecolor": "white",
            "ticks": ""
           }
          },
          "scene": {
           "xaxis": {
            "backgroundcolor": "#E5ECF6",
            "gridcolor": "white",
            "gridwidth": 2,
            "linecolor": "white",
            "showbackground": true,
            "ticks": "",
            "zerolinecolor": "white"
           },
           "yaxis": {
            "backgroundcolor": "#E5ECF6",
            "gridcolor": "white",
            "gridwidth": 2,
            "linecolor": "white",
            "showbackground": true,
            "ticks": "",
            "zerolinecolor": "white"
           },
           "zaxis": {
            "backgroundcolor": "#E5ECF6",
            "gridcolor": "white",
            "gridwidth": 2,
            "linecolor": "white",
            "showbackground": true,
            "ticks": "",
            "zerolinecolor": "white"
           }
          },
          "shapedefaults": {
           "line": {
            "color": "#2a3f5f"
           }
          },
          "ternary": {
           "aaxis": {
            "gridcolor": "white",
            "linecolor": "white",
            "ticks": ""
           },
           "baxis": {
            "gridcolor": "white",
            "linecolor": "white",
            "ticks": ""
           },
           "bgcolor": "#E5ECF6",
           "caxis": {
            "gridcolor": "white",
            "linecolor": "white",
            "ticks": ""
           }
          },
          "title": {
           "x": 0.05
          },
          "xaxis": {
           "automargin": true,
           "gridcolor": "white",
           "linecolor": "white",
           "ticks": "",
           "title": {
            "standoff": 15
           },
           "zerolinecolor": "white",
           "zerolinewidth": 2
          },
          "yaxis": {
           "automargin": true,
           "gridcolor": "white",
           "linecolor": "white",
           "ticks": "",
           "title": {
            "standoff": 15
           },
           "zerolinecolor": "white",
           "zerolinewidth": 2
          }
         }
        },
        "title": {
         "text": "Average Financial Loss by Attack type"
        },
        "width": 800,
        "xaxis": {
         "anchor": "y",
         "categoryarray": [
          "DDoS",
          "Malware",
          "Man-in-the-Middle",
          "Phishing",
          "Ransomware",
          "SQL Injection"
         ],
         "categoryorder": "array",
         "domain": [
          0,
          1
         ],
         "title": {
          "text": "Attack Type"
         }
        },
        "yaxis": {
         "anchor": "x",
         "domain": [
          0,
          1
         ],
         "title": {
          "text": "Financial Loss (in Million $)"
         }
        }
       }
      }
     },
     "metadata": {},
     "output_type": "display_data"
    }
   ],
   "source": [
    "attack_loss = df.groupby('Attack Type')['Financial Loss (in Million $)'].mean().reset_index()\n",
    "\n",
    "plt = px.bar(\n",
    "    attack_loss,\n",
    "    x = 'Attack Type',\n",
    "    y = 'Financial Loss (in Million $)',\n",
    "    title = 'Average Financial Loss by Attack type',\n",
    "    color='Attack Type',\n",
    "    text_auto=True,\n",
    "    width=800,\n",
    "    height=500\n",
    "\n",
    "\n",
    ")\n",
    "\n",
    "plt.show()"
   ]
  },
  {
   "cell_type": "markdown",
   "id": "0b70678d",
   "metadata": {},
   "source": [
    "## **Number of Affected User by Attack Type**"
   ]
  },
  {
   "cell_type": "code",
   "execution_count": 44,
   "id": "5827e739",
   "metadata": {},
   "outputs": [
    {
     "data": {
      "text/html": [
       "<div>\n",
       "<style scoped>\n",
       "    .dataframe tbody tr th:only-of-type {\n",
       "        vertical-align: middle;\n",
       "    }\n",
       "\n",
       "    .dataframe tbody tr th {\n",
       "        vertical-align: top;\n",
       "    }\n",
       "\n",
       "    .dataframe thead th {\n",
       "        text-align: right;\n",
       "    }\n",
       "</style>\n",
       "<table border=\"1\" class=\"dataframe\">\n",
       "  <thead>\n",
       "    <tr style=\"text-align: right;\">\n",
       "      <th></th>\n",
       "      <th>Attack Type</th>\n",
       "      <th>Number of Affected Users</th>\n",
       "    </tr>\n",
       "  </thead>\n",
       "  <tbody>\n",
       "    <tr>\n",
       "      <th>0</th>\n",
       "      <td>DDoS</td>\n",
       "      <td>499437.410546</td>\n",
       "    </tr>\n",
       "    <tr>\n",
       "      <th>1</th>\n",
       "      <td>Malware</td>\n",
       "      <td>508780.232990</td>\n",
       "    </tr>\n",
       "    <tr>\n",
       "      <th>2</th>\n",
       "      <td>Man-in-the-Middle</td>\n",
       "      <td>520064.320261</td>\n",
       "    </tr>\n",
       "    <tr>\n",
       "      <th>3</th>\n",
       "      <td>Phishing</td>\n",
       "      <td>487179.536862</td>\n",
       "    </tr>\n",
       "    <tr>\n",
       "      <th>4</th>\n",
       "      <td>Ransomware</td>\n",
       "      <td>502825.369168</td>\n",
       "    </tr>\n",
       "    <tr>\n",
       "      <th>5</th>\n",
       "      <td>SQL Injection</td>\n",
       "      <td>512469.833002</td>\n",
       "    </tr>\n",
       "  </tbody>\n",
       "</table>\n",
       "</div>"
      ],
      "text/plain": [
       "         Attack Type  Number of Affected Users\n",
       "0               DDoS             499437.410546\n",
       "1            Malware             508780.232990\n",
       "2  Man-in-the-Middle             520064.320261\n",
       "3           Phishing             487179.536862\n",
       "4         Ransomware             502825.369168\n",
       "5      SQL Injection             512469.833002"
      ]
     },
     "execution_count": 44,
     "metadata": {},
     "output_type": "execute_result"
    }
   ],
   "source": [
    "df.groupby('Attack Type')['Number of Affected Users'].mean().reset_index()"
   ]
  },
  {
   "cell_type": "code",
   "execution_count": 47,
   "id": "b1b523fc",
   "metadata": {},
   "outputs": [
    {
     "data": {
      "text/html": [
       "<div>\n",
       "<style scoped>\n",
       "    .dataframe tbody tr th:only-of-type {\n",
       "        vertical-align: middle;\n",
       "    }\n",
       "\n",
       "    .dataframe tbody tr th {\n",
       "        vertical-align: top;\n",
       "    }\n",
       "\n",
       "    .dataframe thead th {\n",
       "        text-align: right;\n",
       "    }\n",
       "</style>\n",
       "<table border=\"1\" class=\"dataframe\">\n",
       "  <thead>\n",
       "    <tr style=\"text-align: right;\">\n",
       "      <th></th>\n",
       "      <th>Country</th>\n",
       "      <th>Financial Loss (in Million $)</th>\n",
       "    </tr>\n",
       "  </thead>\n",
       "  <tbody>\n",
       "    <tr>\n",
       "      <th>0</th>\n",
       "      <td>Australia</td>\n",
       "      <td>51.861953</td>\n",
       "    </tr>\n",
       "    <tr>\n",
       "      <th>1</th>\n",
       "      <td>Brazil</td>\n",
       "      <td>50.911677</td>\n",
       "    </tr>\n",
       "    <tr>\n",
       "      <th>2</th>\n",
       "      <td>China</td>\n",
       "      <td>48.805943</td>\n",
       "    </tr>\n",
       "    <tr>\n",
       "      <th>3</th>\n",
       "      <td>France</td>\n",
       "      <td>49.089443</td>\n",
       "    </tr>\n",
       "    <tr>\n",
       "      <th>4</th>\n",
       "      <td>Germany</td>\n",
       "      <td>54.272302</td>\n",
       "    </tr>\n",
       "    <tr>\n",
       "      <th>5</th>\n",
       "      <td>India</td>\n",
       "      <td>47.292597</td>\n",
       "    </tr>\n",
       "    <tr>\n",
       "      <th>6</th>\n",
       "      <td>Japan</td>\n",
       "      <td>49.827344</td>\n",
       "    </tr>\n",
       "    <tr>\n",
       "      <th>7</th>\n",
       "      <td>Russia</td>\n",
       "      <td>49.948237</td>\n",
       "    </tr>\n",
       "    <tr>\n",
       "      <th>8</th>\n",
       "      <td>UK</td>\n",
       "      <td>51.411184</td>\n",
       "    </tr>\n",
       "    <tr>\n",
       "      <th>9</th>\n",
       "      <td>USA</td>\n",
       "      <td>51.610174</td>\n",
       "    </tr>\n",
       "  </tbody>\n",
       "</table>\n",
       "</div>"
      ],
      "text/plain": [
       "     Country  Financial Loss (in Million $)\n",
       "0  Australia                      51.861953\n",
       "1     Brazil                      50.911677\n",
       "2      China                      48.805943\n",
       "3     France                      49.089443\n",
       "4    Germany                      54.272302\n",
       "5      India                      47.292597\n",
       "6      Japan                      49.827344\n",
       "7     Russia                      49.948237\n",
       "8         UK                      51.411184\n",
       "9        USA                      51.610174"
      ]
     },
     "execution_count": 47,
     "metadata": {},
     "output_type": "execute_result"
    }
   ],
   "source": [
    "df.groupby('Country')['Financial Loss (in Million $)'].mean().reset_index()"
   ]
  },
  {
   "cell_type": "code",
   "execution_count": 48,
   "id": "396020b1",
   "metadata": {},
   "outputs": [
    {
     "data": {
      "text/html": [
       "<div>\n",
       "<style scoped>\n",
       "    .dataframe tbody tr th:only-of-type {\n",
       "        vertical-align: middle;\n",
       "    }\n",
       "\n",
       "    .dataframe tbody tr th {\n",
       "        vertical-align: top;\n",
       "    }\n",
       "\n",
       "    .dataframe thead th {\n",
       "        text-align: right;\n",
       "    }\n",
       "</style>\n",
       "<table border=\"1\" class=\"dataframe\">\n",
       "  <thead>\n",
       "    <tr style=\"text-align: right;\">\n",
       "      <th></th>\n",
       "      <th>Target Industry</th>\n",
       "      <th>Financial Loss (in Million $)</th>\n",
       "    </tr>\n",
       "  </thead>\n",
       "  <tbody>\n",
       "    <tr>\n",
       "      <th>0</th>\n",
       "      <td>Banking</td>\n",
       "      <td>51.173910</td>\n",
       "    </tr>\n",
       "    <tr>\n",
       "      <th>1</th>\n",
       "      <td>Education</td>\n",
       "      <td>47.903174</td>\n",
       "    </tr>\n",
       "    <tr>\n",
       "      <th>2</th>\n",
       "      <td>Government</td>\n",
       "      <td>52.618685</td>\n",
       "    </tr>\n",
       "    <tr>\n",
       "      <th>3</th>\n",
       "      <td>Healthcare</td>\n",
       "      <td>49.047296</td>\n",
       "    </tr>\n",
       "    <tr>\n",
       "      <th>4</th>\n",
       "      <td>IT</td>\n",
       "      <td>51.903410</td>\n",
       "    </tr>\n",
       "    <tr>\n",
       "      <th>5</th>\n",
       "      <td>Retail</td>\n",
       "      <td>49.928014</td>\n",
       "    </tr>\n",
       "    <tr>\n",
       "      <th>6</th>\n",
       "      <td>Telecommunications</td>\n",
       "      <td>50.766973</td>\n",
       "    </tr>\n",
       "  </tbody>\n",
       "</table>\n",
       "</div>"
      ],
      "text/plain": [
       "      Target Industry  Financial Loss (in Million $)\n",
       "0             Banking                      51.173910\n",
       "1           Education                      47.903174\n",
       "2          Government                      52.618685\n",
       "3          Healthcare                      49.047296\n",
       "4                  IT                      51.903410\n",
       "5              Retail                      49.928014\n",
       "6  Telecommunications                      50.766973"
      ]
     },
     "execution_count": 48,
     "metadata": {},
     "output_type": "execute_result"
    }
   ],
   "source": [
    "df.groupby('Target Industry')['Financial Loss (in Million $)'].mean().reset_index()"
   ]
  },
  {
   "cell_type": "code",
   "execution_count": 50,
   "id": "fd403f4f",
   "metadata": {},
   "outputs": [
    {
     "data": {
      "text/html": [
       "<div>\n",
       "<style scoped>\n",
       "    .dataframe tbody tr th:only-of-type {\n",
       "        vertical-align: middle;\n",
       "    }\n",
       "\n",
       "    .dataframe tbody tr th {\n",
       "        vertical-align: top;\n",
       "    }\n",
       "\n",
       "    .dataframe thead th {\n",
       "        text-align: right;\n",
       "    }\n",
       "</style>\n",
       "<table border=\"1\" class=\"dataframe\">\n",
       "  <thead>\n",
       "    <tr style=\"text-align: right;\">\n",
       "      <th></th>\n",
       "      <th>Defense Mechanism Used</th>\n",
       "      <th>Incident Resolution Time (in Hours)</th>\n",
       "    </tr>\n",
       "  </thead>\n",
       "  <tbody>\n",
       "    <tr>\n",
       "      <th>0</th>\n",
       "      <td>AI-based Detection</td>\n",
       "      <td>36.612350</td>\n",
       "    </tr>\n",
       "    <tr>\n",
       "      <th>1</th>\n",
       "      <td>Antivirus</td>\n",
       "      <td>36.573248</td>\n",
       "    </tr>\n",
       "    <tr>\n",
       "      <th>2</th>\n",
       "      <td>Encryption</td>\n",
       "      <td>36.589527</td>\n",
       "    </tr>\n",
       "    <tr>\n",
       "      <th>3</th>\n",
       "      <td>Firewall</td>\n",
       "      <td>35.714530</td>\n",
       "    </tr>\n",
       "    <tr>\n",
       "      <th>4</th>\n",
       "      <td>VPN</td>\n",
       "      <td>36.864379</td>\n",
       "    </tr>\n",
       "  </tbody>\n",
       "</table>\n",
       "</div>"
      ],
      "text/plain": [
       "  Defense Mechanism Used  Incident Resolution Time (in Hours)\n",
       "0     AI-based Detection                            36.612350\n",
       "1              Antivirus                            36.573248\n",
       "2             Encryption                            36.589527\n",
       "3               Firewall                            35.714530\n",
       "4                    VPN                            36.864379"
      ]
     },
     "execution_count": 50,
     "metadata": {},
     "output_type": "execute_result"
    }
   ],
   "source": [
    "df.groupby('Defense Mechanism Used')['Incident Resolution Time (in Hours)'].mean().reset_index()"
   ]
  },
  {
   "cell_type": "code",
   "execution_count": 46,
   "id": "67eb1ce7",
   "metadata": {},
   "outputs": [
    {
     "data": {
      "text/html": [
       "<div>\n",
       "<style scoped>\n",
       "    .dataframe tbody tr th:only-of-type {\n",
       "        vertical-align: middle;\n",
       "    }\n",
       "\n",
       "    .dataframe tbody tr th {\n",
       "        vertical-align: top;\n",
       "    }\n",
       "\n",
       "    .dataframe thead th {\n",
       "        text-align: right;\n",
       "    }\n",
       "</style>\n",
       "<table border=\"1\" class=\"dataframe\">\n",
       "  <thead>\n",
       "    <tr style=\"text-align: right;\">\n",
       "      <th></th>\n",
       "      <th>Country</th>\n",
       "      <th>Year</th>\n",
       "      <th>Attack Type</th>\n",
       "      <th>Target Industry</th>\n",
       "      <th>Financial Loss (in Million $)</th>\n",
       "      <th>Number of Affected Users</th>\n",
       "      <th>Attack Source</th>\n",
       "      <th>Security Vulnerability Type</th>\n",
       "      <th>Defense Mechanism Used</th>\n",
       "      <th>Incident Resolution Time (in Hours)</th>\n",
       "    </tr>\n",
       "  </thead>\n",
       "  <tbody>\n",
       "    <tr>\n",
       "      <th>0</th>\n",
       "      <td>China</td>\n",
       "      <td>2019</td>\n",
       "      <td>Phishing</td>\n",
       "      <td>Education</td>\n",
       "      <td>80.53</td>\n",
       "      <td>773169</td>\n",
       "      <td>Hacker Group</td>\n",
       "      <td>Unpatched Software</td>\n",
       "      <td>VPN</td>\n",
       "      <td>63</td>\n",
       "    </tr>\n",
       "    <tr>\n",
       "      <th>1</th>\n",
       "      <td>China</td>\n",
       "      <td>2019</td>\n",
       "      <td>Ransomware</td>\n",
       "      <td>Retail</td>\n",
       "      <td>62.19</td>\n",
       "      <td>295961</td>\n",
       "      <td>Hacker Group</td>\n",
       "      <td>Unpatched Software</td>\n",
       "      <td>Firewall</td>\n",
       "      <td>71</td>\n",
       "    </tr>\n",
       "    <tr>\n",
       "      <th>2</th>\n",
       "      <td>India</td>\n",
       "      <td>2017</td>\n",
       "      <td>Man-in-the-Middle</td>\n",
       "      <td>IT</td>\n",
       "      <td>38.65</td>\n",
       "      <td>605895</td>\n",
       "      <td>Hacker Group</td>\n",
       "      <td>Weak Passwords</td>\n",
       "      <td>VPN</td>\n",
       "      <td>20</td>\n",
       "    </tr>\n",
       "    <tr>\n",
       "      <th>3</th>\n",
       "      <td>UK</td>\n",
       "      <td>2024</td>\n",
       "      <td>Ransomware</td>\n",
       "      <td>Telecommunications</td>\n",
       "      <td>41.44</td>\n",
       "      <td>659320</td>\n",
       "      <td>Nation-state</td>\n",
       "      <td>Social Engineering</td>\n",
       "      <td>AI-based Detection</td>\n",
       "      <td>7</td>\n",
       "    </tr>\n",
       "    <tr>\n",
       "      <th>4</th>\n",
       "      <td>Germany</td>\n",
       "      <td>2018</td>\n",
       "      <td>Man-in-the-Middle</td>\n",
       "      <td>IT</td>\n",
       "      <td>74.41</td>\n",
       "      <td>810682</td>\n",
       "      <td>Insider</td>\n",
       "      <td>Social Engineering</td>\n",
       "      <td>VPN</td>\n",
       "      <td>68</td>\n",
       "    </tr>\n",
       "  </tbody>\n",
       "</table>\n",
       "</div>"
      ],
      "text/plain": [
       "   Country  Year        Attack Type     Target Industry  \\\n",
       "0    China  2019           Phishing           Education   \n",
       "1    China  2019         Ransomware              Retail   \n",
       "2    India  2017  Man-in-the-Middle                  IT   \n",
       "3       UK  2024         Ransomware  Telecommunications   \n",
       "4  Germany  2018  Man-in-the-Middle                  IT   \n",
       "\n",
       "   Financial Loss (in Million $)  Number of Affected Users Attack Source  \\\n",
       "0                          80.53                    773169  Hacker Group   \n",
       "1                          62.19                    295961  Hacker Group   \n",
       "2                          38.65                    605895  Hacker Group   \n",
       "3                          41.44                    659320  Nation-state   \n",
       "4                          74.41                    810682       Insider   \n",
       "\n",
       "  Security Vulnerability Type Defense Mechanism Used  \\\n",
       "0          Unpatched Software                    VPN   \n",
       "1          Unpatched Software               Firewall   \n",
       "2              Weak Passwords                    VPN   \n",
       "3          Social Engineering     AI-based Detection   \n",
       "4          Social Engineering                    VPN   \n",
       "\n",
       "   Incident Resolution Time (in Hours)  \n",
       "0                                   63  \n",
       "1                                   71  \n",
       "2                                   20  \n",
       "3                                    7  \n",
       "4                                   68  "
      ]
     },
     "execution_count": 46,
     "metadata": {},
     "output_type": "execute_result"
    }
   ],
   "source": [
    "df.head()"
   ]
  },
  {
   "cell_type": "markdown",
   "id": "74ca736e",
   "metadata": {},
   "source": [
    "# **Multivariate Analysis**\n",
    "\n",
    "## **Financial Loss by Vulnerability Type and Attack Source**"
   ]
  },
  {
   "cell_type": "code",
   "execution_count": 53,
   "id": "5e4fb1fd",
   "metadata": {},
   "outputs": [
    {
     "data": {
      "application/vnd.plotly.v1+json": {
       "config": {
        "plotlyServerURL": "https://plot.ly"
       },
       "data": [
        {
         "alignmentgroup": "True",
         "hovertemplate": "Attack Source=Hacker Group<br>Security Vulnerability Type=%{x}<br>Financial Loss (in Million $)=%{y}<extra></extra>",
         "legendgroup": "Hacker Group",
         "marker": {
          "color": "#636efa",
          "pattern": {
           "shape": ""
          }
         },
         "name": "Hacker Group",
         "offsetgroup": "Hacker Group",
         "orientation": "v",
         "showlegend": true,
         "textposition": "auto",
         "texttemplate": "%{y}",
         "type": "bar",
         "x": [
          "Social Engineering",
          "Unpatched Software",
          "Weak Passwords",
          "Zero-day"
         ],
         "xaxis": "x",
         "y": {
          "bdata": "5mux3qLfSkBPh51+nsVJQDM0L0Pz4khA3vPI+TTNSUA=",
          "dtype": "f8"
         },
         "yaxis": "y"
        },
        {
         "alignmentgroup": "True",
         "hovertemplate": "Attack Source=Insider<br>Security Vulnerability Type=%{x}<br>Financial Loss (in Million $)=%{y}<extra></extra>",
         "legendgroup": "Insider",
         "marker": {
          "color": "#EF553B",
          "pattern": {
           "shape": ""
          }
         },
         "name": "Insider",
         "offsetgroup": "Insider",
         "orientation": "v",
         "showlegend": true,
         "textposition": "auto",
         "texttemplate": "%{y}",
         "type": "bar",
         "x": [
          "Social Engineering",
          "Unpatched Software",
          "Weak Passwords",
          "Zero-day"
         ],
         "xaxis": "x",
         "y": {
          "bdata": "zVLQLAU9R0CgdkZdiAtIQJ8/USwY8ElAfzc38FJeSEA=",
          "dtype": "f8"
         },
         "yaxis": "y"
        },
        {
         "alignmentgroup": "True",
         "hovertemplate": "Attack Source=Nation-state<br>Security Vulnerability Type=%{x}<br>Financial Loss (in Million $)=%{y}<extra></extra>",
         "legendgroup": "Nation-state",
         "marker": {
          "color": "#00cc96",
          "pattern": {
           "shape": ""
          }
         },
         "name": "Nation-state",
         "offsetgroup": "Nation-state",
         "orientation": "v",
         "showlegend": true,
         "textposition": "auto",
         "texttemplate": "%{y}",
         "type": "bar",
         "x": [
          "Social Engineering",
          "Unpatched Software",
          "Weak Passwords",
          "Zero-day"
         ],
         "xaxis": "x",
         "y": {
          "bdata": "9/kHmr23SkB36itguZRIQO9V4qBsw0hALPnFkl/sSUA=",
          "dtype": "f8"
         },
         "yaxis": "y"
        },
        {
         "alignmentgroup": "True",
         "hovertemplate": "Attack Source=Unknown<br>Security Vulnerability Type=%{x}<br>Financial Loss (in Million $)=%{y}<extra></extra>",
         "legendgroup": "Unknown",
         "marker": {
          "color": "#ab63fa",
          "pattern": {
           "shape": ""
          }
         },
         "name": "Unknown",
         "offsetgroup": "Unknown",
         "orientation": "v",
         "showlegend": true,
         "textposition": "auto",
         "texttemplate": "%{y}",
         "type": "bar",
         "x": [
          "Social Engineering",
          "Unpatched Software",
          "Weak Passwords",
          "Zero-day"
         ],
         "xaxis": "x",
         "y": {
          "bdata": "grkVgMjoSEAN/w6M5ypKQGTLPnXcb0lAtLtlWECnSEA=",
          "dtype": "f8"
         },
         "yaxis": "y"
        }
       ],
       "layout": {
        "barmode": "group",
        "height": 500,
        "legend": {
         "title": {
          "text": "Attack Source"
         },
         "tracegroupgap": 0
        },
        "template": {
         "data": {
          "bar": [
           {
            "error_x": {
             "color": "#2a3f5f"
            },
            "error_y": {
             "color": "#2a3f5f"
            },
            "marker": {
             "line": {
              "color": "#E5ECF6",
              "width": 0.5
             },
             "pattern": {
              "fillmode": "overlay",
              "size": 10,
              "solidity": 0.2
             }
            },
            "type": "bar"
           }
          ],
          "barpolar": [
           {
            "marker": {
             "line": {
              "color": "#E5ECF6",
              "width": 0.5
             },
             "pattern": {
              "fillmode": "overlay",
              "size": 10,
              "solidity": 0.2
             }
            },
            "type": "barpolar"
           }
          ],
          "carpet": [
           {
            "aaxis": {
             "endlinecolor": "#2a3f5f",
             "gridcolor": "white",
             "linecolor": "white",
             "minorgridcolor": "white",
             "startlinecolor": "#2a3f5f"
            },
            "baxis": {
             "endlinecolor": "#2a3f5f",
             "gridcolor": "white",
             "linecolor": "white",
             "minorgridcolor": "white",
             "startlinecolor": "#2a3f5f"
            },
            "type": "carpet"
           }
          ],
          "choropleth": [
           {
            "colorbar": {
             "outlinewidth": 0,
             "ticks": ""
            },
            "type": "choropleth"
           }
          ],
          "contour": [
           {
            "colorbar": {
             "outlinewidth": 0,
             "ticks": ""
            },
            "colorscale": [
             [
              0,
              "#0d0887"
             ],
             [
              0.1111111111111111,
              "#46039f"
             ],
             [
              0.2222222222222222,
              "#7201a8"
             ],
             [
              0.3333333333333333,
              "#9c179e"
             ],
             [
              0.4444444444444444,
              "#bd3786"
             ],
             [
              0.5555555555555556,
              "#d8576b"
             ],
             [
              0.6666666666666666,
              "#ed7953"
             ],
             [
              0.7777777777777778,
              "#fb9f3a"
             ],
             [
              0.8888888888888888,
              "#fdca26"
             ],
             [
              1,
              "#f0f921"
             ]
            ],
            "type": "contour"
           }
          ],
          "contourcarpet": [
           {
            "colorbar": {
             "outlinewidth": 0,
             "ticks": ""
            },
            "type": "contourcarpet"
           }
          ],
          "heatmap": [
           {
            "colorbar": {
             "outlinewidth": 0,
             "ticks": ""
            },
            "colorscale": [
             [
              0,
              "#0d0887"
             ],
             [
              0.1111111111111111,
              "#46039f"
             ],
             [
              0.2222222222222222,
              "#7201a8"
             ],
             [
              0.3333333333333333,
              "#9c179e"
             ],
             [
              0.4444444444444444,
              "#bd3786"
             ],
             [
              0.5555555555555556,
              "#d8576b"
             ],
             [
              0.6666666666666666,
              "#ed7953"
             ],
             [
              0.7777777777777778,
              "#fb9f3a"
             ],
             [
              0.8888888888888888,
              "#fdca26"
             ],
             [
              1,
              "#f0f921"
             ]
            ],
            "type": "heatmap"
           }
          ],
          "histogram": [
           {
            "marker": {
             "pattern": {
              "fillmode": "overlay",
              "size": 10,
              "solidity": 0.2
             }
            },
            "type": "histogram"
           }
          ],
          "histogram2d": [
           {
            "colorbar": {
             "outlinewidth": 0,
             "ticks": ""
            },
            "colorscale": [
             [
              0,
              "#0d0887"
             ],
             [
              0.1111111111111111,
              "#46039f"
             ],
             [
              0.2222222222222222,
              "#7201a8"
             ],
             [
              0.3333333333333333,
              "#9c179e"
             ],
             [
              0.4444444444444444,
              "#bd3786"
             ],
             [
              0.5555555555555556,
              "#d8576b"
             ],
             [
              0.6666666666666666,
              "#ed7953"
             ],
             [
              0.7777777777777778,
              "#fb9f3a"
             ],
             [
              0.8888888888888888,
              "#fdca26"
             ],
             [
              1,
              "#f0f921"
             ]
            ],
            "type": "histogram2d"
           }
          ],
          "histogram2dcontour": [
           {
            "colorbar": {
             "outlinewidth": 0,
             "ticks": ""
            },
            "colorscale": [
             [
              0,
              "#0d0887"
             ],
             [
              0.1111111111111111,
              "#46039f"
             ],
             [
              0.2222222222222222,
              "#7201a8"
             ],
             [
              0.3333333333333333,
              "#9c179e"
             ],
             [
              0.4444444444444444,
              "#bd3786"
             ],
             [
              0.5555555555555556,
              "#d8576b"
             ],
             [
              0.6666666666666666,
              "#ed7953"
             ],
             [
              0.7777777777777778,
              "#fb9f3a"
             ],
             [
              0.8888888888888888,
              "#fdca26"
             ],
             [
              1,
              "#f0f921"
             ]
            ],
            "type": "histogram2dcontour"
           }
          ],
          "mesh3d": [
           {
            "colorbar": {
             "outlinewidth": 0,
             "ticks": ""
            },
            "type": "mesh3d"
           }
          ],
          "parcoords": [
           {
            "line": {
             "colorbar": {
              "outlinewidth": 0,
              "ticks": ""
             }
            },
            "type": "parcoords"
           }
          ],
          "pie": [
           {
            "automargin": true,
            "type": "pie"
           }
          ],
          "scatter": [
           {
            "fillpattern": {
             "fillmode": "overlay",
             "size": 10,
             "solidity": 0.2
            },
            "type": "scatter"
           }
          ],
          "scatter3d": [
           {
            "line": {
             "colorbar": {
              "outlinewidth": 0,
              "ticks": ""
             }
            },
            "marker": {
             "colorbar": {
              "outlinewidth": 0,
              "ticks": ""
             }
            },
            "type": "scatter3d"
           }
          ],
          "scattercarpet": [
           {
            "marker": {
             "colorbar": {
              "outlinewidth": 0,
              "ticks": ""
             }
            },
            "type": "scattercarpet"
           }
          ],
          "scattergeo": [
           {
            "marker": {
             "colorbar": {
              "outlinewidth": 0,
              "ticks": ""
             }
            },
            "type": "scattergeo"
           }
          ],
          "scattergl": [
           {
            "marker": {
             "colorbar": {
              "outlinewidth": 0,
              "ticks": ""
             }
            },
            "type": "scattergl"
           }
          ],
          "scattermap": [
           {
            "marker": {
             "colorbar": {
              "outlinewidth": 0,
              "ticks": ""
             }
            },
            "type": "scattermap"
           }
          ],
          "scattermapbox": [
           {
            "marker": {
             "colorbar": {
              "outlinewidth": 0,
              "ticks": ""
             }
            },
            "type": "scattermapbox"
           }
          ],
          "scatterpolar": [
           {
            "marker": {
             "colorbar": {
              "outlinewidth": 0,
              "ticks": ""
             }
            },
            "type": "scatterpolar"
           }
          ],
          "scatterpolargl": [
           {
            "marker": {
             "colorbar": {
              "outlinewidth": 0,
              "ticks": ""
             }
            },
            "type": "scatterpolargl"
           }
          ],
          "scatterternary": [
           {
            "marker": {
             "colorbar": {
              "outlinewidth": 0,
              "ticks": ""
             }
            },
            "type": "scatterternary"
           }
          ],
          "surface": [
           {
            "colorbar": {
             "outlinewidth": 0,
             "ticks": ""
            },
            "colorscale": [
             [
              0,
              "#0d0887"
             ],
             [
              0.1111111111111111,
              "#46039f"
             ],
             [
              0.2222222222222222,
              "#7201a8"
             ],
             [
              0.3333333333333333,
              "#9c179e"
             ],
             [
              0.4444444444444444,
              "#bd3786"
             ],
             [
              0.5555555555555556,
              "#d8576b"
             ],
             [
              0.6666666666666666,
              "#ed7953"
             ],
             [
              0.7777777777777778,
              "#fb9f3a"
             ],
             [
              0.8888888888888888,
              "#fdca26"
             ],
             [
              1,
              "#f0f921"
             ]
            ],
            "type": "surface"
           }
          ],
          "table": [
           {
            "cells": {
             "fill": {
              "color": "#EBF0F8"
             },
             "line": {
              "color": "white"
             }
            },
            "header": {
             "fill": {
              "color": "#C8D4E3"
             },
             "line": {
              "color": "white"
             }
            },
            "type": "table"
           }
          ]
         },
         "layout": {
          "annotationdefaults": {
           "arrowcolor": "#2a3f5f",
           "arrowhead": 0,
           "arrowwidth": 1
          },
          "autotypenumbers": "strict",
          "coloraxis": {
           "colorbar": {
            "outlinewidth": 0,
            "ticks": ""
           }
          },
          "colorscale": {
           "diverging": [
            [
             0,
             "#8e0152"
            ],
            [
             0.1,
             "#c51b7d"
            ],
            [
             0.2,
             "#de77ae"
            ],
            [
             0.3,
             "#f1b6da"
            ],
            [
             0.4,
             "#fde0ef"
            ],
            [
             0.5,
             "#f7f7f7"
            ],
            [
             0.6,
             "#e6f5d0"
            ],
            [
             0.7,
             "#b8e186"
            ],
            [
             0.8,
             "#7fbc41"
            ],
            [
             0.9,
             "#4d9221"
            ],
            [
             1,
             "#276419"
            ]
           ],
           "sequential": [
            [
             0,
             "#0d0887"
            ],
            [
             0.1111111111111111,
             "#46039f"
            ],
            [
             0.2222222222222222,
             "#7201a8"
            ],
            [
             0.3333333333333333,
             "#9c179e"
            ],
            [
             0.4444444444444444,
             "#bd3786"
            ],
            [
             0.5555555555555556,
             "#d8576b"
            ],
            [
             0.6666666666666666,
             "#ed7953"
            ],
            [
             0.7777777777777778,
             "#fb9f3a"
            ],
            [
             0.8888888888888888,
             "#fdca26"
            ],
            [
             1,
             "#f0f921"
            ]
           ],
           "sequentialminus": [
            [
             0,
             "#0d0887"
            ],
            [
             0.1111111111111111,
             "#46039f"
            ],
            [
             0.2222222222222222,
             "#7201a8"
            ],
            [
             0.3333333333333333,
             "#9c179e"
            ],
            [
             0.4444444444444444,
             "#bd3786"
            ],
            [
             0.5555555555555556,
             "#d8576b"
            ],
            [
             0.6666666666666666,
             "#ed7953"
            ],
            [
             0.7777777777777778,
             "#fb9f3a"
            ],
            [
             0.8888888888888888,
             "#fdca26"
            ],
            [
             1,
             "#f0f921"
            ]
           ]
          },
          "colorway": [
           "#636efa",
           "#EF553B",
           "#00cc96",
           "#ab63fa",
           "#FFA15A",
           "#19d3f3",
           "#FF6692",
           "#B6E880",
           "#FF97FF",
           "#FECB52"
          ],
          "font": {
           "color": "#2a3f5f"
          },
          "geo": {
           "bgcolor": "white",
           "lakecolor": "white",
           "landcolor": "#E5ECF6",
           "showlakes": true,
           "showland": true,
           "subunitcolor": "white"
          },
          "hoverlabel": {
           "align": "left"
          },
          "hovermode": "closest",
          "mapbox": {
           "style": "light"
          },
          "paper_bgcolor": "white",
          "plot_bgcolor": "#E5ECF6",
          "polar": {
           "angularaxis": {
            "gridcolor": "white",
            "linecolor": "white",
            "ticks": ""
           },
           "bgcolor": "#E5ECF6",
           "radialaxis": {
            "gridcolor": "white",
            "linecolor": "white",
            "ticks": ""
           }
          },
          "scene": {
           "xaxis": {
            "backgroundcolor": "#E5ECF6",
            "gridcolor": "white",
            "gridwidth": 2,
            "linecolor": "white",
            "showbackground": true,
            "ticks": "",
            "zerolinecolor": "white"
           },
           "yaxis": {
            "backgroundcolor": "#E5ECF6",
            "gridcolor": "white",
            "gridwidth": 2,
            "linecolor": "white",
            "showbackground": true,
            "ticks": "",
            "zerolinecolor": "white"
           },
           "zaxis": {
            "backgroundcolor": "#E5ECF6",
            "gridcolor": "white",
            "gridwidth": 2,
            "linecolor": "white",
            "showbackground": true,
            "ticks": "",
            "zerolinecolor": "white"
           }
          },
          "shapedefaults": {
           "line": {
            "color": "#2a3f5f"
           }
          },
          "ternary": {
           "aaxis": {
            "gridcolor": "white",
            "linecolor": "white",
            "ticks": ""
           },
           "baxis": {
            "gridcolor": "white",
            "linecolor": "white",
            "ticks": ""
           },
           "bgcolor": "#E5ECF6",
           "caxis": {
            "gridcolor": "white",
            "linecolor": "white",
            "ticks": ""
           }
          },
          "title": {
           "x": 0.05
          },
          "xaxis": {
           "automargin": true,
           "gridcolor": "white",
           "linecolor": "white",
           "ticks": "",
           "title": {
            "standoff": 15
           },
           "zerolinecolor": "white",
           "zerolinewidth": 2
          },
          "yaxis": {
           "automargin": true,
           "gridcolor": "white",
           "linecolor": "white",
           "ticks": "",
           "title": {
            "standoff": 15
           },
           "zerolinecolor": "white",
           "zerolinewidth": 2
          }
         }
        },
        "title": {
         "text": "Financial Loss by Vulnerability Type and Attack Source"
        },
        "width": 900,
        "xaxis": {
         "anchor": "y",
         "domain": [
          0,
          1
         ],
         "title": {
          "text": "Security Vulnerability Type"
         }
        },
        "yaxis": {
         "anchor": "x",
         "domain": [
          0,
          1
         ],
         "title": {
          "text": "Financial Loss (in Million $)"
         }
        }
       }
      }
     },
     "metadata": {},
     "output_type": "display_data"
    }
   ],
   "source": [
    "voulner_Loss = df.groupby(['Security Vulnerability Type', 'Attack Source'])['Financial Loss (in Million $)'].mean().reset_index()\n",
    "\n",
    "plot = px.bar(\n",
    "    voulner_Loss,\n",
    "    x = 'Security Vulnerability Type',\n",
    "    y= 'Financial Loss (in Million $)',\n",
    "    color='Attack Source',\n",
    "    title= 'Financial Loss by Vulnerability Type and Attack Source',\n",
    "    barmode='group',\n",
    "    text_auto=True,\n",
    "    width=900,\n",
    "    height=500\n",
    ")\n",
    "\n",
    "plot.show()"
   ]
  },
  {
   "cell_type": "markdown",
   "id": "1144e92f",
   "metadata": {},
   "source": [
    "## **Trends of Cyber Attacks over the year**"
   ]
  },
  {
   "cell_type": "code",
   "execution_count": 58,
   "id": "fb1e7e29",
   "metadata": {},
   "outputs": [
    {
     "data": {
      "application/vnd.plotly.v1+json": {
       "config": {
        "plotlyServerURL": "https://plot.ly"
       },
       "data": [
        {
         "hovertemplate": "Year=%{x}<br>Number of Attacks=%{y}<extra></extra>",
         "legendgroup": "",
         "line": {
          "color": "#636efa",
          "dash": "solid",
          "shape": "linear"
         },
         "marker": {
          "symbol": "circle"
         },
         "mode": "lines+markers",
         "name": "",
         "orientation": "v",
         "showlegend": false,
         "type": "scatter",
         "x": {
          "bdata": "3wfgB+EH4gfjB+QH5QfmB+cH6Ac=",
          "dtype": "i2"
         },
         "xaxis": "x",
         "y": {
          "bdata": "FQEdAT8BNgEHATsBKwE+ATsBKwE=",
          "dtype": "i2"
         },
         "yaxis": "y"
        }
       ],
       "layout": {
        "legend": {
         "tracegroupgap": 0
        },
        "template": {
         "data": {
          "bar": [
           {
            "error_x": {
             "color": "#2a3f5f"
            },
            "error_y": {
             "color": "#2a3f5f"
            },
            "marker": {
             "line": {
              "color": "#E5ECF6",
              "width": 0.5
             },
             "pattern": {
              "fillmode": "overlay",
              "size": 10,
              "solidity": 0.2
             }
            },
            "type": "bar"
           }
          ],
          "barpolar": [
           {
            "marker": {
             "line": {
              "color": "#E5ECF6",
              "width": 0.5
             },
             "pattern": {
              "fillmode": "overlay",
              "size": 10,
              "solidity": 0.2
             }
            },
            "type": "barpolar"
           }
          ],
          "carpet": [
           {
            "aaxis": {
             "endlinecolor": "#2a3f5f",
             "gridcolor": "white",
             "linecolor": "white",
             "minorgridcolor": "white",
             "startlinecolor": "#2a3f5f"
            },
            "baxis": {
             "endlinecolor": "#2a3f5f",
             "gridcolor": "white",
             "linecolor": "white",
             "minorgridcolor": "white",
             "startlinecolor": "#2a3f5f"
            },
            "type": "carpet"
           }
          ],
          "choropleth": [
           {
            "colorbar": {
             "outlinewidth": 0,
             "ticks": ""
            },
            "type": "choropleth"
           }
          ],
          "contour": [
           {
            "colorbar": {
             "outlinewidth": 0,
             "ticks": ""
            },
            "colorscale": [
             [
              0,
              "#0d0887"
             ],
             [
              0.1111111111111111,
              "#46039f"
             ],
             [
              0.2222222222222222,
              "#7201a8"
             ],
             [
              0.3333333333333333,
              "#9c179e"
             ],
             [
              0.4444444444444444,
              "#bd3786"
             ],
             [
              0.5555555555555556,
              "#d8576b"
             ],
             [
              0.6666666666666666,
              "#ed7953"
             ],
             [
              0.7777777777777778,
              "#fb9f3a"
             ],
             [
              0.8888888888888888,
              "#fdca26"
             ],
             [
              1,
              "#f0f921"
             ]
            ],
            "type": "contour"
           }
          ],
          "contourcarpet": [
           {
            "colorbar": {
             "outlinewidth": 0,
             "ticks": ""
            },
            "type": "contourcarpet"
           }
          ],
          "heatmap": [
           {
            "colorbar": {
             "outlinewidth": 0,
             "ticks": ""
            },
            "colorscale": [
             [
              0,
              "#0d0887"
             ],
             [
              0.1111111111111111,
              "#46039f"
             ],
             [
              0.2222222222222222,
              "#7201a8"
             ],
             [
              0.3333333333333333,
              "#9c179e"
             ],
             [
              0.4444444444444444,
              "#bd3786"
             ],
             [
              0.5555555555555556,
              "#d8576b"
             ],
             [
              0.6666666666666666,
              "#ed7953"
             ],
             [
              0.7777777777777778,
              "#fb9f3a"
             ],
             [
              0.8888888888888888,
              "#fdca26"
             ],
             [
              1,
              "#f0f921"
             ]
            ],
            "type": "heatmap"
           }
          ],
          "histogram": [
           {
            "marker": {
             "pattern": {
              "fillmode": "overlay",
              "size": 10,
              "solidity": 0.2
             }
            },
            "type": "histogram"
           }
          ],
          "histogram2d": [
           {
            "colorbar": {
             "outlinewidth": 0,
             "ticks": ""
            },
            "colorscale": [
             [
              0,
              "#0d0887"
             ],
             [
              0.1111111111111111,
              "#46039f"
             ],
             [
              0.2222222222222222,
              "#7201a8"
             ],
             [
              0.3333333333333333,
              "#9c179e"
             ],
             [
              0.4444444444444444,
              "#bd3786"
             ],
             [
              0.5555555555555556,
              "#d8576b"
             ],
             [
              0.6666666666666666,
              "#ed7953"
             ],
             [
              0.7777777777777778,
              "#fb9f3a"
             ],
             [
              0.8888888888888888,
              "#fdca26"
             ],
             [
              1,
              "#f0f921"
             ]
            ],
            "type": "histogram2d"
           }
          ],
          "histogram2dcontour": [
           {
            "colorbar": {
             "outlinewidth": 0,
             "ticks": ""
            },
            "colorscale": [
             [
              0,
              "#0d0887"
             ],
             [
              0.1111111111111111,
              "#46039f"
             ],
             [
              0.2222222222222222,
              "#7201a8"
             ],
             [
              0.3333333333333333,
              "#9c179e"
             ],
             [
              0.4444444444444444,
              "#bd3786"
             ],
             [
              0.5555555555555556,
              "#d8576b"
             ],
             [
              0.6666666666666666,
              "#ed7953"
             ],
             [
              0.7777777777777778,
              "#fb9f3a"
             ],
             [
              0.8888888888888888,
              "#fdca26"
             ],
             [
              1,
              "#f0f921"
             ]
            ],
            "type": "histogram2dcontour"
           }
          ],
          "mesh3d": [
           {
            "colorbar": {
             "outlinewidth": 0,
             "ticks": ""
            },
            "type": "mesh3d"
           }
          ],
          "parcoords": [
           {
            "line": {
             "colorbar": {
              "outlinewidth": 0,
              "ticks": ""
             }
            },
            "type": "parcoords"
           }
          ],
          "pie": [
           {
            "automargin": true,
            "type": "pie"
           }
          ],
          "scatter": [
           {
            "fillpattern": {
             "fillmode": "overlay",
             "size": 10,
             "solidity": 0.2
            },
            "type": "scatter"
           }
          ],
          "scatter3d": [
           {
            "line": {
             "colorbar": {
              "outlinewidth": 0,
              "ticks": ""
             }
            },
            "marker": {
             "colorbar": {
              "outlinewidth": 0,
              "ticks": ""
             }
            },
            "type": "scatter3d"
           }
          ],
          "scattercarpet": [
           {
            "marker": {
             "colorbar": {
              "outlinewidth": 0,
              "ticks": ""
             }
            },
            "type": "scattercarpet"
           }
          ],
          "scattergeo": [
           {
            "marker": {
             "colorbar": {
              "outlinewidth": 0,
              "ticks": ""
             }
            },
            "type": "scattergeo"
           }
          ],
          "scattergl": [
           {
            "marker": {
             "colorbar": {
              "outlinewidth": 0,
              "ticks": ""
             }
            },
            "type": "scattergl"
           }
          ],
          "scattermap": [
           {
            "marker": {
             "colorbar": {
              "outlinewidth": 0,
              "ticks": ""
             }
            },
            "type": "scattermap"
           }
          ],
          "scattermapbox": [
           {
            "marker": {
             "colorbar": {
              "outlinewidth": 0,
              "ticks": ""
             }
            },
            "type": "scattermapbox"
           }
          ],
          "scatterpolar": [
           {
            "marker": {
             "colorbar": {
              "outlinewidth": 0,
              "ticks": ""
             }
            },
            "type": "scatterpolar"
           }
          ],
          "scatterpolargl": [
           {
            "marker": {
             "colorbar": {
              "outlinewidth": 0,
              "ticks": ""
             }
            },
            "type": "scatterpolargl"
           }
          ],
          "scatterternary": [
           {
            "marker": {
             "colorbar": {
              "outlinewidth": 0,
              "ticks": ""
             }
            },
            "type": "scatterternary"
           }
          ],
          "surface": [
           {
            "colorbar": {
             "outlinewidth": 0,
             "ticks": ""
            },
            "colorscale": [
             [
              0,
              "#0d0887"
             ],
             [
              0.1111111111111111,
              "#46039f"
             ],
             [
              0.2222222222222222,
              "#7201a8"
             ],
             [
              0.3333333333333333,
              "#9c179e"
             ],
             [
              0.4444444444444444,
              "#bd3786"
             ],
             [
              0.5555555555555556,
              "#d8576b"
             ],
             [
              0.6666666666666666,
              "#ed7953"
             ],
             [
              0.7777777777777778,
              "#fb9f3a"
             ],
             [
              0.8888888888888888,
              "#fdca26"
             ],
             [
              1,
              "#f0f921"
             ]
            ],
            "type": "surface"
           }
          ],
          "table": [
           {
            "cells": {
             "fill": {
              "color": "#EBF0F8"
             },
             "line": {
              "color": "white"
             }
            },
            "header": {
             "fill": {
              "color": "#C8D4E3"
             },
             "line": {
              "color": "white"
             }
            },
            "type": "table"
           }
          ]
         },
         "layout": {
          "annotationdefaults": {
           "arrowcolor": "#2a3f5f",
           "arrowhead": 0,
           "arrowwidth": 1
          },
          "autotypenumbers": "strict",
          "coloraxis": {
           "colorbar": {
            "outlinewidth": 0,
            "ticks": ""
           }
          },
          "colorscale": {
           "diverging": [
            [
             0,
             "#8e0152"
            ],
            [
             0.1,
             "#c51b7d"
            ],
            [
             0.2,
             "#de77ae"
            ],
            [
             0.3,
             "#f1b6da"
            ],
            [
             0.4,
             "#fde0ef"
            ],
            [
             0.5,
             "#f7f7f7"
            ],
            [
             0.6,
             "#e6f5d0"
            ],
            [
             0.7,
             "#b8e186"
            ],
            [
             0.8,
             "#7fbc41"
            ],
            [
             0.9,
             "#4d9221"
            ],
            [
             1,
             "#276419"
            ]
           ],
           "sequential": [
            [
             0,
             "#0d0887"
            ],
            [
             0.1111111111111111,
             "#46039f"
            ],
            [
             0.2222222222222222,
             "#7201a8"
            ],
            [
             0.3333333333333333,
             "#9c179e"
            ],
            [
             0.4444444444444444,
             "#bd3786"
            ],
            [
             0.5555555555555556,
             "#d8576b"
            ],
            [
             0.6666666666666666,
             "#ed7953"
            ],
            [
             0.7777777777777778,
             "#fb9f3a"
            ],
            [
             0.8888888888888888,
             "#fdca26"
            ],
            [
             1,
             "#f0f921"
            ]
           ],
           "sequentialminus": [
            [
             0,
             "#0d0887"
            ],
            [
             0.1111111111111111,
             "#46039f"
            ],
            [
             0.2222222222222222,
             "#7201a8"
            ],
            [
             0.3333333333333333,
             "#9c179e"
            ],
            [
             0.4444444444444444,
             "#bd3786"
            ],
            [
             0.5555555555555556,
             "#d8576b"
            ],
            [
             0.6666666666666666,
             "#ed7953"
            ],
            [
             0.7777777777777778,
             "#fb9f3a"
            ],
            [
             0.8888888888888888,
             "#fdca26"
            ],
            [
             1,
             "#f0f921"
            ]
           ]
          },
          "colorway": [
           "#636efa",
           "#EF553B",
           "#00cc96",
           "#ab63fa",
           "#FFA15A",
           "#19d3f3",
           "#FF6692",
           "#B6E880",
           "#FF97FF",
           "#FECB52"
          ],
          "font": {
           "color": "#2a3f5f"
          },
          "geo": {
           "bgcolor": "white",
           "lakecolor": "white",
           "landcolor": "#E5ECF6",
           "showlakes": true,
           "showland": true,
           "subunitcolor": "white"
          },
          "hoverlabel": {
           "align": "left"
          },
          "hovermode": "closest",
          "mapbox": {
           "style": "light"
          },
          "paper_bgcolor": "white",
          "plot_bgcolor": "#E5ECF6",
          "polar": {
           "angularaxis": {
            "gridcolor": "white",
            "linecolor": "white",
            "ticks": ""
           },
           "bgcolor": "#E5ECF6",
           "radialaxis": {
            "gridcolor": "white",
            "linecolor": "white",
            "ticks": ""
           }
          },
          "scene": {
           "xaxis": {
            "backgroundcolor": "#E5ECF6",
            "gridcolor": "white",
            "gridwidth": 2,
            "linecolor": "white",
            "showbackground": true,
            "ticks": "",
            "zerolinecolor": "white"
           },
           "yaxis": {
            "backgroundcolor": "#E5ECF6",
            "gridcolor": "white",
            "gridwidth": 2,
            "linecolor": "white",
            "showbackground": true,
            "ticks": "",
            "zerolinecolor": "white"
           },
           "zaxis": {
            "backgroundcolor": "#E5ECF6",
            "gridcolor": "white",
            "gridwidth": 2,
            "linecolor": "white",
            "showbackground": true,
            "ticks": "",
            "zerolinecolor": "white"
           }
          },
          "shapedefaults": {
           "line": {
            "color": "#2a3f5f"
           }
          },
          "ternary": {
           "aaxis": {
            "gridcolor": "white",
            "linecolor": "white",
            "ticks": ""
           },
           "baxis": {
            "gridcolor": "white",
            "linecolor": "white",
            "ticks": ""
           },
           "bgcolor": "#E5ECF6",
           "caxis": {
            "gridcolor": "white",
            "linecolor": "white",
            "ticks": ""
           }
          },
          "title": {
           "x": 0.05
          },
          "xaxis": {
           "automargin": true,
           "gridcolor": "white",
           "linecolor": "white",
           "ticks": "",
           "title": {
            "standoff": 15
           },
           "zerolinecolor": "white",
           "zerolinewidth": 2
          },
          "yaxis": {
           "automargin": true,
           "gridcolor": "white",
           "linecolor": "white",
           "ticks": "",
           "title": {
            "standoff": 15
           },
           "zerolinecolor": "white",
           "zerolinewidth": 2
          }
         }
        },
        "title": {
         "text": "Trend of Cyber Attacks Over Years"
        },
        "xaxis": {
         "anchor": "y",
         "domain": [
          0,
          1
         ],
         "title": {
          "text": "Year"
         }
        },
        "yaxis": {
         "anchor": "x",
         "domain": [
          0,
          1
         ],
         "title": {
          "text": "Number of Attacks"
         }
        }
       }
      }
     },
     "metadata": {},
     "output_type": "display_data"
    }
   ],
   "source": [
    "\n",
    "timeline = df.groupby('Year').size().reset_index(name='Number of Attacks')\n",
    "\n",
    "\n",
    "plot = px.line(\n",
    "    timeline, \n",
    "    x='Year', \n",
    "    y='Number of Attacks',\n",
    "    title='Trend of Cyber Attacks Over Years',\n",
    "    markers=True,\n",
    "    line_shape='linear'\n",
    ")\n",
    "plot.show()"
   ]
  },
  {
   "cell_type": "code",
   "execution_count": 64,
   "id": "f0747223",
   "metadata": {},
   "outputs": [
    {
     "data": {
      "application/vnd.plotly.v1+json": {
       "config": {
        "plotlyServerURL": "https://plot.ly"
       },
       "data": [
        {
         "hovertemplate": "Attack Type=%{x}<br>Cost Per User=%{y}<extra></extra>",
         "legendgroup": "DDoS",
         "marker": {
          "color": "#636efa",
          "pattern": {
           "shape": ""
          }
         },
         "name": "DDoS",
         "orientation": "v",
         "showlegend": true,
         "textposition": "auto",
         "texttemplate": "%{y}",
         "type": "bar",
         "x": [
          "DDoS"
         ],
         "xaxis": "x",
         "y": {
          "bdata": "O+TFeDtPgEA=",
          "dtype": "f8"
         },
         "yaxis": "y"
        },
        {
         "hovertemplate": "Attack Type=%{x}<br>Cost Per User=%{y}<extra></extra>",
         "legendgroup": "Malware",
         "marker": {
          "color": "#EF553B",
          "pattern": {
           "shape": ""
          }
         },
         "name": "Malware",
         "orientation": "v",
         "showlegend": true,
         "textposition": "auto",
         "texttemplate": "%{y}",
         "type": "bar",
         "x": [
          "Malware"
         ],
         "xaxis": "x",
         "y": {
          "bdata": "srngczQviUA=",
          "dtype": "f8"
         },
         "yaxis": "y"
        },
        {
         "hovertemplate": "Attack Type=%{x}<br>Cost Per User=%{y}<extra></extra>",
         "legendgroup": "Man-in-the-Middle",
         "marker": {
          "color": "#00cc96",
          "pattern": {
           "shape": ""
          }
         },
         "name": "Man-in-the-Middle",
         "orientation": "v",
         "showlegend": true,
         "textposition": "auto",
         "texttemplate": "%{y}",
         "type": "bar",
         "x": [
          "Man-in-the-Middle"
         ],
         "xaxis": "x",
         "y": {
          "bdata": "QCLjykn+gkA=",
          "dtype": "f8"
         },
         "yaxis": "y"
        },
        {
         "hovertemplate": "Attack Type=%{x}<br>Cost Per User=%{y}<extra></extra>",
         "legendgroup": "Phishing",
         "marker": {
          "color": "#ab63fa",
          "pattern": {
           "shape": ""
          }
         },
         "name": "Phishing",
         "orientation": "v",
         "showlegend": true,
         "textposition": "auto",
         "texttemplate": "%{y}",
         "type": "bar",
         "x": [
          "Phishing"
         ],
         "xaxis": "x",
         "y": {
          "bdata": "yhkXpZ4HdEA=",
          "dtype": "f8"
         },
         "yaxis": "y"
        },
        {
         "hovertemplate": "Attack Type=%{x}<br>Cost Per User=%{y}<extra></extra>",
         "legendgroup": "Ransomware",
         "marker": {
          "color": "#FFA15A",
          "pattern": {
           "shape": ""
          }
         },
         "name": "Ransomware",
         "orientation": "v",
         "showlegend": true,
         "textposition": "auto",
         "texttemplate": "%{y}",
         "type": "bar",
         "x": [
          "Ransomware"
         ],
         "xaxis": "x",
         "y": {
          "bdata": "IfwYpyoCc0A=",
          "dtype": "f8"
         },
         "yaxis": "y"
        },
        {
         "hovertemplate": "Attack Type=%{x}<br>Cost Per User=%{y}<extra></extra>",
         "legendgroup": "SQL Injection",
         "marker": {
          "color": "#19d3f3",
          "pattern": {
           "shape": ""
          }
         },
         "name": "SQL Injection",
         "orientation": "v",
         "showlegend": true,
         "textposition": "auto",
         "texttemplate": "%{y}",
         "type": "bar",
         "x": [
          "SQL Injection"
         ],
         "xaxis": "x",
         "y": {
          "bdata": "RMXKTDlXgUA=",
          "dtype": "f8"
         },
         "yaxis": "y"
        }
       ],
       "layout": {
        "barmode": "relative",
        "height": 500,
        "legend": {
         "title": {
          "text": "Attack Type"
         },
         "tracegroupgap": 0
        },
        "template": {
         "data": {
          "bar": [
           {
            "error_x": {
             "color": "#2a3f5f"
            },
            "error_y": {
             "color": "#2a3f5f"
            },
            "marker": {
             "line": {
              "color": "#E5ECF6",
              "width": 0.5
             },
             "pattern": {
              "fillmode": "overlay",
              "size": 10,
              "solidity": 0.2
             }
            },
            "type": "bar"
           }
          ],
          "barpolar": [
           {
            "marker": {
             "line": {
              "color": "#E5ECF6",
              "width": 0.5
             },
             "pattern": {
              "fillmode": "overlay",
              "size": 10,
              "solidity": 0.2
             }
            },
            "type": "barpolar"
           }
          ],
          "carpet": [
           {
            "aaxis": {
             "endlinecolor": "#2a3f5f",
             "gridcolor": "white",
             "linecolor": "white",
             "minorgridcolor": "white",
             "startlinecolor": "#2a3f5f"
            },
            "baxis": {
             "endlinecolor": "#2a3f5f",
             "gridcolor": "white",
             "linecolor": "white",
             "minorgridcolor": "white",
             "startlinecolor": "#2a3f5f"
            },
            "type": "carpet"
           }
          ],
          "choropleth": [
           {
            "colorbar": {
             "outlinewidth": 0,
             "ticks": ""
            },
            "type": "choropleth"
           }
          ],
          "contour": [
           {
            "colorbar": {
             "outlinewidth": 0,
             "ticks": ""
            },
            "colorscale": [
             [
              0,
              "#0d0887"
             ],
             [
              0.1111111111111111,
              "#46039f"
             ],
             [
              0.2222222222222222,
              "#7201a8"
             ],
             [
              0.3333333333333333,
              "#9c179e"
             ],
             [
              0.4444444444444444,
              "#bd3786"
             ],
             [
              0.5555555555555556,
              "#d8576b"
             ],
             [
              0.6666666666666666,
              "#ed7953"
             ],
             [
              0.7777777777777778,
              "#fb9f3a"
             ],
             [
              0.8888888888888888,
              "#fdca26"
             ],
             [
              1,
              "#f0f921"
             ]
            ],
            "type": "contour"
           }
          ],
          "contourcarpet": [
           {
            "colorbar": {
             "outlinewidth": 0,
             "ticks": ""
            },
            "type": "contourcarpet"
           }
          ],
          "heatmap": [
           {
            "colorbar": {
             "outlinewidth": 0,
             "ticks": ""
            },
            "colorscale": [
             [
              0,
              "#0d0887"
             ],
             [
              0.1111111111111111,
              "#46039f"
             ],
             [
              0.2222222222222222,
              "#7201a8"
             ],
             [
              0.3333333333333333,
              "#9c179e"
             ],
             [
              0.4444444444444444,
              "#bd3786"
             ],
             [
              0.5555555555555556,
              "#d8576b"
             ],
             [
              0.6666666666666666,
              "#ed7953"
             ],
             [
              0.7777777777777778,
              "#fb9f3a"
             ],
             [
              0.8888888888888888,
              "#fdca26"
             ],
             [
              1,
              "#f0f921"
             ]
            ],
            "type": "heatmap"
           }
          ],
          "histogram": [
           {
            "marker": {
             "pattern": {
              "fillmode": "overlay",
              "size": 10,
              "solidity": 0.2
             }
            },
            "type": "histogram"
           }
          ],
          "histogram2d": [
           {
            "colorbar": {
             "outlinewidth": 0,
             "ticks": ""
            },
            "colorscale": [
             [
              0,
              "#0d0887"
             ],
             [
              0.1111111111111111,
              "#46039f"
             ],
             [
              0.2222222222222222,
              "#7201a8"
             ],
             [
              0.3333333333333333,
              "#9c179e"
             ],
             [
              0.4444444444444444,
              "#bd3786"
             ],
             [
              0.5555555555555556,
              "#d8576b"
             ],
             [
              0.6666666666666666,
              "#ed7953"
             ],
             [
              0.7777777777777778,
              "#fb9f3a"
             ],
             [
              0.8888888888888888,
              "#fdca26"
             ],
             [
              1,
              "#f0f921"
             ]
            ],
            "type": "histogram2d"
           }
          ],
          "histogram2dcontour": [
           {
            "colorbar": {
             "outlinewidth": 0,
             "ticks": ""
            },
            "colorscale": [
             [
              0,
              "#0d0887"
             ],
             [
              0.1111111111111111,
              "#46039f"
             ],
             [
              0.2222222222222222,
              "#7201a8"
             ],
             [
              0.3333333333333333,
              "#9c179e"
             ],
             [
              0.4444444444444444,
              "#bd3786"
             ],
             [
              0.5555555555555556,
              "#d8576b"
             ],
             [
              0.6666666666666666,
              "#ed7953"
             ],
             [
              0.7777777777777778,
              "#fb9f3a"
             ],
             [
              0.8888888888888888,
              "#fdca26"
             ],
             [
              1,
              "#f0f921"
             ]
            ],
            "type": "histogram2dcontour"
           }
          ],
          "mesh3d": [
           {
            "colorbar": {
             "outlinewidth": 0,
             "ticks": ""
            },
            "type": "mesh3d"
           }
          ],
          "parcoords": [
           {
            "line": {
             "colorbar": {
              "outlinewidth": 0,
              "ticks": ""
             }
            },
            "type": "parcoords"
           }
          ],
          "pie": [
           {
            "automargin": true,
            "type": "pie"
           }
          ],
          "scatter": [
           {
            "fillpattern": {
             "fillmode": "overlay",
             "size": 10,
             "solidity": 0.2
            },
            "type": "scatter"
           }
          ],
          "scatter3d": [
           {
            "line": {
             "colorbar": {
              "outlinewidth": 0,
              "ticks": ""
             }
            },
            "marker": {
             "colorbar": {
              "outlinewidth": 0,
              "ticks": ""
             }
            },
            "type": "scatter3d"
           }
          ],
          "scattercarpet": [
           {
            "marker": {
             "colorbar": {
              "outlinewidth": 0,
              "ticks": ""
             }
            },
            "type": "scattercarpet"
           }
          ],
          "scattergeo": [
           {
            "marker": {
             "colorbar": {
              "outlinewidth": 0,
              "ticks": ""
             }
            },
            "type": "scattergeo"
           }
          ],
          "scattergl": [
           {
            "marker": {
             "colorbar": {
              "outlinewidth": 0,
              "ticks": ""
             }
            },
            "type": "scattergl"
           }
          ],
          "scattermap": [
           {
            "marker": {
             "colorbar": {
              "outlinewidth": 0,
              "ticks": ""
             }
            },
            "type": "scattermap"
           }
          ],
          "scattermapbox": [
           {
            "marker": {
             "colorbar": {
              "outlinewidth": 0,
              "ticks": ""
             }
            },
            "type": "scattermapbox"
           }
          ],
          "scatterpolar": [
           {
            "marker": {
             "colorbar": {
              "outlinewidth": 0,
              "ticks": ""
             }
            },
            "type": "scatterpolar"
           }
          ],
          "scatterpolargl": [
           {
            "marker": {
             "colorbar": {
              "outlinewidth": 0,
              "ticks": ""
             }
            },
            "type": "scatterpolargl"
           }
          ],
          "scatterternary": [
           {
            "marker": {
             "colorbar": {
              "outlinewidth": 0,
              "ticks": ""
             }
            },
            "type": "scatterternary"
           }
          ],
          "surface": [
           {
            "colorbar": {
             "outlinewidth": 0,
             "ticks": ""
            },
            "colorscale": [
             [
              0,
              "#0d0887"
             ],
             [
              0.1111111111111111,
              "#46039f"
             ],
             [
              0.2222222222222222,
              "#7201a8"
             ],
             [
              0.3333333333333333,
              "#9c179e"
             ],
             [
              0.4444444444444444,
              "#bd3786"
             ],
             [
              0.5555555555555556,
              "#d8576b"
             ],
             [
              0.6666666666666666,
              "#ed7953"
             ],
             [
              0.7777777777777778,
              "#fb9f3a"
             ],
             [
              0.8888888888888888,
              "#fdca26"
             ],
             [
              1,
              "#f0f921"
             ]
            ],
            "type": "surface"
           }
          ],
          "table": [
           {
            "cells": {
             "fill": {
              "color": "#EBF0F8"
             },
             "line": {
              "color": "white"
             }
            },
            "header": {
             "fill": {
              "color": "#C8D4E3"
             },
             "line": {
              "color": "white"
             }
            },
            "type": "table"
           }
          ]
         },
         "layout": {
          "annotationdefaults": {
           "arrowcolor": "#2a3f5f",
           "arrowhead": 0,
           "arrowwidth": 1
          },
          "autotypenumbers": "strict",
          "coloraxis": {
           "colorbar": {
            "outlinewidth": 0,
            "ticks": ""
           }
          },
          "colorscale": {
           "diverging": [
            [
             0,
             "#8e0152"
            ],
            [
             0.1,
             "#c51b7d"
            ],
            [
             0.2,
             "#de77ae"
            ],
            [
             0.3,
             "#f1b6da"
            ],
            [
             0.4,
             "#fde0ef"
            ],
            [
             0.5,
             "#f7f7f7"
            ],
            [
             0.6,
             "#e6f5d0"
            ],
            [
             0.7,
             "#b8e186"
            ],
            [
             0.8,
             "#7fbc41"
            ],
            [
             0.9,
             "#4d9221"
            ],
            [
             1,
             "#276419"
            ]
           ],
           "sequential": [
            [
             0,
             "#0d0887"
            ],
            [
             0.1111111111111111,
             "#46039f"
            ],
            [
             0.2222222222222222,
             "#7201a8"
            ],
            [
             0.3333333333333333,
             "#9c179e"
            ],
            [
             0.4444444444444444,
             "#bd3786"
            ],
            [
             0.5555555555555556,
             "#d8576b"
            ],
            [
             0.6666666666666666,
             "#ed7953"
            ],
            [
             0.7777777777777778,
             "#fb9f3a"
            ],
            [
             0.8888888888888888,
             "#fdca26"
            ],
            [
             1,
             "#f0f921"
            ]
           ],
           "sequentialminus": [
            [
             0,
             "#0d0887"
            ],
            [
             0.1111111111111111,
             "#46039f"
            ],
            [
             0.2222222222222222,
             "#7201a8"
            ],
            [
             0.3333333333333333,
             "#9c179e"
            ],
            [
             0.4444444444444444,
             "#bd3786"
            ],
            [
             0.5555555555555556,
             "#d8576b"
            ],
            [
             0.6666666666666666,
             "#ed7953"
            ],
            [
             0.7777777777777778,
             "#fb9f3a"
            ],
            [
             0.8888888888888888,
             "#fdca26"
            ],
            [
             1,
             "#f0f921"
            ]
           ]
          },
          "colorway": [
           "#636efa",
           "#EF553B",
           "#00cc96",
           "#ab63fa",
           "#FFA15A",
           "#19d3f3",
           "#FF6692",
           "#B6E880",
           "#FF97FF",
           "#FECB52"
          ],
          "font": {
           "color": "#2a3f5f"
          },
          "geo": {
           "bgcolor": "white",
           "lakecolor": "white",
           "landcolor": "#E5ECF6",
           "showlakes": true,
           "showland": true,
           "subunitcolor": "white"
          },
          "hoverlabel": {
           "align": "left"
          },
          "hovermode": "closest",
          "mapbox": {
           "style": "light"
          },
          "paper_bgcolor": "white",
          "plot_bgcolor": "#E5ECF6",
          "polar": {
           "angularaxis": {
            "gridcolor": "white",
            "linecolor": "white",
            "ticks": ""
           },
           "bgcolor": "#E5ECF6",
           "radialaxis": {
            "gridcolor": "white",
            "linecolor": "white",
            "ticks": ""
           }
          },
          "scene": {
           "xaxis": {
            "backgroundcolor": "#E5ECF6",
            "gridcolor": "white",
            "gridwidth": 2,
            "linecolor": "white",
            "showbackground": true,
            "ticks": "",
            "zerolinecolor": "white"
           },
           "yaxis": {
            "backgroundcolor": "#E5ECF6",
            "gridcolor": "white",
            "gridwidth": 2,
            "linecolor": "white",
            "showbackground": true,
            "ticks": "",
            "zerolinecolor": "white"
           },
           "zaxis": {
            "backgroundcolor": "#E5ECF6",
            "gridcolor": "white",
            "gridwidth": 2,
            "linecolor": "white",
            "showbackground": true,
            "ticks": "",
            "zerolinecolor": "white"
           }
          },
          "shapedefaults": {
           "line": {
            "color": "#2a3f5f"
           }
          },
          "ternary": {
           "aaxis": {
            "gridcolor": "white",
            "linecolor": "white",
            "ticks": ""
           },
           "baxis": {
            "gridcolor": "white",
            "linecolor": "white",
            "ticks": ""
           },
           "bgcolor": "#E5ECF6",
           "caxis": {
            "gridcolor": "white",
            "linecolor": "white",
            "ticks": ""
           }
          },
          "title": {
           "x": 0.05
          },
          "xaxis": {
           "automargin": true,
           "gridcolor": "white",
           "linecolor": "white",
           "ticks": "",
           "title": {
            "standoff": 15
           },
           "zerolinecolor": "white",
           "zerolinewidth": 2
          },
          "yaxis": {
           "automargin": true,
           "gridcolor": "white",
           "linecolor": "white",
           "ticks": "",
           "title": {
            "standoff": 15
           },
           "zerolinecolor": "white",
           "zerolinewidth": 2
          }
         }
        },
        "title": {
         "text": "No Title"
        },
        "width": 800,
        "xaxis": {
         "anchor": "y",
         "categoryarray": [
          "DDoS",
          "Malware",
          "Man-in-the-Middle",
          "Phishing",
          "Ransomware",
          "SQL Injection"
         ],
         "categoryorder": "array",
         "domain": [
          0,
          1
         ],
         "title": {
          "text": "Attack Type"
         }
        },
        "yaxis": {
         "anchor": "x",
         "domain": [
          0,
          1
         ],
         "title": {
          "text": "Cost Per User"
         }
        }
       }
      }
     },
     "metadata": {},
     "output_type": "display_data"
    }
   ],
   "source": [
    "df['Cost Per User'] = (df['Financial Loss (in Million $)']*1000000) / df['Number of Affected Users']\n",
    "\n",
    "Cost_Per_User = df.groupby('Attack Type')['Cost Per User'].mean().reset_index()\n",
    "\n",
    "plot = px.bar(\n",
    "    Cost_Per_User,\n",
    "    x = 'Attack Type',\n",
    "    y = 'Cost Per User',\n",
    "    color='Attack Type',\n",
    "    title='No Title',\n",
    "    text_auto=True,\n",
    "    width=800,\n",
    "    height=500\n",
    ")\n",
    "\n",
    "plot.show()"
   ]
  },
  {
   "cell_type": "markdown",
   "id": "259e1f9d",
   "metadata": {},
   "source": [
    "## **Incident Response and Resolution**"
   ]
  },
  {
   "cell_type": "code",
   "execution_count": 76,
   "id": "f028e66b",
   "metadata": {},
   "outputs": [
    {
     "data": {
      "application/vnd.plotly.v1+json": {
       "config": {
        "plotlyServerURL": "https://plot.ly"
       },
       "data": [
        {
         "boxpoints": "all",
         "jitter": 0.3,
         "name": "VPN",
         "pointpos": 1.8,
         "type": "box",
         "y": {
          "bdata": "PxREIi8dCx41G0c5QB0fRkEOGBwZIykjNyZHFz0gDEgBM0UaDzJAFScdQEgJSDoTCwocRRpILARDMTAfBy8pCBMPJRMiGTA2BSxCRQUZLCU3Rw80Bz4lHhoDQzknLTQPDg0OIixAFwUPQSRBPg8qPyIwGxdGBTA0DwovKyogKhkBOwgNBTBHISYaAjgtBDcsLCQlAy48ODwvOA1AMwE8BTEFJQomLC8LBzYJHD0CNhRHEUEhPxseEgQdJRoCFy8gLiwPESA4Gyk6Qh4LKDVANR4lNh0COiY4FBgsRwgjFhQXAhMlDkBCQyYrMD8tQzIeExciAgYLPxYpBiMcFDQUNCcSKj8SOh4ICDoiLycMATcoLDgPPj5BESorLRcwPRo9CQoKBxQzQjoPFwEPASYwPB9AKiUORjcyBw0jJQoYK0gjN0I9FjoVOyk/Az0pLgEpNgcCEw8fPgY/ISQ9Eh0/Kz4FIzArSAQQGRAzCg8xMDYUOhojLDYoJiofRzspLDg3CREcFwQDDDATHRM5Nj4sCQYJPw45JjQoEA0nFiEXPyVGJUUcBD0+QywjGRUzQh9HNyMSLSkgJx8fEUYVEjk1G0AnERARLSsEJTULSAEqKRMBLRs2OzYUCQs5RCcHLyEwKj8oFQggOTMUPyslNSxDH0EjIQMkIDYdRwIvMw4XNDxDAxYqKg5AKSBFPAorHxksLgI5Rj45LSxBHDkBMQdDIhs2KCcFQhU8NAwIOigYC0MUQzsbAgcUHjk2EAYcMTUIPhAtJScNRUREHD0uDQhBDyVFGkgWDBAgLSwGNzkeHTcJNRpA",
          "dtype": "i1"
         }
        },
        {
         "boxpoints": "all",
         "jitter": 0.3,
         "name": "Firewall",
         "pointpos": 1.8,
         "type": "box",
         "y": {
          "bdata": "RzolHB5GKDhBNDcLHUIoQiRCNQExGR0ZJCM+ITcWICIqPz8YBRE6GxorOQI8QyVARTgaDisDPB8kH0JIFi4iQwQsGyQ0CRYmAzA9EQUSKisKISEQEDoKGkIUPRobGSMCIA4/JxszAyYxOjYMRxYqJ0JEIC4wFBoTNCARSBgWHQoKRi8DIjYsQydHNggHCy9HISkgGyAfKwohKkM/AwgbD0gsQgg+Mgo7KA83NjYnLAMdCCkLOAUhAw1GJDMJBhs1QykQIC8EGRIpMUI9AhoIBysvFAcWFBEXEDgVQjsBGAEOQAE/AQ45DAMpCz9DSCopBT8HIjkPIBguGicbRB0zLDoSCT4XCiI2OA8aAjlFOQseMzcPHjEwCAQ+JhUERBQgSCgPM0AKBQ9IDTAROD4SHEcNDEQCKhkCRR0MCiAmHEE7BQlANToLSBseMjgWKiMqDBQ8QRMgQSwdFQ4FETgTHC41Og0sFBgbJBgrDw0lLjYFGBM2Pg1GAxkfSB0PFhQUByYzEzklRCU8PioNPxg1ODFBL0UGHkEwOzc8AhE3QCozMAc/HS4oFC9GPy08PhoTCUQzLz8RBA8UMzASBhE3SB06JQsqOTEKIB4RDwcyD0M0OiIYNxRAGTklHw05MwQGQgYBLQwzBCYtHysXERU6HREaDBI4FS0+QEE/KxQgRRIfGB0OKyI3NQw3LhIOATYPLQYKCigkECAdDBMNI0cXHSEuCC0xAzQ2SAdHBgYmOUADHAk3IwoID0c6OR0+EBIKODY6BEAhRjQJ",
          "dtype": "i1"
         }
        },
        {
         "boxpoints": "all",
         "jitter": 0.3,
         "name": "AI-based Detection",
         "pointpos": 1.8,
         "type": "box",
         "y": {
          "bdata": "BxsjQwY0CyI+AyQeFwopOAU2RQM3Dx4KIjYjFUAfLSYLNCM6N0YGQzMVLwQOQhopNhodNUcWAzUfECIiRQcKRAFFNBwOHio6KD4HBw85CgYENTMnNCYjKzhGMjcdA0M/Mwg3Ky83RyQfDR8qQTFEMyA0LR05QgpBEh4oKxoEIj86QhtHBEMFFSElDjwLBQQ/ET4gQxo4AzUmFEBCAypDBx8yHCYQIR0QIxxELhcdFws5CwsCA0JCIxU8LC4lE0AtBSoPPgZDAzgQCDkPOwsPHhAZIyMMCSspOyMTRCAeCiwgC0E5NhgUEiMyDRknOgU3PUEaHxtIGQ0CFRolQQ8lHQQ/KUYPKjdBIEgWAkIQFDY/HS1AERcuNhU6KBxAQwoWIz0SKgcXNwUtEyIVCkEuOy8jGhEkBDUcCQtHIBgyMSNIDTEHByNFODIEBBAcHTEFJSkOHxkONRoSOCUJQRVHPBQKMBwTLzYIPUVCJgJCHDcxRwgVO0chLQM2EzpFOxY0Hh9AKRMwRwsZP0URKyQIDxQaBzgOFCdGQz0dMSoHDB8GERIgLjpBBR47Ah4MRDUHOTxCKg4LCzoZSBMoDiolMysSKxwcJhIGQwwnOCwmOygXNEAMIyoQNztAPSoqHENARwIfFTBAOhojRDMFNRU8NS84DSIMOC4aJR4/LiwoGwgRNxQ0FgM6GRUoGA0CBS1AKS1FG0UHKxAVDgspOCs+OzgSLyUqJyIuAUQuFjwLLCk5RStDIDsnHQguSDMWGzBDAiYnDTUIHg==",
          "dtype": "i1"
         }
        },
        {
         "boxpoints": "all",
         "jitter": 0.3,
         "name": "Antivirus",
         "pointpos": 1.8,
         "type": "box",
         "y": {
          "bdata": "GUIrIAkVE0EROSAQPwlEKSoLKRMzOS86JUQmMisMRRQ2PzMrLR4QRyYdMCw6JSsMPSEZCCAxHjEoNzpFKxA5RkIFJD8+IiA5JRUJGzZEJwIsGjEzKhsJOBhCITA2N0ANDSUgOykIHkYmLTscLCAgMyYvCRkRFyoNRUQ6CwoOND8CGggaLxU3KikwBTQIRzUUOxArHyc9HxsmJS4RQAsdHzk5FUMEGigzAkgfHwpBOSwQHSwCEyIkDAo7OB8LCwI6GiMYCAQGIywNHwMSAzseBw8eJTcfDzYbPDY8RA4rNh8yPCsIDRg1QRBHBhAbN0clEBFHRBNEKQwaGDQ1NQUzIy4XLzknGi0NC0UHEysGDwVCKiQ2GRoNFEguQUc6PQpFHhITRzweOSUXNjYrJDYpFx0LFkgdDys7SDs2MidFNjwiEDsVNRkvFCgVDRs0HjQnEEcXLSYlES0DGwsvLwc7Ex8FHUceBC4VNiogEwhGDxUKIx0PJ0YhGShIHRM+QAo+HwErJhofMhYxMhQyMRQZBBUkGyoEJBwZPTYgIi8CFiEWCiU+HC8EGCxAOhw4BCc7CyM6LxA9KEQrJw8TRR05NTZFBjEJIjwdOw0eG0gSIDEPJQYwMCEEMjcCBTpEODMpCQY/GBdDRTw1CiNGRTBEIQ8mCRtGGRQgGxM7IRIMIBswOw4eAjYpLx4LFUU+Eyc4OBMEPkFDNEIrRDI6RBgfQQ4fERILKUYVMEIhDAMXBQg/HypDIz4BKycILxAVGwETLhoTChsrFgFHNR4eFQ02IDZIJBYRBCstLw8XHigwGRM2KRwOOCZELTEhFQMwAig1DjArLA==",
          "dtype": "i1"
         }
        },
        {
         "boxpoints": "all",
         "jitter": 0.3,
         "name": "Encryption",
         "pointpos": 1.8,
         "type": "box",
         "y": {
          "bdata": "QCQ4GD09HwxFMz8KDBRGG0IEJBIpJRkYKCUWPkACNx89FkALFCc4KQowJEIsFjUdMDU4PyxDKx4sLz1CEhMpPQYYLSc/QRA5DEU3MjUhJgoGPyQkOwsIQD0EHhkeNiwSMwwWMSE5NxQRJxAaKSoRQT0tFixHOBcGIR03HTE9AjMcSBstECgNJQ8EMhovPRUbQkMERCcjCTkRMCRIKxENIUI8LEZHIRQsHBlEMzc7PycOOzlAPkQWBi8OJEIBRQgXSDtHNQYEOxQmMRwEMgklKgFFCg8nFAoLOiIXNCVCJQ0xSCUGLA4bLiMyEiRIMRxHQQQNCDUpPQ5IEAYCHRcHLCU1HhQrGAwDFgEBEQkSMCAVFQ4HQCJCETs/OCY9GDFACCYDEh9CLTE3FxcBA0YCORBFD0E/IiwhDkYUFRoRRwsRFz4IQw03BD0OHBU6LwM4Qx0vKytIGCgZDEEUCEMFCg0sHy85My5IJz0oLQgsJQI7FSgCDAQLMh47NDIrC0YaFC03HQkCQh0hMxEiJ0AaGBorQxQdDjgeQzIyHDwTRgYQFgVCOiQtFEYvAhVDEUgcKA8HEzk7FB41Bw0eGhYiKgtGRRcaPDM/GD09DjsbFRcCQz0BCycIEQo9BUEtKjs5FQsxLikTDjIYD0hBEiAvHRIbLjkUKyREAiAiNhoIGxI/EisvBDZHFEgEKBEGMEIpPSwFCzICKwQEPB1BNUQuCQhGIToNBEMpIDoPSBMCRjM5BTQJGjc+IDM4HDEvEwoSI0ISOwU+EzAGHxI+MTwOOA==",
          "dtype": "i1"
         }
        }
       ],
       "layout": {
        "showlegend": true,
        "template": {
         "data": {
          "bar": [
           {
            "error_x": {
             "color": "#2a3f5f"
            },
            "error_y": {
             "color": "#2a3f5f"
            },
            "marker": {
             "line": {
              "color": "#E5ECF6",
              "width": 0.5
             },
             "pattern": {
              "fillmode": "overlay",
              "size": 10,
              "solidity": 0.2
             }
            },
            "type": "bar"
           }
          ],
          "barpolar": [
           {
            "marker": {
             "line": {
              "color": "#E5ECF6",
              "width": 0.5
             },
             "pattern": {
              "fillmode": "overlay",
              "size": 10,
              "solidity": 0.2
             }
            },
            "type": "barpolar"
           }
          ],
          "carpet": [
           {
            "aaxis": {
             "endlinecolor": "#2a3f5f",
             "gridcolor": "white",
             "linecolor": "white",
             "minorgridcolor": "white",
             "startlinecolor": "#2a3f5f"
            },
            "baxis": {
             "endlinecolor": "#2a3f5f",
             "gridcolor": "white",
             "linecolor": "white",
             "minorgridcolor": "white",
             "startlinecolor": "#2a3f5f"
            },
            "type": "carpet"
           }
          ],
          "choropleth": [
           {
            "colorbar": {
             "outlinewidth": 0,
             "ticks": ""
            },
            "type": "choropleth"
           }
          ],
          "contour": [
           {
            "colorbar": {
             "outlinewidth": 0,
             "ticks": ""
            },
            "colorscale": [
             [
              0,
              "#0d0887"
             ],
             [
              0.1111111111111111,
              "#46039f"
             ],
             [
              0.2222222222222222,
              "#7201a8"
             ],
             [
              0.3333333333333333,
              "#9c179e"
             ],
             [
              0.4444444444444444,
              "#bd3786"
             ],
             [
              0.5555555555555556,
              "#d8576b"
             ],
             [
              0.6666666666666666,
              "#ed7953"
             ],
             [
              0.7777777777777778,
              "#fb9f3a"
             ],
             [
              0.8888888888888888,
              "#fdca26"
             ],
             [
              1,
              "#f0f921"
             ]
            ],
            "type": "contour"
           }
          ],
          "contourcarpet": [
           {
            "colorbar": {
             "outlinewidth": 0,
             "ticks": ""
            },
            "type": "contourcarpet"
           }
          ],
          "heatmap": [
           {
            "colorbar": {
             "outlinewidth": 0,
             "ticks": ""
            },
            "colorscale": [
             [
              0,
              "#0d0887"
             ],
             [
              0.1111111111111111,
              "#46039f"
             ],
             [
              0.2222222222222222,
              "#7201a8"
             ],
             [
              0.3333333333333333,
              "#9c179e"
             ],
             [
              0.4444444444444444,
              "#bd3786"
             ],
             [
              0.5555555555555556,
              "#d8576b"
             ],
             [
              0.6666666666666666,
              "#ed7953"
             ],
             [
              0.7777777777777778,
              "#fb9f3a"
             ],
             [
              0.8888888888888888,
              "#fdca26"
             ],
             [
              1,
              "#f0f921"
             ]
            ],
            "type": "heatmap"
           }
          ],
          "histogram": [
           {
            "marker": {
             "pattern": {
              "fillmode": "overlay",
              "size": 10,
              "solidity": 0.2
             }
            },
            "type": "histogram"
           }
          ],
          "histogram2d": [
           {
            "colorbar": {
             "outlinewidth": 0,
             "ticks": ""
            },
            "colorscale": [
             [
              0,
              "#0d0887"
             ],
             [
              0.1111111111111111,
              "#46039f"
             ],
             [
              0.2222222222222222,
              "#7201a8"
             ],
             [
              0.3333333333333333,
              "#9c179e"
             ],
             [
              0.4444444444444444,
              "#bd3786"
             ],
             [
              0.5555555555555556,
              "#d8576b"
             ],
             [
              0.6666666666666666,
              "#ed7953"
             ],
             [
              0.7777777777777778,
              "#fb9f3a"
             ],
             [
              0.8888888888888888,
              "#fdca26"
             ],
             [
              1,
              "#f0f921"
             ]
            ],
            "type": "histogram2d"
           }
          ],
          "histogram2dcontour": [
           {
            "colorbar": {
             "outlinewidth": 0,
             "ticks": ""
            },
            "colorscale": [
             [
              0,
              "#0d0887"
             ],
             [
              0.1111111111111111,
              "#46039f"
             ],
             [
              0.2222222222222222,
              "#7201a8"
             ],
             [
              0.3333333333333333,
              "#9c179e"
             ],
             [
              0.4444444444444444,
              "#bd3786"
             ],
             [
              0.5555555555555556,
              "#d8576b"
             ],
             [
              0.6666666666666666,
              "#ed7953"
             ],
             [
              0.7777777777777778,
              "#fb9f3a"
             ],
             [
              0.8888888888888888,
              "#fdca26"
             ],
             [
              1,
              "#f0f921"
             ]
            ],
            "type": "histogram2dcontour"
           }
          ],
          "mesh3d": [
           {
            "colorbar": {
             "outlinewidth": 0,
             "ticks": ""
            },
            "type": "mesh3d"
           }
          ],
          "parcoords": [
           {
            "line": {
             "colorbar": {
              "outlinewidth": 0,
              "ticks": ""
             }
            },
            "type": "parcoords"
           }
          ],
          "pie": [
           {
            "automargin": true,
            "type": "pie"
           }
          ],
          "scatter": [
           {
            "fillpattern": {
             "fillmode": "overlay",
             "size": 10,
             "solidity": 0.2
            },
            "type": "scatter"
           }
          ],
          "scatter3d": [
           {
            "line": {
             "colorbar": {
              "outlinewidth": 0,
              "ticks": ""
             }
            },
            "marker": {
             "colorbar": {
              "outlinewidth": 0,
              "ticks": ""
             }
            },
            "type": "scatter3d"
           }
          ],
          "scattercarpet": [
           {
            "marker": {
             "colorbar": {
              "outlinewidth": 0,
              "ticks": ""
             }
            },
            "type": "scattercarpet"
           }
          ],
          "scattergeo": [
           {
            "marker": {
             "colorbar": {
              "outlinewidth": 0,
              "ticks": ""
             }
            },
            "type": "scattergeo"
           }
          ],
          "scattergl": [
           {
            "marker": {
             "colorbar": {
              "outlinewidth": 0,
              "ticks": ""
             }
            },
            "type": "scattergl"
           }
          ],
          "scattermap": [
           {
            "marker": {
             "colorbar": {
              "outlinewidth": 0,
              "ticks": ""
             }
            },
            "type": "scattermap"
           }
          ],
          "scattermapbox": [
           {
            "marker": {
             "colorbar": {
              "outlinewidth": 0,
              "ticks": ""
             }
            },
            "type": "scattermapbox"
           }
          ],
          "scatterpolar": [
           {
            "marker": {
             "colorbar": {
              "outlinewidth": 0,
              "ticks": ""
             }
            },
            "type": "scatterpolar"
           }
          ],
          "scatterpolargl": [
           {
            "marker": {
             "colorbar": {
              "outlinewidth": 0,
              "ticks": ""
             }
            },
            "type": "scatterpolargl"
           }
          ],
          "scatterternary": [
           {
            "marker": {
             "colorbar": {
              "outlinewidth": 0,
              "ticks": ""
             }
            },
            "type": "scatterternary"
           }
          ],
          "surface": [
           {
            "colorbar": {
             "outlinewidth": 0,
             "ticks": ""
            },
            "colorscale": [
             [
              0,
              "#0d0887"
             ],
             [
              0.1111111111111111,
              "#46039f"
             ],
             [
              0.2222222222222222,
              "#7201a8"
             ],
             [
              0.3333333333333333,
              "#9c179e"
             ],
             [
              0.4444444444444444,
              "#bd3786"
             ],
             [
              0.5555555555555556,
              "#d8576b"
             ],
             [
              0.6666666666666666,
              "#ed7953"
             ],
             [
              0.7777777777777778,
              "#fb9f3a"
             ],
             [
              0.8888888888888888,
              "#fdca26"
             ],
             [
              1,
              "#f0f921"
             ]
            ],
            "type": "surface"
           }
          ],
          "table": [
           {
            "cells": {
             "fill": {
              "color": "#EBF0F8"
             },
             "line": {
              "color": "white"
             }
            },
            "header": {
             "fill": {
              "color": "#C8D4E3"
             },
             "line": {
              "color": "white"
             }
            },
            "type": "table"
           }
          ]
         },
         "layout": {
          "annotationdefaults": {
           "arrowcolor": "#2a3f5f",
           "arrowhead": 0,
           "arrowwidth": 1
          },
          "autotypenumbers": "strict",
          "coloraxis": {
           "colorbar": {
            "outlinewidth": 0,
            "ticks": ""
           }
          },
          "colorscale": {
           "diverging": [
            [
             0,
             "#8e0152"
            ],
            [
             0.1,
             "#c51b7d"
            ],
            [
             0.2,
             "#de77ae"
            ],
            [
             0.3,
             "#f1b6da"
            ],
            [
             0.4,
             "#fde0ef"
            ],
            [
             0.5,
             "#f7f7f7"
            ],
            [
             0.6,
             "#e6f5d0"
            ],
            [
             0.7,
             "#b8e186"
            ],
            [
             0.8,
             "#7fbc41"
            ],
            [
             0.9,
             "#4d9221"
            ],
            [
             1,
             "#276419"
            ]
           ],
           "sequential": [
            [
             0,
             "#0d0887"
            ],
            [
             0.1111111111111111,
             "#46039f"
            ],
            [
             0.2222222222222222,
             "#7201a8"
            ],
            [
             0.3333333333333333,
             "#9c179e"
            ],
            [
             0.4444444444444444,
             "#bd3786"
            ],
            [
             0.5555555555555556,
             "#d8576b"
            ],
            [
             0.6666666666666666,
             "#ed7953"
            ],
            [
             0.7777777777777778,
             "#fb9f3a"
            ],
            [
             0.8888888888888888,
             "#fdca26"
            ],
            [
             1,
             "#f0f921"
            ]
           ],
           "sequentialminus": [
            [
             0,
             "#0d0887"
            ],
            [
             0.1111111111111111,
             "#46039f"
            ],
            [
             0.2222222222222222,
             "#7201a8"
            ],
            [
             0.3333333333333333,
             "#9c179e"
            ],
            [
             0.4444444444444444,
             "#bd3786"
            ],
            [
             0.5555555555555556,
             "#d8576b"
            ],
            [
             0.6666666666666666,
             "#ed7953"
            ],
            [
             0.7777777777777778,
             "#fb9f3a"
            ],
            [
             0.8888888888888888,
             "#fdca26"
            ],
            [
             1,
             "#f0f921"
            ]
           ]
          },
          "colorway": [
           "#636efa",
           "#EF553B",
           "#00cc96",
           "#ab63fa",
           "#FFA15A",
           "#19d3f3",
           "#FF6692",
           "#B6E880",
           "#FF97FF",
           "#FECB52"
          ],
          "font": {
           "color": "#2a3f5f"
          },
          "geo": {
           "bgcolor": "white",
           "lakecolor": "white",
           "landcolor": "#E5ECF6",
           "showlakes": true,
           "showland": true,
           "subunitcolor": "white"
          },
          "hoverlabel": {
           "align": "left"
          },
          "hovermode": "closest",
          "mapbox": {
           "style": "light"
          },
          "paper_bgcolor": "white",
          "plot_bgcolor": "#E5ECF6",
          "polar": {
           "angularaxis": {
            "gridcolor": "white",
            "linecolor": "white",
            "ticks": ""
           },
           "bgcolor": "#E5ECF6",
           "radialaxis": {
            "gridcolor": "white",
            "linecolor": "white",
            "ticks": ""
           }
          },
          "scene": {
           "xaxis": {
            "backgroundcolor": "#E5ECF6",
            "gridcolor": "white",
            "gridwidth": 2,
            "linecolor": "white",
            "showbackground": true,
            "ticks": "",
            "zerolinecolor": "white"
           },
           "yaxis": {
            "backgroundcolor": "#E5ECF6",
            "gridcolor": "white",
            "gridwidth": 2,
            "linecolor": "white",
            "showbackground": true,
            "ticks": "",
            "zerolinecolor": "white"
           },
           "zaxis": {
            "backgroundcolor": "#E5ECF6",
            "gridcolor": "white",
            "gridwidth": 2,
            "linecolor": "white",
            "showbackground": true,
            "ticks": "",
            "zerolinecolor": "white"
           }
          },
          "shapedefaults": {
           "line": {
            "color": "#2a3f5f"
           }
          },
          "ternary": {
           "aaxis": {
            "gridcolor": "white",
            "linecolor": "white",
            "ticks": ""
           },
           "baxis": {
            "gridcolor": "white",
            "linecolor": "white",
            "ticks": ""
           },
           "bgcolor": "#E5ECF6",
           "caxis": {
            "gridcolor": "white",
            "linecolor": "white",
            "ticks": ""
           }
          },
          "title": {
           "x": 0.05
          },
          "xaxis": {
           "automargin": true,
           "gridcolor": "white",
           "linecolor": "white",
           "ticks": "",
           "title": {
            "standoff": 15
           },
           "zerolinecolor": "white",
           "zerolinewidth": 2
          },
          "yaxis": {
           "automargin": true,
           "gridcolor": "white",
           "linecolor": "white",
           "ticks": "",
           "title": {
            "standoff": 15
           },
           "zerolinecolor": "white",
           "zerolinewidth": 2
          }
         }
        },
        "title": {
         "text": "Resolution Time distribution by Defence Mechanism"
        },
        "xaxis": {
         "anchor": "y",
         "domain": [
          0,
          1
         ]
        },
        "yaxis": {
         "anchor": "x",
         "domain": [
          0,
          1
         ],
         "title": {
          "text": "Incident Resolution Time (hours)"
         }
        }
       }
      }
     },
     "metadata": {},
     "output_type": "display_data"
    }
   ],
   "source": [
    "defence_resolution = df.groupby('Defense Mechanism Used')['Incident Resolution Time (in Hours)'].agg(['mean', 'min', 'max']).reset_index()\n",
    "\n",
    "fig = make_subplots(rows=1, cols=1)\n",
    "\n",
    "for defence in df['Defense Mechanism Used'].unique():\n",
    "    defence_data = df[df['Defense Mechanism Used'] == defence]['Incident Resolution Time (in Hours)']\n",
    "    fig.add_trace(\n",
    "        go.Box(\n",
    "            y = defence_data,\n",
    "            name = defence,\n",
    "            boxpoints='all',\n",
    "            jitter=0.3,\n",
    "            pointpos=1.8\n",
    "        \n",
    "        )\n",
    "\n",
    "    )\n",
    "\n",
    "fig.update_layout(\n",
    "    title_text = 'Resolution Time distribution by Defence Mechanism',\n",
    "    yaxis_title = 'Incident Resolution Time (hours)',\n",
    "    showlegend = True\n",
    ")\n",
    "\n",
    "\n",
    "\n",
    "\n",
    "fig.show()"
   ]
  },
  {
   "cell_type": "code",
   "execution_count": 66,
   "id": "612d1362",
   "metadata": {},
   "outputs": [
    {
     "data": {
      "text/html": [
       "<div>\n",
       "<style scoped>\n",
       "    .dataframe tbody tr th:only-of-type {\n",
       "        vertical-align: middle;\n",
       "    }\n",
       "\n",
       "    .dataframe tbody tr th {\n",
       "        vertical-align: top;\n",
       "    }\n",
       "\n",
       "    .dataframe thead th {\n",
       "        text-align: right;\n",
       "    }\n",
       "</style>\n",
       "<table border=\"1\" class=\"dataframe\">\n",
       "  <thead>\n",
       "    <tr style=\"text-align: right;\">\n",
       "      <th></th>\n",
       "      <th>Country</th>\n",
       "      <th>Year</th>\n",
       "      <th>Attack Type</th>\n",
       "      <th>Target Industry</th>\n",
       "      <th>Financial Loss (in Million $)</th>\n",
       "      <th>Number of Affected Users</th>\n",
       "      <th>Attack Source</th>\n",
       "      <th>Security Vulnerability Type</th>\n",
       "      <th>Defense Mechanism Used</th>\n",
       "      <th>Incident Resolution Time (in Hours)</th>\n",
       "      <th>Cost Per User</th>\n",
       "    </tr>\n",
       "  </thead>\n",
       "  <tbody>\n",
       "    <tr>\n",
       "      <th>0</th>\n",
       "      <td>China</td>\n",
       "      <td>2019</td>\n",
       "      <td>Phishing</td>\n",
       "      <td>Education</td>\n",
       "      <td>80.53</td>\n",
       "      <td>773169</td>\n",
       "      <td>Hacker Group</td>\n",
       "      <td>Unpatched Software</td>\n",
       "      <td>VPN</td>\n",
       "      <td>63</td>\n",
       "      <td>104.155754</td>\n",
       "    </tr>\n",
       "    <tr>\n",
       "      <th>1</th>\n",
       "      <td>China</td>\n",
       "      <td>2019</td>\n",
       "      <td>Ransomware</td>\n",
       "      <td>Retail</td>\n",
       "      <td>62.19</td>\n",
       "      <td>295961</td>\n",
       "      <td>Hacker Group</td>\n",
       "      <td>Unpatched Software</td>\n",
       "      <td>Firewall</td>\n",
       "      <td>71</td>\n",
       "      <td>210.129037</td>\n",
       "    </tr>\n",
       "    <tr>\n",
       "      <th>2</th>\n",
       "      <td>India</td>\n",
       "      <td>2017</td>\n",
       "      <td>Man-in-the-Middle</td>\n",
       "      <td>IT</td>\n",
       "      <td>38.65</td>\n",
       "      <td>605895</td>\n",
       "      <td>Hacker Group</td>\n",
       "      <td>Weak Passwords</td>\n",
       "      <td>VPN</td>\n",
       "      <td>20</td>\n",
       "      <td>63.789931</td>\n",
       "    </tr>\n",
       "    <tr>\n",
       "      <th>3</th>\n",
       "      <td>UK</td>\n",
       "      <td>2024</td>\n",
       "      <td>Ransomware</td>\n",
       "      <td>Telecommunications</td>\n",
       "      <td>41.44</td>\n",
       "      <td>659320</td>\n",
       "      <td>Nation-state</td>\n",
       "      <td>Social Engineering</td>\n",
       "      <td>AI-based Detection</td>\n",
       "      <td>7</td>\n",
       "      <td>62.852636</td>\n",
       "    </tr>\n",
       "    <tr>\n",
       "      <th>4</th>\n",
       "      <td>Germany</td>\n",
       "      <td>2018</td>\n",
       "      <td>Man-in-the-Middle</td>\n",
       "      <td>IT</td>\n",
       "      <td>74.41</td>\n",
       "      <td>810682</td>\n",
       "      <td>Insider</td>\n",
       "      <td>Social Engineering</td>\n",
       "      <td>VPN</td>\n",
       "      <td>68</td>\n",
       "      <td>91.786915</td>\n",
       "    </tr>\n",
       "  </tbody>\n",
       "</table>\n",
       "</div>"
      ],
      "text/plain": [
       "   Country  Year        Attack Type     Target Industry  \\\n",
       "0    China  2019           Phishing           Education   \n",
       "1    China  2019         Ransomware              Retail   \n",
       "2    India  2017  Man-in-the-Middle                  IT   \n",
       "3       UK  2024         Ransomware  Telecommunications   \n",
       "4  Germany  2018  Man-in-the-Middle                  IT   \n",
       "\n",
       "   Financial Loss (in Million $)  Number of Affected Users Attack Source  \\\n",
       "0                          80.53                    773169  Hacker Group   \n",
       "1                          62.19                    295961  Hacker Group   \n",
       "2                          38.65                    605895  Hacker Group   \n",
       "3                          41.44                    659320  Nation-state   \n",
       "4                          74.41                    810682       Insider   \n",
       "\n",
       "  Security Vulnerability Type Defense Mechanism Used  \\\n",
       "0          Unpatched Software                    VPN   \n",
       "1          Unpatched Software               Firewall   \n",
       "2              Weak Passwords                    VPN   \n",
       "3          Social Engineering     AI-based Detection   \n",
       "4          Social Engineering                    VPN   \n",
       "\n",
       "   Incident Resolution Time (in Hours)  Cost Per User  \n",
       "0                                   63     104.155754  \n",
       "1                                   71     210.129037  \n",
       "2                                   20      63.789931  \n",
       "3                                    7      62.852636  \n",
       "4                                   68      91.786915  "
      ]
     },
     "execution_count": 66,
     "metadata": {},
     "output_type": "execute_result"
    }
   ],
   "source": [
    "df.head()"
   ]
  }
 ],
 "metadata": {
  "kernelspec": {
   "display_name": "Python 3",
   "language": "python",
   "name": "python3"
  },
  "language_info": {
   "codemirror_mode": {
    "name": "ipython",
    "version": 3
   },
   "file_extension": ".py",
   "mimetype": "text/x-python",
   "name": "python",
   "nbconvert_exporter": "python",
   "pygments_lexer": "ipython3",
   "version": "3.13.1"
  }
 },
 "nbformat": 4,
 "nbformat_minor": 5
}
